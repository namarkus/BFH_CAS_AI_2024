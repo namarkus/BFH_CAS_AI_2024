{
  "cells": [
    {
      "cell_type": "markdown",
      "source": [
        "# Übungen RAG mit PDF-Dateien als Basis (Hausaufgabe #8)"
      ],
      "metadata": {
        "id": "X3sGcgXSeI9y"
      },
      "id": "X3sGcgXSeI9y"
    },
    {
      "cell_type": "markdown",
      "source": [
        "## Aufgabe\n",
        "\n",
        "- Eigenen Use Case definieren, dementsprechend sind auche eigene PDFS zu verwenden.\n",
        "- TPM (token per minute) Limit Problem angehen\n",
        "- Text chunking\n",
        "- Text cleaning\n",
        "- Embeddings - hugging face vs OpenAI\n",
        "- System-prompt und User-Prompt (für den 2 Fall wo man am Ende Fragen an GPT schickt)\n",
        "- Parameter variieren (temperature=0, top_p=0.1)\n",
        "- Mit RAG ohne RAG vergleich\n",
        "- Fazit (und was kann man besser machen - wie z.B. Datenbank etc)"
      ],
      "metadata": {
        "id": "kif4N0noeeYY"
      },
      "id": "kif4N0noeeYY"
    },
    {
      "cell_type": "markdown",
      "source": [
        "## Übungssetup\n",
        "\n",
        "### Teammitglieder Gruppe 3\n",
        "\n",
        "- Hans Wermelinger\n",
        "- Helmut Gehrer\n",
        "- Markus Näpflin\n",
        "- Nils Hryciuk\n",
        "- Stefano Mavilio\n",
        "\n",
        "### Laufzeitumgebung\n",
        "\n",
        "Die benötigten Module werden mit `apt-get`, `npm` und `pip` bei Bedarf installiert.\n",
        "\n",
        "Folgendes wird jedoch zusätzlich benötigt:\n",
        "\n",
        "- Lesezugriff auf GitHub Respository NAMARKUS (derzeit öffentlich zugänglich)\n",
        "- **API-Key** für die Nutzung der **OpenAI Rest-API**.\n",
        "  - Unter **Google-Colab** muss dieser als **Secret `OPENAI_API_KEY`** hinterlegt werden.\n",
        "  - Lokal sollte eine Umgebungsvariable mit dem gleichen Namen vorhanden sein."
      ],
      "metadata": {
        "id": "q4HeO7qOen3d"
      },
      "id": "q4HeO7qOen3d"
    },
    {
      "cell_type": "markdown",
      "source": [
        "## Setup der Umgebung\n",
        "\n",
        "In den folgenden Blocks erfolgt das Setup der benötigten Tools.\n",
        "\n",
        "Wir benötigen einige Libraries um die PDFs via Image in Texte zu konvertieren.\n",
        "\n",
        "💾 Für die lokale Ausführung muss `poppler`auf der eigenen Maschine installiert sein, damit `pdf2image` funktioniert. Weitere Details siehe [hier](https://pypi.org/project/pdf2image/)."
      ],
      "metadata": {
        "id": "JkJBRFmrg_9S"
      },
      "id": "JkJBRFmrg_9S"
    },
    {
      "cell_type": "markdown",
      "source": [
        "#### Poppler\n",
        "\n",
        "Für PDF zu Bild-Konvertierung"
      ],
      "metadata": {
        "id": "ZvqBSa_yqHqf"
      },
      "id": "ZvqBSa_yqHqf"
    },
    {
      "cell_type": "code",
      "execution_count": null,
      "id": "cpD4rEtJy2pD",
      "metadata": {
        "id": "cpD4rEtJy2pD",
        "colab": {
          "base_uri": "https://localhost:8080/"
        },
        "outputId": "37dfb4d3-4054-458e-fa0c-207768722cca"
      },
      "outputs": [
        {
          "output_type": "stream",
          "name": "stdout",
          "text": [
            "Reading package lists... Done\n",
            "Building dependency tree... Done\n",
            "Reading state information... Done\n",
            "The following NEW packages will be installed:\n",
            "  poppler-utils\n",
            "0 upgraded, 1 newly installed, 0 to remove and 49 not upgraded.\n",
            "Need to get 186 kB of archives.\n",
            "After this operation, 696 kB of additional disk space will be used.\n",
            "Get:1 http://archive.ubuntu.com/ubuntu jammy-updates/main amd64 poppler-utils amd64 22.02.0-2ubuntu0.5 [186 kB]\n",
            "Fetched 186 kB in 2s (104 kB/s)\n",
            "Selecting previously unselected package poppler-utils.\n",
            "(Reading database ... 123633 files and directories currently installed.)\n",
            "Preparing to unpack .../poppler-utils_22.02.0-2ubuntu0.5_amd64.deb ...\n",
            "Unpacking poppler-utils (22.02.0-2ubuntu0.5) ...\n",
            "Setting up poppler-utils (22.02.0-2ubuntu0.5) ...\n",
            "Processing triggers for man-db (2.10.2-1) ...\n"
          ]
        }
      ],
      "source": [
        "!apt-get install poppler-utils"
      ]
    },
    {
      "cell_type": "markdown",
      "source": [
        "#### Degit\n",
        "\n",
        "Für das Clonen von einzelnen Verzeichnissen (PDF-Dateien) aus GitHub."
      ],
      "metadata": {
        "id": "BYGeeC8ZqOKt"
      },
      "id": "BYGeeC8ZqOKt"
    },
    {
      "cell_type": "code",
      "source": [
        "!npm install degit"
      ],
      "metadata": {
        "id": "hZM0pFHuo2ts",
        "colab": {
          "base_uri": "https://localhost:8080/"
        },
        "outputId": "ab2c57ec-bfba-4cf7-94b4-a8daceac875c"
      },
      "id": "hZM0pFHuo2ts",
      "execution_count": null,
      "outputs": [
        {
          "output_type": "stream",
          "name": "stdout",
          "text": [
            "\u001b[1G\u001b[0K⠙\u001b[1G\u001b[0K⠹\u001b[1G\u001b[0K⠸\u001b[1G\u001b[0K⠼\u001b[1G\u001b[0K⠴\u001b[1G\u001b[0K⠦\u001b[1G\u001b[0K⠧\u001b[1G\u001b[0K⠇\u001b[1G\u001b[0K⠏\u001b[1G\u001b[0K⠋\u001b[1G\u001b[0K⠙\u001b[1G\u001b[0K\n",
            "added 1 package in 2s\n",
            "\u001b[1G\u001b[0K⠙\u001b[1G\u001b[0K"
          ]
        }
      ]
    },
    {
      "cell_type": "markdown",
      "source": [
        "#### Python-Module\n",
        "\n",
        "Diverse Module, die im ganzen Workflow benötigt werden."
      ],
      "metadata": {
        "id": "PYBYFgnFqc-2"
      },
      "id": "PYBYFgnFqc-2"
    },
    {
      "cell_type": "code",
      "execution_count": null,
      "id": "6784d73e",
      "metadata": {
        "id": "6784d73e",
        "colab": {
          "base_uri": "https://localhost:8080/"
        },
        "outputId": "8018ad03-d542-4514-a2bb-24fca5218891"
      },
      "outputs": [
        {
          "output_type": "stream",
          "name": "stdout",
          "text": [
            "Collecting pdf2image\n",
            "  Downloading pdf2image-1.17.0-py3-none-any.whl.metadata (6.2 kB)\n",
            "Requirement already satisfied: pillow in /usr/local/lib/python3.10/dist-packages (from pdf2image) (11.0.0)\n",
            "Downloading pdf2image-1.17.0-py3-none-any.whl (11 kB)\n",
            "Installing collected packages: pdf2image\n",
            "Successfully installed pdf2image-1.17.0\n",
            "Collecting pdfminer\n",
            "  Downloading pdfminer-20191125.tar.gz (4.2 MB)\n",
            "\u001b[2K     \u001b[90m━━━━━━━━━━━━━━━━━━━━━━━━━━━━━━━━━━━━━━━━\u001b[0m \u001b[32m4.2/4.2 MB\u001b[0m \u001b[31m34.5 MB/s\u001b[0m eta \u001b[36m0:00:00\u001b[0m\n",
            "\u001b[?25h  Preparing metadata (setup.py) ... \u001b[?25l\u001b[?25hdone\n",
            "Collecting pycryptodome (from pdfminer)\n",
            "  Downloading pycryptodome-3.21.0-cp36-abi3-manylinux_2_17_x86_64.manylinux2014_x86_64.whl.metadata (3.4 kB)\n",
            "Downloading pycryptodome-3.21.0-cp36-abi3-manylinux_2_17_x86_64.manylinux2014_x86_64.whl (2.3 MB)\n",
            "\u001b[2K   \u001b[90m━━━━━━━━━━━━━━━━━━━━━━━━━━━━━━━━━━━━━━━━\u001b[0m \u001b[32m2.3/2.3 MB\u001b[0m \u001b[31m46.8 MB/s\u001b[0m eta \u001b[36m0:00:00\u001b[0m\n",
            "\u001b[?25hBuilding wheels for collected packages: pdfminer\n",
            "  Building wheel for pdfminer (setup.py) ... \u001b[?25l\u001b[?25hdone\n",
            "  Created wheel for pdfminer: filename=pdfminer-20191125-py3-none-any.whl size=6140069 sha256=627d5ed0fbfe35c90d3a19d42480ca12c28ebc765e0c868526e63bc2eadf238f\n",
            "  Stored in directory: /root/.cache/pip/wheels/4e/c1/68/f7bd0a8f514661f76b5cbe3b5f76e0033d79f1296012cbbf72\n",
            "Successfully built pdfminer\n",
            "Installing collected packages: pycryptodome, pdfminer\n",
            "Successfully installed pdfminer-20191125 pycryptodome-3.21.0\n",
            "Collecting pdfminer.six\n",
            "  Downloading pdfminer.six-20240706-py3-none-any.whl.metadata (4.1 kB)\n",
            "Requirement already satisfied: charset-normalizer>=2.0.0 in /usr/local/lib/python3.10/dist-packages (from pdfminer.six) (3.4.0)\n",
            "Requirement already satisfied: cryptography>=36.0.0 in /usr/local/lib/python3.10/dist-packages (from pdfminer.six) (43.0.3)\n",
            "Requirement already satisfied: cffi>=1.12 in /usr/local/lib/python3.10/dist-packages (from cryptography>=36.0.0->pdfminer.six) (1.17.1)\n",
            "Requirement already satisfied: pycparser in /usr/local/lib/python3.10/dist-packages (from cffi>=1.12->cryptography>=36.0.0->pdfminer.six) (2.22)\n",
            "Downloading pdfminer.six-20240706-py3-none-any.whl (5.6 MB)\n",
            "\u001b[2K   \u001b[90m━━━━━━━━━━━━━━━━━━━━━━━━━━━━━━━━━━━━━━━━\u001b[0m \u001b[32m5.6/5.6 MB\u001b[0m \u001b[31m36.3 MB/s\u001b[0m eta \u001b[36m0:00:00\u001b[0m\n",
            "\u001b[?25hInstalling collected packages: pdfminer.six\n",
            "Successfully installed pdfminer.six-20240706\n",
            "Collecting openai==1.57.0\n",
            "  Downloading openai-1.57.0-py3-none-any.whl.metadata (24 kB)\n",
            "Requirement already satisfied: anyio<5,>=3.5.0 in /usr/local/lib/python3.10/dist-packages (from openai==1.57.0) (3.7.1)\n",
            "Requirement already satisfied: distro<2,>=1.7.0 in /usr/local/lib/python3.10/dist-packages (from openai==1.57.0) (1.9.0)\n",
            "Requirement already satisfied: httpx<1,>=0.23.0 in /usr/local/lib/python3.10/dist-packages (from openai==1.57.0) (0.28.1)\n",
            "Requirement already satisfied: jiter<1,>=0.4.0 in /usr/local/lib/python3.10/dist-packages (from openai==1.57.0) (0.8.2)\n",
            "Requirement already satisfied: pydantic<3,>=1.9.0 in /usr/local/lib/python3.10/dist-packages (from openai==1.57.0) (2.10.3)\n",
            "Requirement already satisfied: sniffio in /usr/local/lib/python3.10/dist-packages (from openai==1.57.0) (1.3.1)\n",
            "Requirement already satisfied: tqdm>4 in /usr/local/lib/python3.10/dist-packages (from openai==1.57.0) (4.66.6)\n",
            "Requirement already satisfied: typing-extensions<5,>=4.11 in /usr/local/lib/python3.10/dist-packages (from openai==1.57.0) (4.12.2)\n",
            "Requirement already satisfied: idna>=2.8 in /usr/local/lib/python3.10/dist-packages (from anyio<5,>=3.5.0->openai==1.57.0) (3.10)\n",
            "Requirement already satisfied: exceptiongroup in /usr/local/lib/python3.10/dist-packages (from anyio<5,>=3.5.0->openai==1.57.0) (1.2.2)\n",
            "Requirement already satisfied: certifi in /usr/local/lib/python3.10/dist-packages (from httpx<1,>=0.23.0->openai==1.57.0) (2024.8.30)\n",
            "Requirement already satisfied: httpcore==1.* in /usr/local/lib/python3.10/dist-packages (from httpx<1,>=0.23.0->openai==1.57.0) (1.0.7)\n",
            "Requirement already satisfied: h11<0.15,>=0.13 in /usr/local/lib/python3.10/dist-packages (from httpcore==1.*->httpx<1,>=0.23.0->openai==1.57.0) (0.14.0)\n",
            "Requirement already satisfied: annotated-types>=0.6.0 in /usr/local/lib/python3.10/dist-packages (from pydantic<3,>=1.9.0->openai==1.57.0) (0.7.0)\n",
            "Requirement already satisfied: pydantic-core==2.27.1 in /usr/local/lib/python3.10/dist-packages (from pydantic<3,>=1.9.0->openai==1.57.0) (2.27.1)\n",
            "Downloading openai-1.57.0-py3-none-any.whl (389 kB)\n",
            "\u001b[2K   \u001b[90m━━━━━━━━━━━━━━━━━━━━━━━━━━━━━━━━━━━━━━━━\u001b[0m \u001b[32m389.9/389.9 kB\u001b[0m \u001b[31m6.5 MB/s\u001b[0m eta \u001b[36m0:00:00\u001b[0m\n",
            "\u001b[?25hInstalling collected packages: openai\n",
            "  Attempting uninstall: openai\n",
            "    Found existing installation: openai 1.54.5\n",
            "    Uninstalling openai-1.54.5:\n",
            "      Successfully uninstalled openai-1.54.5\n",
            "Successfully installed openai-1.57.0\n",
            "Requirement already satisfied: scikit-learn in /usr/local/lib/python3.10/dist-packages (1.5.2)\n",
            "Requirement already satisfied: numpy>=1.19.5 in /usr/local/lib/python3.10/dist-packages (from scikit-learn) (1.26.4)\n",
            "Requirement already satisfied: scipy>=1.6.0 in /usr/local/lib/python3.10/dist-packages (from scikit-learn) (1.13.1)\n",
            "Requirement already satisfied: joblib>=1.2.0 in /usr/local/lib/python3.10/dist-packages (from scikit-learn) (1.4.2)\n",
            "Requirement already satisfied: threadpoolctl>=3.1.0 in /usr/local/lib/python3.10/dist-packages (from scikit-learn) (3.5.0)\n",
            "Requirement already satisfied: rich in /usr/local/lib/python3.10/dist-packages (13.9.4)\n",
            "Requirement already satisfied: markdown-it-py>=2.2.0 in /usr/local/lib/python3.10/dist-packages (from rich) (3.0.0)\n",
            "Requirement already satisfied: pygments<3.0.0,>=2.13.0 in /usr/local/lib/python3.10/dist-packages (from rich) (2.18.0)\n",
            "Requirement already satisfied: typing-extensions<5.0,>=4.0.0 in /usr/local/lib/python3.10/dist-packages (from rich) (4.12.2)\n",
            "Requirement already satisfied: mdurl~=0.1 in /usr/local/lib/python3.10/dist-packages (from markdown-it-py>=2.2.0->rich) (0.1.2)\n",
            "Requirement already satisfied: tqdm in /usr/local/lib/python3.10/dist-packages (4.66.6)\n",
            "Requirement already satisfied: pandas in /usr/local/lib/python3.10/dist-packages (2.2.2)\n",
            "Requirement already satisfied: numpy>=1.22.4 in /usr/local/lib/python3.10/dist-packages (from pandas) (1.26.4)\n",
            "Requirement already satisfied: python-dateutil>=2.8.2 in /usr/local/lib/python3.10/dist-packages (from pandas) (2.8.2)\n",
            "Requirement already satisfied: pytz>=2020.1 in /usr/local/lib/python3.10/dist-packages (from pandas) (2024.2)\n",
            "Requirement already satisfied: tzdata>=2022.7 in /usr/local/lib/python3.10/dist-packages (from pandas) (2024.2)\n",
            "Requirement already satisfied: six>=1.5 in /usr/local/lib/python3.10/dist-packages (from python-dateutil>=2.8.2->pandas) (1.17.0)\n"
          ]
        }
      ],
      "source": [
        "%pip install pdf2image\n",
        "%pip install pdfminer\n",
        "%pip install pdfminer.six\n",
        "%pip install openai==1.57.0\n",
        "%pip install scikit-learn\n",
        "%pip install rich\n",
        "%pip install tqdm\n",
        "%pip install pandas"
      ]
    },
    {
      "cell_type": "code",
      "execution_count": null,
      "id": "f1f08b70",
      "metadata": {
        "id": "f1f08b70"
      },
      "outputs": [],
      "source": [
        "# Imports\n",
        "from pdf2image import convert_from_path\n",
        "from pdf2image.exceptions import (\n",
        "    PDFInfoNotInstalledError,\n",
        "    PDFPageCountError,\n",
        "    PDFSyntaxError\n",
        ")\n",
        "import pdfminer.high_level as pdf2text\n",
        "# from pdfminer.high_level import extract_text\n",
        "import base64\n",
        "import io\n",
        "import os\n",
        "import concurrent.futures\n",
        "from tqdm import tqdm\n",
        "from openai import OpenAI\n",
        "import re\n",
        "import pandas as pd\n",
        "from sklearn.metrics.pairwise import cosine_similarity\n",
        "import json\n",
        "import numpy as np\n",
        "from rich import print\n",
        "from ast import literal_eval"
      ]
    },
    {
      "cell_type": "markdown",
      "source": [
        "#### OpenAI API-Key\n",
        "\n",
        "Aus Colab-Secret-Storage oder Umgebungsvariable einlesen."
      ],
      "metadata": {
        "id": "eBmbNBiHq1VB"
      },
      "id": "eBmbNBiHq1VB"
    },
    {
      "cell_type": "code",
      "source": [
        "# Ermittelt den API-Key für OpenAPI abhängig von der Laufzeitumgebung.\n",
        "try:\n",
        "  from google.colab import userdata\n",
        "  openai_api_key = userdata.get(\"OPENAI_API_KEY\")\n",
        "except:\n",
        "  openai_api_key = os.getenv(\"OPENAI_API_KEY\")\n",
        "\n",
        "  if openai_api_key is None:\n",
        "      raise Exception(\"API-Key not found\")\n",
        "\n",
        "print(\"Key für Zugriff auf OpenAI Rest-API wurde gesetzt.\")\n"
      ],
      "metadata": {
        "id": "bjWL0Tuajc_U",
        "colab": {
          "base_uri": "https://localhost:8080/",
          "height": 54
        },
        "outputId": "053f78e1-7745-4491-dffa-dd79537ea6eb"
      },
      "id": "bjWL0Tuajc_U",
      "execution_count": null,
      "outputs": [
        {
          "output_type": "display_data",
          "data": {
            "text/plain": [
              "Key für Zugriff auf OpenAI Rest-API wurde gesetzt.\n"
            ],
            "text/html": [
              "<pre style=\"white-space:pre;overflow-x:auto;line-height:normal;font-family:Menlo,'DejaVu Sans Mono',consolas,'Courier New',monospace\">Key für Zugriff auf OpenAI Rest-API wurde gesetzt.\n",
              "</pre>\n"
            ]
          },
          "metadata": {}
        }
      ]
    },
    {
      "cell_type": "markdown",
      "id": "41992d04",
      "metadata": {
        "id": "41992d04"
      },
      "source": [
        "### Zu verarbeitende PDFs bereitstellen\n",
        "\n",
        "Die PDFs werden aus dem oben erwähnten GitHub-Repo geclont."
      ]
    },
    {
      "cell_type": "code",
      "source": [
        "!npx degit github:namarkus/BFH_CAS_AI_2024/Day08/Grp3/zvb_pdfs#main zvb_pdfs\n",
        "\n",
        "! ls -al ./zvb_pdfs"
      ],
      "metadata": {
        "id": "W6rOdqxtban-",
        "colab": {
          "base_uri": "https://localhost:8080/"
        },
        "outputId": "98727b2e-b7ba-4784-c143-e0531c11e2e2"
      },
      "id": "W6rOdqxtban-",
      "execution_count": null,
      "outputs": [
        {
          "output_type": "stream",
          "name": "stdout",
          "text": [
            "\u001b[1G\u001b[0K⠙\u001b[1G\u001b[0K"
          ]
        }
      ]
    },
    {
      "cell_type": "markdown",
      "id": "3e8f6820",
      "metadata": {
        "id": "3e8f6820"
      },
      "source": [
        "## Datenaufbereitung\n",
        "\n",
        "In diesem Abschnitt bereiten wir die DAten aus dem PDF für das Retrieval vor.\n",
        "\n",
        "Dafür existieren 2 Varianten:\n",
        "\n",
        "1. Text dirent mit `pdfminer`ermitteln\n",
        "2. PDF in Bilder konvertieren und diese dann mit GPT-4o analysieren lassen.\n",
        "\n",
        "> You can skip the 1st method if you want to only use the content inferred from the image analysis."
      ]
    },
    {
      "cell_type": "markdown",
      "id": "6f713d87",
      "metadata": {
        "id": "6f713d87"
      },
      "source": [
        "### Variante 1: pdfminer\n",
        "\n",
        "Mit pdfminer werden die Texte direkt aus dem PDF ausgelesen.\n"
      ]
    },
    {
      "cell_type": "code",
      "source": [
        "def extract_text_from_doc(path):\n",
        "    mined_text = pdf2text.extract_text(path)\n",
        "    return mined_text"
      ],
      "metadata": {
        "id": "7l33UB0AwEhH"
      },
      "id": "7l33UB0AwEhH",
      "execution_count": null,
      "outputs": []
    },
    {
      "cell_type": "code",
      "source": [
        "# Testen pdfminer\n",
        "test_file = \"zvb_pdfs/Helsana_sana_zvb.pdf\"\n",
        "text = extract_text_from_doc(test_file)\n",
        "print(text)"
      ],
      "metadata": {
        "id": "_GiQ_58uw5M8"
      },
      "id": "_GiQ_58uw5M8",
      "execution_count": null,
      "outputs": []
    },
    {
      "cell_type": "markdown",
      "id": "be69a779",
      "metadata": {
        "id": "be69a779"
      },
      "source": [
        "### Variante 2: Bildanalyse mit GPT-4o\n",
        "\n",
        "Nachdem ein Bild in mehrere Images konvertiert worden ist, diese durch ChatGPT in Text konvertieren lassen."
      ]
    },
    {
      "cell_type": "code",
      "execution_count": null,
      "id": "d6696a30",
      "metadata": {
        "id": "d6696a30"
      },
      "outputs": [],
      "source": [
        "def convert_doc_to_images(path):\n",
        "    images = convert_from_path(path)\n",
        "    return images\n",
        "\n"
      ]
    },
    {
      "cell_type": "code",
      "execution_count": null,
      "id": "88ab392d",
      "metadata": {
        "id": "88ab392d"
      },
      "outputs": [],
      "source": [
        "# Testen der obenstehenden Methode\n",
        "file_path =  \"zvb_pdfs/Helsana_sana_zvb.pdf\"\n",
        "images = convert_doc_to_images(file_path)\n",
        "print(f'Das PDF {file_path} besteht aus folgenden {len(images)} Seiten (Bildern)')\n",
        "for img in images:\n",
        "    display(img)"
      ]
    },
    {
      "cell_type": "code",
      "execution_count": null,
      "id": "eb376547",
      "metadata": {
        "id": "eb376547"
      },
      "outputs": [],
      "source": [
        "# Converting images to base64 encoded images in a data URI format to use with the ChatCompletions API\n",
        "def get_img_uri(img):\n",
        "    png_buffer = io.BytesIO()\n",
        "    img.save(png_buffer, format=\"PNG\")\n",
        "    png_buffer.seek(0)\n",
        "\n",
        "    base64_png = base64.b64encode(png_buffer.read()).decode('utf-8')\n",
        "\n",
        "    data_uri = f\"data:image/png;base64,{base64_png}\"\n",
        "    return data_uri"
      ]
    },
    {
      "cell_type": "code",
      "execution_count": null,
      "id": "62a606d7",
      "metadata": {
        "id": "62a606d7"
      },
      "outputs": [],
      "source": [
        "# Analysieren der Setite mithilfe von OpenAPI.\n",
        "def analyze_image(openai_client, system_prompt, data_uri):\n",
        "    response = openai_client.chat.completions.create(\n",
        "        model=\"gpt-4o\",\n",
        "        messages=[\n",
        "            {\"role\": \"system\", \"content\": system_prompt},\n",
        "            {\n",
        "                \"role\": \"user\",\n",
        "                \"content\": [\n",
        "                    {\n",
        "                    \"type\": \"image_url\",\n",
        "                    \"image_url\": {\n",
        "                        \"url\": f\"{data_uri}\"\n",
        "                    }\n",
        "                    }\n",
        "                ]\n",
        "                },\n",
        "        ],\n",
        "        max_tokens=1000,\n",
        "        temperature=0,\n",
        "        top_p=0.1\n",
        "    )\n",
        "    return response.choices[0].message.content"
      ]
    },
    {
      "cell_type": "code",
      "source": [
        "# set client\n",
        "client = OpenAI(api_key=openai_api_key)"
      ],
      "metadata": {
        "id": "BNOIT7mEVCZA"
      },
      "id": "BNOIT7mEVCZA",
      "execution_count": null,
      "outputs": []
    },
    {
      "cell_type": "markdown",
      "source": [
        "##### Offizieller Prompt"
      ],
      "metadata": {
        "id": "oWRHXT9X5Mt6"
      },
      "id": "oWRHXT9X5Mt6"
    },
    {
      "cell_type": "code",
      "source": [
        "# System-Prompt (Vorschlag aus Beispiel)\n",
        "# Output should be according to swiss german writng rules.\n",
        "image_analysis_system_prompt = '''\n",
        "You will be provided with an image of a PDF page concerning a part of insurance terms. Your task is to deliver a detailed and accessible explanation of the content you see, tailored for an audience with no prior knowledge of the subject (101-level). Your audience is from the German-speaking part of Switzerland, so use Swiss German writing conventions.\n",
        "If there is an identifiable title, start by stating the title to provide context for your audience.\n",
        "Describe visual elements in detail:\n",
        "- **Diagrams**: Explain each component and how they interact. For example, \"The process begins with X, which then leads to Y and results in Z.\"\n",
        "- **Tables**: Break down the information logically in a clear sentence. For instance, \"Product A costs X dollars, while Product B is priced at Y dollars.\"\n",
        "Focus on the content itself rather than the format:\n",
        "- **DO NOT** include terms referring to the content format.\n",
        "- **DO NOT** mention the content type. Instead, directly discuss the information presented.\n",
        "Keep your explanation comprehensive yet concise:\n",
        "- Be exhaustive in describing the content, as your audience cannot see the image.\n",
        "- Exclude irrelevant details such as page numbers or the position of elements on the image.\n",
        "Use clear and accessible language:\n",
        "- Explain technical terms or concepts in simple language appropriate for a 101-level audience.\n",
        "Engage with the content:\n",
        "- Interpret and analyze the information where appropriate, offering insights to help the audience understand its significance.\n",
        "------\n",
        "If there is an identifiable title, present the output in the following format:\n",
        "# {TITLE}\n",
        "\n",
        "{Content description}\n",
        "\n",
        "If there is no clear title, simply provide the content description.\n",
        "'''\n",
        "\n",
        "openapi_text = ''\n",
        "for img in images:\n",
        "    data_uri = get_img_uri(img)\n",
        "    openapi_text += analyze_image(client, image_analysis_system_prompt, data_uri)\n",
        "print(openapi_text)\n"
      ],
      "metadata": {
        "id": "mtjCGS4n3hEe"
      },
      "id": "mtjCGS4n3hEe",
      "execution_count": null,
      "outputs": []
    },
    {
      "cell_type": "markdown",
      "source": [
        "##### Intergalaktische Krankenversicherung"
      ],
      "metadata": {
        "id": "2lC85OCA5DcZ"
      },
      "id": "2lC85OCA5DcZ"
    },
    {
      "cell_type": "code",
      "source": [
        "intergalactical_prompt = \"\"\"\n",
        "You will be provided with an image of a PDF page concerning a part of insurance terms. Your task is to deliver a detailed and accessible explanation of the content you see, tailored for yedi fighters, so rewrite the text in the form as Yoda would, but in german.\n",
        "If there is an identifiable title, start by stating the title to provide context for your audience.\n",
        "Describe visual elements in detail:\n",
        "- **Diagrams**: Explain each component and how they interact.\n",
        "- **Tables**: Break down the information logically in a clear sentence.\n",
        "Focus on the content itself rather than the format:\n",
        "- **DO NOT** include terms referring to the content format.\n",
        "- **DO NOT** mention the content type. Instead, directly discuss the information presented.\n",
        "Keep your explanation comprehensive yet concise:\n",
        "- Be exhaustive in describing the content, as your audience cannot see the image.\n",
        "- Exclude irrelevant details such as page numbers or the position of elements on the image.\n",
        "Use clear and accessible language:\n",
        "- Explain technical terms or concepts in simple language appropriate for your intergalactical readers\n",
        "Engage with the content:\n",
        "- Interpret and analyze the information where appropriate, offering insights to help the audience understand its significance.\n",
        "------\n",
        "If there is an identifiable title, present the output in the following format:\n",
        "# {TITLE}\n",
        "\n",
        "{Content description}\n",
        "\n",
        "If there is no clear title, simply provide the content description.\n",
        "\"\"\"\n",
        "intergalactical_text = ''\n",
        "for img in images:\n",
        "    data_uri = get_img_uri(img)\n",
        "    intergalactical_text += analyze_image(client, intergalactical_prompt, data_uri)\n",
        "print(intergalactical_text)"
      ],
      "metadata": {
        "id": "Rb3BoLDb-cJi",
        "colab": {
          "base_uri": "https://localhost:8080/",
          "height": 863
        },
        "outputId": "b12c7568-977f-4fd8-c2af-61a57cfaa8e9"
      },
      "id": "Rb3BoLDb-cJi",
      "execution_count": null,
      "outputs": [
        {
          "output_type": "display_data",
          "data": {
            "text/plain": [
              "# Zusätzliche Versicherungsbedingungen \u001b[1m(\u001b[0mZVB\u001b[1m)\u001b[0m SANA Krankenpflege-Zusatzversicherung\n",
              "\n",
              "Allgemeines\n",
              "\n",
              "\u001b[1;36m1\u001b[0m Zweck  \n",
              "Die SANA Krankenpflege-Zusatzversicherung gewährt, sie tut, Leistungen an die Kosten für ambulante und stationäre \n",
              "Behandlungen der Komplementärmedizin, an Präventionsmaßnahmen sowie an die Gesundheitsförderung.\n",
              "\n",
              "Leistungen\n",
              "\n",
              "\u001b[1;36m2\u001b[0m Komplementärmedizin  \n",
              "\u001b[1;36m2.1\u001b[0m An ambulante Behandlungen, welche nach komplementärmedizinischen Heilmethoden durchgeführt werden, vergütet \n",
              "Helsana bei medizinischer Notwendigkeit \u001b[1;36m75\u001b[0m% der verrechneten Kosten, sofern der Leistungsbringer von Helsana für \n",
              "die entsprechende Leistung anerkannt ist. Eine Liste der anerkannten Therapiemethoden und Leistungsbringer führt \n",
              "Helsana, sie tut. Diese Listen werden laufend angepasst und können bei Helsana eingesehen oder auszugsweise \n",
              "einverlangt werden. Behandlungen im Ausland werden übernommen, sofern der betreffende Therapeut auf der Liste \n",
              "aufgeführt ist.\n",
              "\n",
              "\u001b[1;36m2.2\u001b[0m Helsana übernimmt von ihr anerkannte komplementärmedizinische Heilmittel zu \u001b[1;36m75\u001b[0m%. Voraussetzung ist, dass diese \n",
              "von einem von ihr dafür anerkannten Leistungsbringer verordnet oder abgegeben werden.\n",
              "\n",
              "\u001b[1;36m2.3\u001b[0m An von Ärzten verordnete stationäre Behandlungen, welche nach komplementärmedizinischen Heilmethoden in von \n",
              "Helsana anerkannten Heil- oder Kuranstalten durchgeführt werden, vergütet Helsana die verrechneten Kosten, jedoch \n",
              "max. CHF \u001b[1;36m5000\u001b[0m pro Kalenderjahr.\n",
              "\n",
              "\u001b[1;36m2.4\u001b[0m Bei vorübergehendem Auslandsaufenthalt werden die Kosten für ambulante Behandlungen auch übernommen, wenn der \n",
              "Leistungsbringer nicht auf der Liste aufgeführt ist, sofern sich die versicherte Person nicht zum Zwecke der \n",
              "Behandlung ins Ausland begibt.# Zusätzliche Versicherungsbedingungen \u001b[1m(\u001b[0mZVB\u001b[1m)\u001b[0m SANA Krankenpflege-Zusatzversicherung\n",
              "\n",
              "\u001b[1;36m3\u001b[0m Prävention  \n",
              "\u001b[1;36m3.1\u001b[0m Für präventive Maßnahmen in Bereichen wie Impfungen und Untersuchungen, \u001b[1;36m75\u001b[0m% der Kosten, max. CHF \u001b[1;36m500\u001b[0m pro Jahr, \n",
              "übernimmt Helsana.  \n",
              "\u001b[1;36m3.2\u001b[0m Nur anerkannte Leistungen von Helsana werden für Qualitätssicherung akzeptiert.  \n",
              "\u001b[1;36m3.3\u001b[0m Im Ausland durchgeführte Maßnahmen, wenn auf der Liste, anerkannt sind.\n",
              "\n",
              "\u001b[1;36m4\u001b[0m Gesundheitsförderung  \n",
              "\u001b[1;36m4.1\u001b[0m Maßnahmen wie Rückenschule und Fitness, \u001b[1;36m75\u001b[0m% der Kosten, max. CHF \u001b[1;36m200\u001b[0m pro Jahr, übernimmt Helsana.  \n",
              "\u001b[1;36m4.2\u001b[0m Nur anerkannte Leistungen von Helsana werden für Qualitätssicherung akzeptiert. Im Ausland, wenn auf der Liste,\n",
              "anerkannt sind.\n",
              "\n",
              "\u001b[1;36m5\u001b[0m Versicherungsvariante ohne Unfalldeckung  \n",
              "Unfallfolgen ausgeschlossen werden können, die Versicherung.\n",
              "\n",
              "\u001b[1;36m6\u001b[0m Versicherung für Kinder  \n",
              "Ab Geburt versichert werden Kinder können, wenn Antrag vor Geburt eintrifft. Keine Ausschlüsse für bestehende \n",
              "Gesundheitsschäden.\n",
              "\n",
              "\u001b[1;36m7\u001b[0m Sistierung bei der Versicherungsdeckung  \n",
              "\u001b[1;36m7.1\u001b[0m Prämienreduktion, wenn andere Deckung besteht, möglich ist.  \n",
              "\u001b[1;36m7.2\u001b[0m Innerhalb \u001b[1;36m30\u001b[0m Tagen reaktivieren, die Deckung, der Versicherungsnehmer kann. Bedingungen für Neuaufnahme gelten.\n"
            ],
            "text/html": [
              "<pre style=\"white-space:pre;overflow-x:auto;line-height:normal;font-family:Menlo,'DejaVu Sans Mono',consolas,'Courier New',monospace\"># Zusätzliche Versicherungsbedingungen <span style=\"font-weight: bold\">(</span>ZVB<span style=\"font-weight: bold\">)</span> SANA Krankenpflege-Zusatzversicherung\n",
              "\n",
              "Allgemeines\n",
              "\n",
              "<span style=\"color: #008080; text-decoration-color: #008080; font-weight: bold\">1</span> Zweck  \n",
              "Die SANA Krankenpflege-Zusatzversicherung gewährt, sie tut, Leistungen an die Kosten für ambulante und stationäre \n",
              "Behandlungen der Komplementärmedizin, an Präventionsmaßnahmen sowie an die Gesundheitsförderung.\n",
              "\n",
              "Leistungen\n",
              "\n",
              "<span style=\"color: #008080; text-decoration-color: #008080; font-weight: bold\">2</span> Komplementärmedizin  \n",
              "<span style=\"color: #008080; text-decoration-color: #008080; font-weight: bold\">2.1</span> An ambulante Behandlungen, welche nach komplementärmedizinischen Heilmethoden durchgeführt werden, vergütet \n",
              "Helsana bei medizinischer Notwendigkeit <span style=\"color: #008080; text-decoration-color: #008080; font-weight: bold\">75</span>% der verrechneten Kosten, sofern der Leistungsbringer von Helsana für \n",
              "die entsprechende Leistung anerkannt ist. Eine Liste der anerkannten Therapiemethoden und Leistungsbringer führt \n",
              "Helsana, sie tut. Diese Listen werden laufend angepasst und können bei Helsana eingesehen oder auszugsweise \n",
              "einverlangt werden. Behandlungen im Ausland werden übernommen, sofern der betreffende Therapeut auf der Liste \n",
              "aufgeführt ist.\n",
              "\n",
              "<span style=\"color: #008080; text-decoration-color: #008080; font-weight: bold\">2.2</span> Helsana übernimmt von ihr anerkannte komplementärmedizinische Heilmittel zu <span style=\"color: #008080; text-decoration-color: #008080; font-weight: bold\">75</span>%. Voraussetzung ist, dass diese \n",
              "von einem von ihr dafür anerkannten Leistungsbringer verordnet oder abgegeben werden.\n",
              "\n",
              "<span style=\"color: #008080; text-decoration-color: #008080; font-weight: bold\">2.3</span> An von Ärzten verordnete stationäre Behandlungen, welche nach komplementärmedizinischen Heilmethoden in von \n",
              "Helsana anerkannten Heil- oder Kuranstalten durchgeführt werden, vergütet Helsana die verrechneten Kosten, jedoch \n",
              "max. CHF <span style=\"color: #008080; text-decoration-color: #008080; font-weight: bold\">5000</span> pro Kalenderjahr.\n",
              "\n",
              "<span style=\"color: #008080; text-decoration-color: #008080; font-weight: bold\">2.4</span> Bei vorübergehendem Auslandsaufenthalt werden die Kosten für ambulante Behandlungen auch übernommen, wenn der \n",
              "Leistungsbringer nicht auf der Liste aufgeführt ist, sofern sich die versicherte Person nicht zum Zwecke der \n",
              "Behandlung ins Ausland begibt.# Zusätzliche Versicherungsbedingungen <span style=\"font-weight: bold\">(</span>ZVB<span style=\"font-weight: bold\">)</span> SANA Krankenpflege-Zusatzversicherung\n",
              "\n",
              "<span style=\"color: #008080; text-decoration-color: #008080; font-weight: bold\">3</span> Prävention  \n",
              "<span style=\"color: #008080; text-decoration-color: #008080; font-weight: bold\">3.1</span> Für präventive Maßnahmen in Bereichen wie Impfungen und Untersuchungen, <span style=\"color: #008080; text-decoration-color: #008080; font-weight: bold\">75</span>% der Kosten, max. CHF <span style=\"color: #008080; text-decoration-color: #008080; font-weight: bold\">500</span> pro Jahr, \n",
              "übernimmt Helsana.  \n",
              "<span style=\"color: #008080; text-decoration-color: #008080; font-weight: bold\">3.2</span> Nur anerkannte Leistungen von Helsana werden für Qualitätssicherung akzeptiert.  \n",
              "<span style=\"color: #008080; text-decoration-color: #008080; font-weight: bold\">3.3</span> Im Ausland durchgeführte Maßnahmen, wenn auf der Liste, anerkannt sind.\n",
              "\n",
              "<span style=\"color: #008080; text-decoration-color: #008080; font-weight: bold\">4</span> Gesundheitsförderung  \n",
              "<span style=\"color: #008080; text-decoration-color: #008080; font-weight: bold\">4.1</span> Maßnahmen wie Rückenschule und Fitness, <span style=\"color: #008080; text-decoration-color: #008080; font-weight: bold\">75</span>% der Kosten, max. CHF <span style=\"color: #008080; text-decoration-color: #008080; font-weight: bold\">200</span> pro Jahr, übernimmt Helsana.  \n",
              "<span style=\"color: #008080; text-decoration-color: #008080; font-weight: bold\">4.2</span> Nur anerkannte Leistungen von Helsana werden für Qualitätssicherung akzeptiert. Im Ausland, wenn auf der Liste,\n",
              "anerkannt sind.\n",
              "\n",
              "<span style=\"color: #008080; text-decoration-color: #008080; font-weight: bold\">5</span> Versicherungsvariante ohne Unfalldeckung  \n",
              "Unfallfolgen ausgeschlossen werden können, die Versicherung.\n",
              "\n",
              "<span style=\"color: #008080; text-decoration-color: #008080; font-weight: bold\">6</span> Versicherung für Kinder  \n",
              "Ab Geburt versichert werden Kinder können, wenn Antrag vor Geburt eintrifft. Keine Ausschlüsse für bestehende \n",
              "Gesundheitsschäden.\n",
              "\n",
              "<span style=\"color: #008080; text-decoration-color: #008080; font-weight: bold\">7</span> Sistierung bei der Versicherungsdeckung  \n",
              "<span style=\"color: #008080; text-decoration-color: #008080; font-weight: bold\">7.1</span> Prämienreduktion, wenn andere Deckung besteht, möglich ist.  \n",
              "<span style=\"color: #008080; text-decoration-color: #008080; font-weight: bold\">7.2</span> Innerhalb <span style=\"color: #008080; text-decoration-color: #008080; font-weight: bold\">30</span> Tagen reaktivieren, die Deckung, der Versicherungsnehmer kann. Bedingungen für Neuaufnahme gelten.\n",
              "</pre>\n"
            ]
          },
          "metadata": {}
        }
      ]
    },
    {
      "cell_type": "code",
      "source": [
        "hypergalactical_prompt = \"\"\"\n",
        "You are an advanced AI language model designed to extract, interpret, and paraphrase complex legal documents in German, specifically healthcare insurance contracts. Your task is to accurately process and paraphrase the content of PDF documents while adhering to the following requirements:\n",
        "Requirements:\n",
        "\n",
        "    Language and Accuracy:\n",
        "        Work exclusively in German.\n",
        "        Maintain high precision and avoid adding, omitting, or altering the meaning of any content.\n",
        "\n",
        "    Text Extraction:\n",
        "        Extract all text, regardless of format, including multi-column layouts, tables, and graphical elements containing text.\n",
        "        If text extraction is ambiguous or incomplete due to graphical complexity, flag it for clarification.\n",
        "\n",
        "    Tables and Graphical Content:\n",
        "        Pay special attention to tables and their contents, as they may be crucial for interpretation. Represent all table data clearly and accurately.\n",
        "        Extract and paraphrase text embedded in graphical elements with the same care as standard text.\n",
        "\n",
        "    Structure and Completeness:\n",
        "        Ensure the paraphrased output contains all information from the original document, preserving the document's logical structure and important relationships.\n",
        "        Avoid introducing any information not present in the original document.\n",
        "\n",
        "    Paraphrasing Rules:\n",
        "        Simplify and condense sentences for readability while maintaining their original meaning and tone.\n",
        "        Use consistent terminology for technical and legal terms across documents.\n",
        "\n",
        "    Comparability:\n",
        "        Structure the output in a way that facilitates direct comparison between different documents.\n",
        "        Include markers or headings that align with common sections in health insurance contracts, such as \"Coverage Details,\" \"Exclusions,\" \"Premiums,\" and \"Claims Processes.\"\n",
        "\n",
        "    Formatting:\n",
        "        Present paraphrased text in a clean and structured format that reflects the logical flow of the original content.\n",
        "        Use bullet points, numbered lists, or headings where applicable for clarity.\n",
        "\n",
        "    Metadata and Footnotes:\n",
        "        Retain any metadata, footnotes, or annotations if they contribute to the interpretation of the document.\n",
        "\n",
        "    Limitations and Scope:\n",
        "        If content extraction is incomplete due to illegible or inaccessible parts of the PDF, clearly indicate the gap without assuming or generating content.\n",
        "        Exclude any interpretations or additional commentary not derived directly from the document.\n",
        "\n",
        "Final Output:\n",
        "\n",
        "The paraphrased content should be a comprehensive and faithful reproduction of the original document in a simplified form, ready for comparative analysis with other similar documents. Your primary objective is to preserve meaning and structure, enabling accurate comparison without loss of detail.\n",
        "\"\"\"\n",
        "\n",
        "hypergalactical_text = ''\n",
        "for img in images:\n",
        "    data_uri = get_img_uri(img)\n",
        "    hypergalactical_text += analyze_image(client, hypergalactical_prompt, data_uri)\n",
        "print(hypergalactical_text)\n"
      ],
      "metadata": {
        "id": "uL95TyImUGAw"
      },
      "id": "uL95TyImUGAw",
      "execution_count": null,
      "outputs": []
    },
    {
      "cell_type": "markdown",
      "source": [
        "##### Leichte Sprache"
      ],
      "metadata": {
        "id": "S45CsR7TBl2i"
      },
      "id": "S45CsR7TBl2i"
    },
    {
      "cell_type": "code",
      "source": [
        "easy_reading_prompt = '''\n",
        "You will be provided with an image of a PDF page concerning a part of insurance terms. Your task is to deliver a detailed and accessible explanation of the content you see, tailored for an audience with no prior knowledge of the subject and limited literacy or cognitive abilities. Your audience is from the German-speaking part of Switzerland, so use Swiss German writing conventions.\n",
        "If there is an identifiable title, start by stating the title to provide context for your audience.\n",
        "Describe visual elements in detail:\n",
        "- **Diagrams**: Explain each component and how they interact. For example, \"The process begins with X. Then it leads to Y. The result is Z.\"\n",
        "- **Tables**: Break down the information logically in a clear sentence. For instance, \"Product A costs X dollars. Product B costs Y dollars.\"\n",
        "Focus on the content itself rather than the format:\n",
        "- **DO NOT** include terms referring to the content format.\n",
        "- **DO NOT** mention the content type. Instead, directly discuss the information presented.\n",
        "Keep your explanation comprehensive yet concise:\n",
        "- Be exhaustive in describing the content, as your audience cannot see the image.\n",
        "- Exclude irrelevant details such as page numbers or the position of elements on the image.\n",
        "Use clear and accessible language:\n",
        "- Explain technical terms or concepts in simple language appropriate for an audience with limited literacy or cognitive abilities, so use short sentences and explain terms.\n",
        "Engage with the content:\n",
        "- Interpret and analyze the information where appropriate, offering insights to help the audience understand its significance.\n",
        "------\n",
        "If there is an identifiable title, present the output in the following format:\n",
        "# {TITLE}\n",
        "\n",
        "{Content description}\n",
        "\n",
        "If there is no clear title, simply provide the content description.\n",
        "'''\n",
        "easy_reading_text = ''\n",
        "for img in images:\n",
        "    data_uri = get_img_uri(img)\n",
        "    easy_reading_text += analyze_image(client, easy_reading_prompt, data_uri)\n",
        "print(easy_reading_text)"
      ],
      "metadata": {
        "id": "cLYn1rpRBvvZ",
        "colab": {
          "base_uri": "https://localhost:8080/",
          "height": 829
        },
        "outputId": "8c55f4ff-d672-4616-8fc1-855b741afd9f"
      },
      "id": "cLYn1rpRBvvZ",
      "execution_count": null,
      "outputs": [
        {
          "output_type": "display_data",
          "data": {
            "text/plain": [
              "# Zusätzliche Versicherungsbedingungen \u001b[1m(\u001b[0mZVB\u001b[1m)\u001b[0m SANA Krankenpflege-Zusatzversicherung\n",
              "\n",
              "## Zweck\n",
              "Die SANA Krankenpflege-Zusatzversicherung hilft, die Kosten für Behandlungen zu decken. Das gilt für Behandlungen, \n",
              "die nicht im Spital stattfinden, und für Spitalaufenthalte. Es geht um Komplementärmedizin, also alternative \n",
              "Heilmethoden, um Vorbeugung von Krankheiten und um die Förderung der Gesundheit.\n",
              "\n",
              "## Leistungen\n",
              "\n",
              "### Komplementärmedizin\n",
              "\u001b[1;36m1\u001b[0m. **Ambulante Behandlungen**: Wenn du alternative Heilmethoden brauchst, zahlt Helsana \u001b[1;36m75\u001b[0m% der Kosten. Das gilt, \n",
              "wenn ein anerkannter Arzt oder Therapeut die Behandlung macht. Helsana hat Listen mit anerkannten Methoden und \n",
              "Therapeuten. Diese Listen werden immer wieder aktualisiert.\n",
              "\n",
              "\u001b[1;36m2\u001b[0m. **Medikamente**: Helsana zahlt \u001b[1;36m75\u001b[0m% für alternative Medikamente. Diese müssen von einem anerkannten Arzt \n",
              "verschrieben werden.\n",
              "\n",
              "\u001b[1;36m3\u001b[0m. **Stationäre Behandlungen**: Wenn du im Spital alternative Heilmethoden brauchst, zahlt Helsana bis zu \u001b[1;36m5000\u001b[0m CHF \n",
              "pro Jahr. Das gilt nur, wenn die Behandlung in einem anerkannten Spital stattfindet.\n",
              "\n",
              "\u001b[1;36m4\u001b[0m. **Ausland**: Wenn du vorübergehend im Ausland bist, zahlt Helsana auch für Behandlungen, die nicht im Spital \n",
              "stattfinden. Das gilt, wenn der Arzt nicht auf der Liste steht, aber du bist nicht extra für die Behandlung ins \n",
              "Ausland gereist.# Prävention und Gesundheitsförderung\n",
              "\n",
              "\u001b[1;36m3\u001b[0m. **Prävention**\n",
              "   - **\u001b[1;36m3.1\u001b[0m** Helsana zahlt für vorbeugende Gesundheitsmassnahmen wie Impfungen, Vorsorgeuntersuchungen und \n",
              "Therapien zur Gewichtsreduktion bei Kindern. Sie übernehmen \u001b[1;36m75\u001b[0m% der Kosten, bis zu \u001b[1;36m500\u001b[0m CHF pro Jahr.\n",
              "   - **\u001b[1;36m3.2\u001b[0m** Nur anerkannte Leistungen von Helsana werden übernommen. Es gibt eine Liste von anerkannten \n",
              "Massnahmen, die laufend aktualisiert wird.\n",
              "   - **\u001b[1;36m3.3\u001b[0m** Für Behandlungen im Ausland gelten spezielle Bedingungen, die auf einer Liste stehen.\n",
              "\n",
              "\u001b[1;36m4\u001b[0m. **Gesundheitsförderung**\n",
              "   - **\u001b[1;36m4.1\u001b[0m** Helsana unterstützt Massnahmen wie Rückenschule, Fitnesskurse und Entspannungskurse. Sie zahlen \u001b[1;36m75\u001b[0m% \n",
              "der Kosten, bis zu \u001b[1;36m200\u001b[0m CHF pro Jahr.\n",
              "   - **\u001b[1;36m4.2\u001b[0m** Auch hier werden nur anerkannte Leistungen übernommen. Die Liste der anerkannten Anbieter wird laufend\n",
              "aktualisiert. Behandlungen im Ausland werden nur übernommen, wenn der Anbieter auf der Liste steht.\n",
              "\n",
              "\u001b[1;36m5\u001b[0m. **Versicherungsvariante ohne Unfalldeckung**\n",
              "   - Unfallfolgen können von der Versicherung ausgeschlossen werden.\n",
              "\n",
              "\u001b[1;36m6\u001b[0m. **Versicherung für Kinder**\n",
              "   - Kinder können ab Geburt versichert werden, wenn der Antrag vor der Geburt gestellt wird. Es gibt keine \n",
              "Ausschlüsse wegen bestehender Gesundheitsschäden.\n",
              "\n",
              "\u001b[1;36m7\u001b[0m. **Sistierung bei der Versicherungsdeckung**\n",
              "   - **\u001b[1;36m7.1\u001b[0m** Bei Prämienreduktion kann die Versicherung pausiert werden, wenn eine andere Versicherung besteht.\n",
              "   - **\u001b[1;36m7.2\u001b[0m** Innerhalb von \u001b[1;36m30\u001b[0m Tagen nach Wegfall der anderen Versicherung kann die Deckung reaktiviert werden. Wenn\n",
              "die Frist nicht eingehalten wird, gelten die Bedingungen für eine Neuaufnahme.\n"
            ],
            "text/html": [
              "<pre style=\"white-space:pre;overflow-x:auto;line-height:normal;font-family:Menlo,'DejaVu Sans Mono',consolas,'Courier New',monospace\"># Zusätzliche Versicherungsbedingungen <span style=\"font-weight: bold\">(</span>ZVB<span style=\"font-weight: bold\">)</span> SANA Krankenpflege-Zusatzversicherung\n",
              "\n",
              "## Zweck\n",
              "Die SANA Krankenpflege-Zusatzversicherung hilft, die Kosten für Behandlungen zu decken. Das gilt für Behandlungen, \n",
              "die nicht im Spital stattfinden, und für Spitalaufenthalte. Es geht um Komplementärmedizin, also alternative \n",
              "Heilmethoden, um Vorbeugung von Krankheiten und um die Förderung der Gesundheit.\n",
              "\n",
              "## Leistungen\n",
              "\n",
              "### Komplementärmedizin\n",
              "<span style=\"color: #008080; text-decoration-color: #008080; font-weight: bold\">1</span>. **Ambulante Behandlungen**: Wenn du alternative Heilmethoden brauchst, zahlt Helsana <span style=\"color: #008080; text-decoration-color: #008080; font-weight: bold\">75</span>% der Kosten. Das gilt, \n",
              "wenn ein anerkannter Arzt oder Therapeut die Behandlung macht. Helsana hat Listen mit anerkannten Methoden und \n",
              "Therapeuten. Diese Listen werden immer wieder aktualisiert.\n",
              "\n",
              "<span style=\"color: #008080; text-decoration-color: #008080; font-weight: bold\">2</span>. **Medikamente**: Helsana zahlt <span style=\"color: #008080; text-decoration-color: #008080; font-weight: bold\">75</span>% für alternative Medikamente. Diese müssen von einem anerkannten Arzt \n",
              "verschrieben werden.\n",
              "\n",
              "<span style=\"color: #008080; text-decoration-color: #008080; font-weight: bold\">3</span>. **Stationäre Behandlungen**: Wenn du im Spital alternative Heilmethoden brauchst, zahlt Helsana bis zu <span style=\"color: #008080; text-decoration-color: #008080; font-weight: bold\">5000</span> CHF \n",
              "pro Jahr. Das gilt nur, wenn die Behandlung in einem anerkannten Spital stattfindet.\n",
              "\n",
              "<span style=\"color: #008080; text-decoration-color: #008080; font-weight: bold\">4</span>. **Ausland**: Wenn du vorübergehend im Ausland bist, zahlt Helsana auch für Behandlungen, die nicht im Spital \n",
              "stattfinden. Das gilt, wenn der Arzt nicht auf der Liste steht, aber du bist nicht extra für die Behandlung ins \n",
              "Ausland gereist.# Prävention und Gesundheitsförderung\n",
              "\n",
              "<span style=\"color: #008080; text-decoration-color: #008080; font-weight: bold\">3</span>. **Prävention**\n",
              "   - **<span style=\"color: #008080; text-decoration-color: #008080; font-weight: bold\">3.1</span>** Helsana zahlt für vorbeugende Gesundheitsmassnahmen wie Impfungen, Vorsorgeuntersuchungen und \n",
              "Therapien zur Gewichtsreduktion bei Kindern. Sie übernehmen <span style=\"color: #008080; text-decoration-color: #008080; font-weight: bold\">75</span>% der Kosten, bis zu <span style=\"color: #008080; text-decoration-color: #008080; font-weight: bold\">500</span> CHF pro Jahr.\n",
              "   - **<span style=\"color: #008080; text-decoration-color: #008080; font-weight: bold\">3.2</span>** Nur anerkannte Leistungen von Helsana werden übernommen. Es gibt eine Liste von anerkannten \n",
              "Massnahmen, die laufend aktualisiert wird.\n",
              "   - **<span style=\"color: #008080; text-decoration-color: #008080; font-weight: bold\">3.3</span>** Für Behandlungen im Ausland gelten spezielle Bedingungen, die auf einer Liste stehen.\n",
              "\n",
              "<span style=\"color: #008080; text-decoration-color: #008080; font-weight: bold\">4</span>. **Gesundheitsförderung**\n",
              "   - **<span style=\"color: #008080; text-decoration-color: #008080; font-weight: bold\">4.1</span>** Helsana unterstützt Massnahmen wie Rückenschule, Fitnesskurse und Entspannungskurse. Sie zahlen <span style=\"color: #008080; text-decoration-color: #008080; font-weight: bold\">75</span>% \n",
              "der Kosten, bis zu <span style=\"color: #008080; text-decoration-color: #008080; font-weight: bold\">200</span> CHF pro Jahr.\n",
              "   - **<span style=\"color: #008080; text-decoration-color: #008080; font-weight: bold\">4.2</span>** Auch hier werden nur anerkannte Leistungen übernommen. Die Liste der anerkannten Anbieter wird laufend\n",
              "aktualisiert. Behandlungen im Ausland werden nur übernommen, wenn der Anbieter auf der Liste steht.\n",
              "\n",
              "<span style=\"color: #008080; text-decoration-color: #008080; font-weight: bold\">5</span>. **Versicherungsvariante ohne Unfalldeckung**\n",
              "   - Unfallfolgen können von der Versicherung ausgeschlossen werden.\n",
              "\n",
              "<span style=\"color: #008080; text-decoration-color: #008080; font-weight: bold\">6</span>. **Versicherung für Kinder**\n",
              "   - Kinder können ab Geburt versichert werden, wenn der Antrag vor der Geburt gestellt wird. Es gibt keine \n",
              "Ausschlüsse wegen bestehender Gesundheitsschäden.\n",
              "\n",
              "<span style=\"color: #008080; text-decoration-color: #008080; font-weight: bold\">7</span>. **Sistierung bei der Versicherungsdeckung**\n",
              "   - **<span style=\"color: #008080; text-decoration-color: #008080; font-weight: bold\">7.1</span>** Bei Prämienreduktion kann die Versicherung pausiert werden, wenn eine andere Versicherung besteht.\n",
              "   - **<span style=\"color: #008080; text-decoration-color: #008080; font-weight: bold\">7.2</span>** Innerhalb von <span style=\"color: #008080; text-decoration-color: #008080; font-weight: bold\">30</span> Tagen nach Wegfall der anderen Versicherung kann die Deckung reaktiviert werden. Wenn\n",
              "die Frist nicht eingehalten wird, gelten die Bedingungen für eine Neuaufnahme.\n",
              "</pre>\n"
            ]
          },
          "metadata": {}
        }
      ]
    },
    {
      "cell_type": "markdown",
      "source": [
        "### Gegenüberstellung Output Varianten"
      ],
      "metadata": {
        "id": "qHAprVHh8A3T"
      },
      "id": "qHAprVHh8A3T"
    },
    {
      "cell_type": "code",
      "source": [
        "from IPython.core.display import display, HTML\n",
        "import markdown\n",
        "\n",
        "pdf2text_formatted = markdown.markdown(text)\n",
        "openapi_fornmatted = markdown.markdown(hypergalactical_text)\n",
        "\n",
        "html_comparision = f\"\"\"\n",
        "<div style=\"display: flex; justify-content: space-between;\">\n",
        "    <div style=\"width: 45%; padding: 10px;\">\n",
        "        <h3>&lt;pdfminer&gt;</h3>\n",
        "        <p>{pdf2text_formatted}</p>\n",
        "    </div>\n",
        "    <div style=\"width: 45%; padding: 10px;\">\n",
        "        <h3>&lt;chatgpt&gt;</h3>\n",
        "        <p>{openapi_fornmatted}</p>\n",
        "    </div>\n",
        "</div>\n",
        "\"\"\"\n",
        "\n",
        "display(HTML(html_comparision))"
      ],
      "metadata": {
        "id": "kSG9s-pz75nC",
        "colab": {
          "base_uri": "https://localhost:8080/",
          "height": 1000
        },
        "outputId": "daa2752b-19c2-4d2a-f4e1-e4cf31097b09"
      },
      "id": "kSG9s-pz75nC",
      "execution_count": null,
      "outputs": [
        {
          "output_type": "display_data",
          "data": {
            "text/plain": [
              "<IPython.core.display.HTML object>"
            ],
            "text/html": [
              "\n",
              "<div style=\"display: flex; justify-content: space-between;\">\n",
              "    <div style=\"width: 45%; padding: 10px;\">\n",
              "        <h3>&lt;pdfminer&gt;</h3>\n",
              "        <p><p>Zur Helsana-Gruppe gehören Helsana Versicherungen AG, \n",
              "Helsana Zusatzversicherungen AG und Helsana Unfall AG. </p>\n",
              "<p>Ausgabe 1. Januar 2021 </p>\n",
              "<p>Zusätzliche Versicherungsbedingungen (ZVB)<br />\n",
              "SANA Krankenpflege-Zusatzversicherung </p>\n",
              "<p>Inhaltsverzeichnis  </p>\n",
              "<p>Allgemeines \n",
              "Zweck </p>\n",
              "<p>1 </p>\n",
              "<p>Leistungen </p>\n",
              "<p>2  Komplementärmedizin<br />\n",
              "3  Prävention<br />\n",
              "4  Gesundheitsförderung<br />\n",
              "5  Versicherungsvariante ohne Unfalldeckung </p>\n",
              "<p>Diverses  </p>\n",
              "<p>6  Versicherung für Kinder \n",
              "7  Sistierung bei der Versicherungsdeckung </p>\n",
              "<p>Allgemeines </p>\n",
              "<p>1 </p>\n",
              "<p>Zweck \n",
              "Die SANA Krankenpflege-Zusatzversicherung ge-\n",
              "währt Leistungen an die Kosten für ambulante \n",
              "und stationäre Behandlungen der Komplementär-\n",
              "medizin, an Präventionsmassnahmen sowie an \n",
              "die Gesundheitsförderung. </p>\n",
              "<p>Leistungen </p>\n",
              "<p>2  Komplementärmedizin \n",
              "2 .1   An ambulante Behandlungen, welche nach kom-\n",
              "plementärmedizinischen Heilmethoden durchge-\n",
              "führt werden, vergütet Helsana bei medizinischer \n",
              "Notwendigkeit 75% der verrechneten Kosten, so-\n",
              "fern der Leistungserbringer (Arzt, Naturheilprakti-\n",
              "ker, Therapeut) von Helsana für die entspre-\n",
              "chende Leistung anerkannt ist. Helsana führt eine \n",
              "Liste der anerkannten Therapiemethoden sowie \n",
              "eine Liste der anerkannten Leistungserbringer. \n",
              "Diese Listen werden laufend angepasst und kön-\n",
              "nen bei Helsana eingesehen oder auszugsweise \n",
              "einverlangt werden. Behandlungen im Ausland \n",
              "werden übernommen, sofern der betreffende \n",
              "Therapeut auf der Liste aufgeführt ist. </p>\n",
              "<p>2 .2   Helsana übernimmt von ihr anerkannte komple-\n",
              "mentärmedizinische Heilmittel zu 75%. Voraus-\n",
              "setzung ist, dass diese von einem von ihr dafür \n",
              "anerkannten Leistungserbringer verordnet oder \n",
              "abgegeben werden. </p>\n",
              "<p>2 .3   An von Ärzten verordnete stationäre Behandlun-\n",
              "gen, welche nach komplementärmedizinischen \n",
              "Heilmethoden in von Helsana anerkannten Heil- \n",
              "oder Kuranstalten durchgeführt werden, vergütet \n",
              "Helsana die verrechneten Kosten, jedoch max. \n",
              "CHF 5000.– pro Kalenderjahr.  </p>\n",
              "<p>2 .4   Bei vorübergehendem Auslandsaufenthalt wer-</p>\n",
              "<p>den die Kosten für ambulante Behandlungen \n",
              "auch übernommen, wenn der Leistungserbringer \n",
              "nicht auf der Liste aufgeführt ist, sofern sich die \n",
              "versicherte Person nicht zum Zwecke der Be-\n",
              "handlung ins Ausland begibt.  </p>\n",
              "<p>e\n",
              "d\n",
              "_\n",
              "1\n",
              "2\n",
              "0\n",
              "2\n",
              "_\n",
              "A\n",
              "N\n",
              "A\n",
              "S\n",
              "_\n",
              "s\n",
              "r\n",
              "e\n",
              "V\n",
              "_\n",
              "1\n",
              "1\n",
              "1\n",
              "2</p>\n",
              "<p>Ausgabe 1. Januar 2021 \n",
              "Zusätzliche Versicherungsbedingungen (ZVB) SANA Krankenpflege-Zusatzversicherung   </p>\n",
              "<p>2 </p>\n",
              "<p>7  Sistierung bei der Versicherungsdeckung<br />\n",
              "7 .1   Gegen eine Prämienreduktion kann der Versiche-\n",
              "rungsnehmer den Leistungsanspruch aus der \n",
              "SANA Krankenpflege-Zusatzversicherung sistie-\n",
              "ren, vorausgesetzt, der Versicherungsnehmer \n",
              "weist nach, dass für die zu sistierende Versiche-\n",
              "rung eine anderweitige Versicherungsdeckung \n",
              "(Kollektivvertrag, Betriebskrankenversicherung, \n",
              "Auslandsversicherung usw.) besteht.  </p>\n",
              "<p>7 .2   Innert 30 Tagen nach Wegfall der anderweitigen </p>\n",
              "<p>Versicherungsdeckung hat der Versicherungs-\n",
              "nehmer die Versicherungsdeckung zu reaktivie-\n",
              "ren, wobei die Prämie im Sinne von Ziff. 12 AVB \n",
              "angepasst wird. Bei Nichtbeachtung dieser Frist \n",
              "gelten für die Weiterführung der Versicherungen \n",
              "die Bedingungen für eine Neuaufnahme. </p>\n",
              "<p>3  Prävention<br />\n",
              "3 .1   Für präventivmedizinische Massnahmen in den </p>\n",
              "<p>Bereichen Impfungen, Vorsorgeuntersuchungen, \n",
              "Trainingstherapien, Gewichtsreduktion für Kinder \n",
              "und Raucherentwöhnung übernimmt Helsana \n",
              "75% der verrechneten Kosten, insgesamt max. \n",
              "CHF 500.– pro Kalenderjahr.  </p>\n",
              "<p>3 .2   Zum Zwecke der Qualitätssicherung werden nur \n",
              "Leistungen erbracht, sofern der Leistungserbrin-\n",
              "ger von Helsana für die entsprechende Leistung \n",
              "anerkannt ist. Helsana führt eine Liste der aner-\n",
              "kannten Massnahmen und Programme sowie der \n",
              "anerkannten Leistungserbringer. Diese Liste wird \n",
              "laufend angepasst und kann bei Helsana einge-\n",
              "sehen oder auszugsweise einverlangt werden. </p>\n",
              "<p>3 .3  Massnahmen, die im Ausland durchgeführt wer-\n",
              "den können sowie die Voraussetzungen dazu, \n",
              "sind auf der Liste gekennzeichnet. </p>\n",
              "<p>4  Gesundheitsförderung<br />\n",
              "4 .1   Für gesundheitsfördernde Massnahmen in den </p>\n",
              "<p>Bereichen Rückenschule (inkl. Anschlusspro-\n",
              "gramme), Fitness, Schwangerschaft, Kurse für \n",
              "Ernährung, Entspannung und Bewegung sowie \n",
              "Kurse zu weiteren Gesundheitsthemen werden \n",
              "pro Bereich 75% der verrechneten Kosten, max. \n",
              "CHF 200.– pro Kalenderjahr, übernommen. </p>\n",
              "<p>4 .2   Zum Zwecke der Qualitätssicherung werden nur \n",
              "Leistungen erbracht, sofern der Leistungserbrin-\n",
              "ger von Helsana für die entsprechende Leistung \n",
              "anerkannt ist. Helsana führt eine Liste der aner-\n",
              "kannten Massnahmen sowie der anerkannten \n",
              "Leistungserbringer. Diese Listen werden laufend \n",
              "angepasst und können bei Helsana eingesehen \n",
              "oder auszugsweise einverlangt werden. Behand-\n",
              "lungen im Ausland  werden übernommen, sofern \n",
              "der betroffene Leistungserbringer auf der Liste \n",
              "aufgeführt ist. </p>\n",
              "<p>5  Versicherungsvariante ohne Unfalldeckung </p>\n",
              "<p>Die Versicherungsdeckung für Unfallfolgen kann \n",
              "ausgeschlossen werden. </p>\n",
              "<p>Diverses </p>\n",
              "<p>6  Versicherung für Kinder </p>\n",
              "<p>Kinder können auf den Tag der Geburt versichert \n",
              "werden, sofern der Antrag für die Versicherung \n",
              "vor der Geburt beim Versicherer eintrifft. In die-\n",
              "sem Fall werden bei der SANA Krankenpflege-Zu-\n",
              "satzversicherung keine Leistungsausschlüsse we-\n",
              "gen allenfalls vorbestehender Gesundheitsschädi-\n",
              "gungen angebracht. </p></p>\n",
              "    </div>\n",
              "    <div style=\"width: 45%; padding: 10px;\">\n",
              "        <h3>&lt;chatgpt&gt;</h3>\n",
              "        <p><p><strong>Zusätzliche Versicherungsbedingungen (ZVB) SANA Krankenpflege-Zusatzversicherung</strong></p>\n",
              "<p><strong>Allgemeines</strong></p>\n",
              "<ol>\n",
              "<li><strong>Zweck</strong></li>\n",
              "<li>Die Versicherung deckt Kosten für ambulante und stationäre Behandlungen in der Komplementärmedizin, Präventionsmaßnahmen und Gesundheitsförderung.</li>\n",
              "</ol>\n",
              "<p><strong>Leistungen</strong></p>\n",
              "<ol>\n",
              "<li><strong>Komplementärmedizin</strong></li>\n",
              "<li><strong>2.1</strong> Für ambulante Behandlungen mit komplementärmedizinischen Methoden übernimmt Helsana 75% der Kosten, sofern der Leistungserbringer anerkannt ist. Eine Liste der anerkannten Methoden und Leistungserbringer wird von Helsana geführt und regelmäßig aktualisiert.</li>\n",
              "<li><strong>2.2</strong> Anerkannte komplementärmedizinische Heilmittel werden zu 75% übernommen, vorausgesetzt, sie werden von anerkannten Leistungserbringern verordnet.</li>\n",
              "<li><strong>2.3</strong> Stationäre Behandlungen mit komplementärmedizinischen Methoden in anerkannten Einrichtungen werden bis zu CHF 5000 pro Jahr erstattet.</li>\n",
              "<li><strong>2.4</strong> Bei vorübergehenden Auslandsaufenthalten werden Kosten für ambulante Behandlungen übernommen, auch wenn der Leistungserbringer nicht auf der Liste steht, sofern die Behandlung nicht der Hauptzweck des Aufenthalts ist.<strong>Zusätzliche Versicherungsbedingungen (ZVB) SANA Krankenpflege-Zusatzversicherung</strong></li>\n",
              "</ol>\n",
              "<p><strong>3 Prävention</strong>\n",
              "3.1 Für präventive Maßnahmen wie Impfungen, Vorsorgeuntersuchungen, Therapien zur Gewichtsreduktion bei Kindern und Raucherentwöhnung übernimmt Helsana 75% der Kosten, bis zu CHF 500 pro Jahr.</p>\n",
              "<p>3.2 Qualitätsgesicherte Leistungen werden nur anerkannt, wenn sie von Helsana gelistet sind. Diese Liste wird regelmäßig aktualisiert.</p>\n",
              "<p>3.3 Maßnahmen im Ausland erfordern spezielle Voraussetzungen und müssen auf der Liste stehen.</p>\n",
              "<p><strong>4 Gesundheitsförderung</strong>\n",
              "4.1 Für gesundheitsfördernde Maßnahmen wie Rückenschule, Fitness, Schwangerschaftskurse und mehr übernimmt Helsana 75% der Kosten, bis zu CHF 200 pro Jahr.</p>\n",
              "<p>4.2 Auch hier gilt, dass nur von Helsana anerkannte Leistungen übernommen werden. Behandlungen im Ausland werden nur übernommen, wenn der Anbieter auf der Liste steht.</p>\n",
              "<p><strong>5 Versicherungsvariante ohne Unfalldeckung</strong>\n",
              "Unfallfolgen können von der Versicherung ausgeschlossen werden.</p>\n",
              "<p><strong>Diverses</strong></p>\n",
              "<p><strong>6 Versicherung für Kinder</strong>\n",
              "Kinder können ab Geburt versichert werden, wenn der Antrag vor der Geburt gestellt wird. Es gibt keine Ausschlüsse für bestehende Gesundheitsschäden.</p>\n",
              "<p><strong>7 Sistierung bei der Versicherungsdeckung</strong>\n",
              "7.1 Bei Prämienreduktion kann der Leistungsanspruch sistiert werden, wenn keine andere Versicherung besteht.</p>\n",
              "<p>7.2 Innerhalb von 30 Tagen nach Wegfall der anderen Versicherung kann die Deckung reaktiviert werden. Bei Fristversäumnis gelten die Bedingungen für eine Neuaufnahme.</p></p>\n",
              "    </div>\n",
              "</div>\n"
            ]
          },
          "metadata": {}
        }
      ]
    },
    {
      "cell_type": "markdown",
      "source": [
        "### Embeddings"
      ],
      "metadata": {
        "id": "_3oIH45Lz336"
      },
      "id": "_3oIH45Lz336"
    },
    {
      "cell_type": "code",
      "source": [
        "# Storage\n",
        "\n",
        "import json\n",
        "import os\n",
        "\n",
        "\n",
        "class EmbeddingStorage:\n",
        "    def __init__(self, file_path):\n",
        "        self.file_path = file_path\n",
        "        self.data = []\n",
        "\n",
        "        if os.path.exists(self.file_path):\n",
        "            self.load_embeddings()\n",
        "\n",
        "    def save_embeddings(self, embeddings, texts):\n",
        "        self.data = [{\"embedding\": embedding, \"text\": text} for embedding, text in zip(embeddings, texts)]\n",
        "        with open(self.file_path, 'w') as f:\n",
        "            json.dump(self.data, f)\n",
        "\n",
        "    def load_embeddings(self):\n",
        "        with open(self.file_path, 'r') as f:\n",
        "            self.data = json.load(f)\n",
        "\n",
        "    def get_embedding(self, index):\n",
        "        return self.data[index]['embedding'] if 0 <= index < len(self.data) else None\n",
        "\n",
        "    def get_text(self, index):\n",
        "        return self.data[index]['text'] if 0 <= index < len(self.data) else None\n",
        "\n",
        "    def get_all_embeddings(self):\n",
        "        return [item['embedding'] for item in self.data]"
      ],
      "metadata": {
        "id": "yDCVJqHGiNJD"
      },
      "id": "yDCVJqHGiNJD",
      "execution_count": null,
      "outputs": []
    },
    {
      "cell_type": "code",
      "source": [
        "# Embeddings\n",
        "\n",
        "from sklearn.metrics.pairwise import cosine_similarity\n",
        "import openai\n",
        "\n",
        "\n",
        "class OpenAIEmbedding:\n",
        "    def __init__(self, api_key):\n",
        "        openai.api_key = api_key\n",
        "\n",
        "    def get_embedding(self, text):\n",
        "        response = openai.embeddings.create(input=text, model=\"text-embedding-3-small\")\n",
        "        return response.data[0].embedding\n",
        "\n",
        "    def __cosine_similarity(self, embedding1, embedding2):\n",
        "        return cosine_similarity([embedding1], [embedding2])[0][0]\n",
        "\n",
        "    def find_most_similar(self, embedding, embeddings_list):\n",
        "        # TODO: as question is smaller, maybe fill\n",
        "        similarities = [self.__cosine_similarity(embedding, emb) for emb in embeddings_list]\n",
        "        most_similar_idx = np.argmax(similarities)\n",
        "        return most_similar_idx, similarities[most_similar_idx]"
      ],
      "metadata": {
        "id": "OnkGiUhhh9sK"
      },
      "id": "OnkGiUhhh9sK",
      "execution_count": null,
      "outputs": []
    },
    {
      "cell_type": "code",
      "source": [
        "# Get Most Similar Text Based On Question\n",
        "\n",
        "embedding = OpenAIEmbedding(openai_api_key)\n",
        "storage = EmbeddingStorage(\"Andy.json\")\n",
        "\n",
        "andy_hug = \"Andy Hug wurde in Zürich geboren und wuchs zusammen mit seinem Bruder und seiner Schwester bei seinen Grosseltern in Wohlen auf.\"\n",
        "barbara_mueller = \"Barbara Müller wurde in Bern geboren.\"\n",
        "\n",
        "texts = [\n",
        "    andy_hug,\n",
        "    barbara_mueller\n",
        "]\n",
        "\n",
        "embeddings = [\n",
        "    embedding.get_embedding(andy_hug),\n",
        "    embedding.get_embedding(barbara_mueller)\n",
        "]\n",
        "\n",
        "storage.save_embeddings(embeddings, texts)\n",
        "\n",
        "storage.load_embeddings()\n",
        "loaded_embeddings = storage.get_all_embeddings()\n",
        "\n",
        "query_embedding = embedding.get_embedding(\"Wo ist Andi geboren?\")\n",
        "idx, similarity = embedding.find_most_similar(query_embedding, loaded_embeddings)\n",
        "\n",
        "# Retrieve the text corresponding to the most similar embedding\n",
        "most_similar_text = storage.get_text(idx)\n",
        "print(f\"Most similar text: {most_similar_text} with similarity {similarity}\")"
      ],
      "metadata": {
        "id": "Ls4fJ9XDjgW9",
        "colab": {
          "base_uri": "https://localhost:8080/",
          "height": 51
        },
        "outputId": "ee0f7ac1-cf4e-431f-a5d2-fb4ba42b85f5"
      },
      "id": "Ls4fJ9XDjgW9",
      "execution_count": null,
      "outputs": [
        {
          "output_type": "display_data",
          "data": {
            "text/plain": [
              "Most similar text: Andy Hug wurde in Zürich geboren und wuchs zusammen mit seinem Bruder und seiner Schwester bei \n",
              "seinen Grosseltern in Wohlen auf. with similarity \u001b[1;36m0.5346299106983069\u001b[0m\n"
            ],
            "text/html": [
              "<pre style=\"white-space:pre;overflow-x:auto;line-height:normal;font-family:Menlo,'DejaVu Sans Mono',consolas,'Courier New',monospace\">Most similar text: Andy Hug wurde in Zürich geboren und wuchs zusammen mit seinem Bruder und seiner Schwester bei \n",
              "seinen Grosseltern in Wohlen auf. with similarity <span style=\"color: #008080; text-decoration-color: #008080; font-weight: bold\">0.5346299106983069</span>\n",
              "</pre>\n"
            ]
          },
          "metadata": {}
        }
      ]
    },
    {
      "cell_type": "markdown",
      "id": "35b8efaf",
      "metadata": {
        "id": "35b8efaf"
      },
      "source": [
        "## Verarbeitung aller Dokumente\n"
      ]
    },
    {
      "cell_type": "code",
      "execution_count": null,
      "id": "f8d3f8c5",
      "metadata": {
        "id": "f8d3f8c5"
      },
      "outputs": [],
      "source": [
        "files_path = \"zvb_pdfs\"\n",
        "openai_client = OpenAI(api_key=openai_api_key)\n",
        "\n",
        "all_items = os.listdir(files_path)\n",
        "files = [item for item in all_items if os.path.isfile(os.path.join(files_path, item))]\n",
        "print (f'Processing {files} ...')\n"
      ]
    },
    {
      "cell_type": "code",
      "execution_count": null,
      "id": "26d1021a",
      "metadata": {
        "id": "26d1021a"
      },
      "outputs": [],
      "source": [
        "def analyze_doc_image(img):\n",
        "    img_uri = get_img_uri(img)\n",
        "#    data = analyze_image(openai_client, image_analysis_system_prompt, img_uri)\n",
        "    data = analyze_image(openai_client, hypergalactical_prompt, img_uri)\n",
        "    return data"
      ]
    },
    {
      "cell_type": "markdown",
      "id": "4170b84f",
      "metadata": {
        "id": "4170b84f"
      },
      "source": [
        "We will list all files in the example folder and process them by\n",
        "1. Extracting the text\n",
        "2. Converting the docs to images\n",
        "3. Analyzing pages with GPT-4o\n",
        "\n",
        "Note: This takes about ~2 mins to run. Feel free to skip and load directly the result file (see below)."
      ]
    },
    {
      "cell_type": "code",
      "execution_count": null,
      "id": "dace007b",
      "metadata": {
        "id": "dace007b"
      },
      "outputs": [],
      "source": [
        "# TPM Limit Problem angehen\n",
        "\n",
        "docs = []\n",
        "\n",
        "for f in files[0:2]:\n",
        "\n",
        "    path = f\"{files_path}/{f}\"\n",
        "    doc = {\n",
        "        \"filename\": f\n",
        "    }\n",
        "    text = extract_text_from_doc(path)\n",
        "    doc['text'] = text\n",
        "    imgs = convert_doc_to_images(path)\n",
        "    pages_description = []\n",
        "\n",
        "    print(f\"Analyzing pages for doc {f}\")\n",
        "\n",
        "    # Concurrent execution\n",
        "    with concurrent.futures.ThreadPoolExecutor(max_workers=8) as executor:\n",
        "\n",
        "        # Removing 1st slide as it's usually just an intro\n",
        "        futures = [\n",
        "            executor.submit(analyze_doc_image, img)\n",
        "            for img in imgs\n",
        "        ]\n",
        "\n",
        "        with tqdm(total=len(imgs)) as pbar:\n",
        "            for _ in concurrent.futures.as_completed(futures):\n",
        "                pbar.update(1)\n",
        "\n",
        "        for f in futures:\n",
        "            res = f.result()\n",
        "            pages_description.append(res)\n",
        "\n",
        "    doc['pages_description'] = pages_description\n",
        "    docs.append(doc)"
      ]
    },
    {
      "cell_type": "code",
      "execution_count": null,
      "id": "b733ba0a",
      "metadata": {
        "id": "b733ba0a"
      },
      "outputs": [],
      "source": [
        "# Saving result to file for later\n",
        "json_path = \"parsed_pdf_docs.json\"\n",
        "\n",
        "with open(json_path, 'w') as f:\n",
        "    json.dump(docs, f)"
      ]
    },
    {
      "cell_type": "code",
      "execution_count": null,
      "id": "535770e3",
      "metadata": {
        "id": "535770e3"
      },
      "outputs": [],
      "source": [
        "# Optional: load content from the saved file\n",
        "with open(json_path, 'r') as f:\n",
        "    docs = json.load(f)"
      ]
    },
    {
      "cell_type": "code",
      "execution_count": null,
      "id": "nu0LCMV5JFZ9",
      "metadata": {
        "id": "nu0LCMV5JFZ9"
      },
      "outputs": [],
      "source": [
        "docs"
      ]
    },
    {
      "cell_type": "markdown",
      "id": "e507ee4e",
      "metadata": {
        "id": "e507ee4e"
      },
      "source": [
        "### Embedding content\n",
        "Before embedding the content, we will chunk it logically by page.\n",
        "For real-world scenarios, you could explore more advanced ways to chunk the content:\n",
        "- Cutting it into smaller pieces\n",
        "- Adding data - such as the slide title, deck title and/or the doc description - at the beginning of each piece of content. That way, each independent chunk can be in context\n",
        "\n",
        "For the sake of brevity, we will use a very simple chunking strategy and rely on separators to split the text by page."
      ]
    },
    {
      "cell_type": "code",
      "execution_count": null,
      "id": "05ffb8f8",
      "metadata": {
        "id": "05ffb8f8"
      },
      "outputs": [],
      "source": [
        "# Chunking content by page and merging together slides text & description if applicable\n",
        "# Überlegt Euch wie man den Text zerlegt\n",
        "content = []\n",
        "\n",
        "for doc in docs:\n",
        "    # Split the text by form feed ('\\f') and skip the first slide\n",
        "    slides = doc['text'].split('\\f')\n",
        "    descriptions = doc['pages_description']\n",
        "\n",
        "    # Create a mapping of description titles for faster lookup\n",
        "    description_map = {\n",
        "        desc.split('\\n')[0].strip().lower(): desc.split('\\n', 1)[1] if '\\n' in desc else \"\"\n",
        "        for desc in descriptions\n",
        "    }\n",
        "    used_descriptions = set()\n",
        "\n",
        "    for slide in slides:\n",
        "        slide_lines = slide.split('\\n')\n",
        "        slide_title = slide_lines[0].strip().lower() if slide_lines else \"\"\n",
        "        slide_content = slide + '\\n'\n",
        "\n",
        "        # Find matching description by slide title\n",
        "        if slide_title in description_map:\n",
        "            slide_content += description_map[slide_title]\n",
        "            used_descriptions.add(slide_title)\n",
        "\n",
        "        content.append(slide_content)\n",
        "\n",
        "    # Add descriptions that weren't used\n",
        "    unused_descriptions = [\n",
        "        desc for title, desc in description_map.items() if title not in used_descriptions\n",
        "    ]\n",
        "    content.extend(unused_descriptions)\n"
      ]
    },
    {
      "cell_type": "code",
      "execution_count": null,
      "id": "9f972358",
      "metadata": {
        "id": "9f972358"
      },
      "outputs": [],
      "source": [
        "for c in content:\n",
        "    print(c)\n",
        "    print(\"\\n\\n-------------------------------\\n\\n\")"
      ]
    },
    {
      "cell_type": "markdown",
      "id": "dbfa42b0",
      "metadata": {
        "id": "dbfa42b0"
      },
      "source": [
        "### Texte bereinigen\n",
        "#### Download benötigter Module und Daten."
      ]
    },
    {
      "cell_type": "code",
      "execution_count": null,
      "id": "95472957",
      "metadata": {
        "id": "95472957"
      },
      "outputs": [],
      "source": [
        "# !pip install spaCy nltk\n",
        "!python -m spacy download de_core_news_sm"
      ]
    },
    {
      "cell_type": "code",
      "execution_count": null,
      "id": "8a07b8ba",
      "metadata": {
        "id": "8a07b8ba"
      },
      "outputs": [],
      "source": [
        "# AVB / ZB Texte bereinigen (ghe)\n",
        "# Optimniert für deutschsprachige Texte, (Vertragsbedingungen von Versicherungen)\n",
        "#(1) Bereitstellen der ensprechenden Funktionen\n",
        "\n",
        "import re\n",
        "import nltk\n",
        "from nltk.corpus import stopwords\n",
        "from nltk.tokenize import word_tokenize\n",
        "import spacy\n",
        "\n",
        "nltk.download('stopwords')\n",
        "nltk.download('punkt_tab')\n",
        "stop_words = set(stopwords.words('german')) # Deutsche Stopwörter\n",
        "nlp = spacy.load(\"de_core_news_sm\") # Deutsches Sprachmodell  für Lematisierung\n",
        "phrases_to_remove = [\"Impressum:\",\n",
        "                     \"Rechte vorbehalten\",\n",
        "                     \"VVG\",\n",
        "                     \"ZB\",\n",
        "                     \"ZVB\"\n",
        "                     \"Ausgabe\",\n",
        "                     \"Gültig ab\"\n",
        "                     \"Seite\"]\n",
        "\n",
        "\n",
        "def basic_text_cleaning(text):\n",
        "    #text = text.lower()     # Kleinbuchstaben\n",
        "    text = re.sub(r'http\\S+|www\\S+|https\\S+', '', text, flags=re.MULTILINE) # Entfernen von URLs\n",
        "    text = re.sub(r'\\S+@\\S+', '', text)     # Entfernen von E-Mail-Adressen\n",
        "    #text = re.sub(r'[^a-zäöüß\\s]', '', text)     # Entfernen von Sonderzeichen und Zahlen\n",
        "    #text = re.sub(r'[^a-z0-9äöüéèà\\s]', '', text)     # Entfernen von Sonderzeichen\n",
        "    text = re.sub(r'\\s+', ' ', text).strip() # Entfernen von mehrfachen Leerzeichen\n",
        "    return text\n",
        "\n",
        "def remove_stopwords(text):\n",
        "    words = word_tokenize(text, language='german')\n",
        "    filtered_words = [word for word in words if word not in stop_words]\n",
        "    return ' '.join(filtered_words)\n",
        "\n",
        "def lemmatize_text(text):\n",
        "    doc = nlp(text)\n",
        "    lemmatized_text = ' '.join([token.lemma_ for token in doc])\n",
        "    return lemmatized_text\n",
        "\n",
        "def remove_phrases(text, phrases_to_remove):\n",
        "    for phrase in phrases_to_remove:\n",
        "        text = text.replace(phrase, '')\n",
        "    return text\n"
      ]
    },
    {
      "cell_type": "code",
      "execution_count": null,
      "id": "d491991a",
      "metadata": {
        "id": "d491991a"
      },
      "outputs": [],
      "source": [
        "# AVB / ZB Texte bereinigen (ghe)\n",
        "# (2) Test-Textbausteine --> nur für Test der folgenden Funktionen\n",
        "# content = [\n",
        "#     \"Hallo! Besuche uns auf https://example.com oder schreibe eine Mail an info@example.com. 😊\",\n",
        "#     \"Dies ist ein Beispieltext. Impressum: Alle Rechte vorbehalten.\",\n",
        "#     \"Die Katzen spielen mit den Bällen. Sie haben 5 Stück.\",\n",
        "#     \"Das ist ein kurzer Satz, der einige Stopwörter enthält.\",\n",
        "#     \"In der Heilungskosten-Zusatzversicherung Komplementär sind versicherbar:\",\n",
        "#     \"Für Leistungen aus Komplementär I ist in jedem Fall eine ärztliche Verordnung notwendig.\"\n",
        "# ]\n",
        "print ('Obenstehenden Code auskommentieren und den folgenden Code ausführen, um nur die Textbereinigung zu testen')"
      ]
    },
    {
      "cell_type": "code",
      "execution_count": null,
      "id": "f8b84f96",
      "metadata": {
        "id": "f8b84f96"
      },
      "outputs": [],
      "source": [
        "# AVB / ZB Texte bereinigen (ghe)\n",
        "# Optimniert für deutschsprachige Texte, (Vertragsbedingungen von Versicherungen)\n",
        "# (3) Aufruf der Funktionen nach Bedarf.\n",
        "clean_content = []\n",
        "for text_block in content:\n",
        "    cleaner_text_block = text_block\n",
        "    cleaner_text_block = basic_text_cleaning(cleaner_text_block)\n",
        "    #cleaner_text_block = remove_phrases(cleaner_text_block, phrases_to_remove)\n",
        "    #cleaner_text_block = remove_stopwords(cleaner_text_block)\n",
        "    #cleaner_text_block = lemmatize_text(cleaner_text_block)\n",
        "    print(f'Text {text_block} \\n --> {cleaner_text_block}')\n",
        "    clean_content.append(cleaner_text_block)"
      ]
    },
    {
      "cell_type": "code",
      "execution_count": null,
      "id": "7a13c8c3",
      "metadata": {
        "id": "7a13c8c3"
      },
      "outputs": [],
      "source": [
        "for c in clean_content:\n",
        "    print(c)\n",
        "    print(\"\\n\\n-------------------------------\\n\\n\")"
      ]
    },
    {
      "cell_type": "code",
      "execution_count": null,
      "id": "c183f248",
      "metadata": {
        "id": "c183f248",
        "colab": {
          "base_uri": "https://localhost:8080/",
          "height": 223
        },
        "outputId": "fd3efb22-dc17-4adf-9e8e-27618146f92a"
      },
      "outputs": [
        {
          "output_type": "display_data",
          "data": {
            "text/plain": [
              "\u001b[1m(\u001b[0m\u001b[1;36m8\u001b[0m, \u001b[1;36m1\u001b[0m\u001b[1m)\u001b[0m\n"
            ],
            "text/html": [
              "<pre style=\"white-space:pre;overflow-x:auto;line-height:normal;font-family:Menlo,'DejaVu Sans Mono',consolas,'Courier New',monospace\"><span style=\"font-weight: bold\">(</span><span style=\"color: #008080; text-decoration-color: #008080; font-weight: bold\">8</span>, <span style=\"color: #008080; text-decoration-color: #008080; font-weight: bold\">1</span><span style=\"font-weight: bold\">)</span>\n",
              "</pre>\n"
            ]
          },
          "metadata": {}
        },
        {
          "output_type": "execute_result",
          "data": {
            "text/plain": [
              "                                             content\n",
              "0  2 2. Leistungskatalog Komplementär I II III Ma...\n",
              "1                                                   \n",
              "2  **Hinweis:** - Die Nennung der Geschlechter er...\n",
              "3  ### Komplementärversicherung | Kategorie | I |...\n",
              "4  Ausgabe 1. Januar 2021 Zusätzliche Versicherun..."
            ],
            "text/html": [
              "\n",
              "  <div id=\"df-5b600c2e-6c85-4c73-b727-f2d1c47c0b2c\" class=\"colab-df-container\">\n",
              "    <div>\n",
              "<style scoped>\n",
              "    .dataframe tbody tr th:only-of-type {\n",
              "        vertical-align: middle;\n",
              "    }\n",
              "\n",
              "    .dataframe tbody tr th {\n",
              "        vertical-align: top;\n",
              "    }\n",
              "\n",
              "    .dataframe thead th {\n",
              "        text-align: right;\n",
              "    }\n",
              "</style>\n",
              "<table border=\"1\" class=\"dataframe\">\n",
              "  <thead>\n",
              "    <tr style=\"text-align: right;\">\n",
              "      <th></th>\n",
              "      <th>content</th>\n",
              "    </tr>\n",
              "  </thead>\n",
              "  <tbody>\n",
              "    <tr>\n",
              "      <th>0</th>\n",
              "      <td>2 2. Leistungskatalog Komplementär I II III Ma...</td>\n",
              "    </tr>\n",
              "    <tr>\n",
              "      <th>1</th>\n",
              "      <td></td>\n",
              "    </tr>\n",
              "    <tr>\n",
              "      <th>2</th>\n",
              "      <td>**Hinweis:** - Die Nennung der Geschlechter er...</td>\n",
              "    </tr>\n",
              "    <tr>\n",
              "      <th>3</th>\n",
              "      <td>### Komplementärversicherung | Kategorie | I |...</td>\n",
              "    </tr>\n",
              "    <tr>\n",
              "      <th>4</th>\n",
              "      <td>Ausgabe 1. Januar 2021 Zusätzliche Versicherun...</td>\n",
              "    </tr>\n",
              "  </tbody>\n",
              "</table>\n",
              "</div>\n",
              "    <div class=\"colab-df-buttons\">\n",
              "\n",
              "  <div class=\"colab-df-container\">\n",
              "    <button class=\"colab-df-convert\" onclick=\"convertToInteractive('df-5b600c2e-6c85-4c73-b727-f2d1c47c0b2c')\"\n",
              "            title=\"Convert this dataframe to an interactive table.\"\n",
              "            style=\"display:none;\">\n",
              "\n",
              "  <svg xmlns=\"http://www.w3.org/2000/svg\" height=\"24px\" viewBox=\"0 -960 960 960\">\n",
              "    <path d=\"M120-120v-720h720v720H120Zm60-500h600v-160H180v160Zm220 220h160v-160H400v160Zm0 220h160v-160H400v160ZM180-400h160v-160H180v160Zm440 0h160v-160H620v160ZM180-180h160v-160H180v160Zm440 0h160v-160H620v160Z\"/>\n",
              "  </svg>\n",
              "    </button>\n",
              "\n",
              "  <style>\n",
              "    .colab-df-container {\n",
              "      display:flex;\n",
              "      gap: 12px;\n",
              "    }\n",
              "\n",
              "    .colab-df-convert {\n",
              "      background-color: #E8F0FE;\n",
              "      border: none;\n",
              "      border-radius: 50%;\n",
              "      cursor: pointer;\n",
              "      display: none;\n",
              "      fill: #1967D2;\n",
              "      height: 32px;\n",
              "      padding: 0 0 0 0;\n",
              "      width: 32px;\n",
              "    }\n",
              "\n",
              "    .colab-df-convert:hover {\n",
              "      background-color: #E2EBFA;\n",
              "      box-shadow: 0px 1px 2px rgba(60, 64, 67, 0.3), 0px 1px 3px 1px rgba(60, 64, 67, 0.15);\n",
              "      fill: #174EA6;\n",
              "    }\n",
              "\n",
              "    .colab-df-buttons div {\n",
              "      margin-bottom: 4px;\n",
              "    }\n",
              "\n",
              "    [theme=dark] .colab-df-convert {\n",
              "      background-color: #3B4455;\n",
              "      fill: #D2E3FC;\n",
              "    }\n",
              "\n",
              "    [theme=dark] .colab-df-convert:hover {\n",
              "      background-color: #434B5C;\n",
              "      box-shadow: 0px 1px 3px 1px rgba(0, 0, 0, 0.15);\n",
              "      filter: drop-shadow(0px 1px 2px rgba(0, 0, 0, 0.3));\n",
              "      fill: #FFFFFF;\n",
              "    }\n",
              "  </style>\n",
              "\n",
              "    <script>\n",
              "      const buttonEl =\n",
              "        document.querySelector('#df-5b600c2e-6c85-4c73-b727-f2d1c47c0b2c button.colab-df-convert');\n",
              "      buttonEl.style.display =\n",
              "        google.colab.kernel.accessAllowed ? 'block' : 'none';\n",
              "\n",
              "      async function convertToInteractive(key) {\n",
              "        const element = document.querySelector('#df-5b600c2e-6c85-4c73-b727-f2d1c47c0b2c');\n",
              "        const dataTable =\n",
              "          await google.colab.kernel.invokeFunction('convertToInteractive',\n",
              "                                                    [key], {});\n",
              "        if (!dataTable) return;\n",
              "\n",
              "        const docLinkHtml = 'Like what you see? Visit the ' +\n",
              "          '<a target=\"_blank\" href=https://colab.research.google.com/notebooks/data_table.ipynb>data table notebook</a>'\n",
              "          + ' to learn more about interactive tables.';\n",
              "        element.innerHTML = '';\n",
              "        dataTable['output_type'] = 'display_data';\n",
              "        await google.colab.output.renderOutput(dataTable, element);\n",
              "        const docLink = document.createElement('div');\n",
              "        docLink.innerHTML = docLinkHtml;\n",
              "        element.appendChild(docLink);\n",
              "      }\n",
              "    </script>\n",
              "  </div>\n",
              "\n",
              "\n",
              "<div id=\"df-8a56a8be-a17b-4969-b78f-f9a9364cfbb8\">\n",
              "  <button class=\"colab-df-quickchart\" onclick=\"quickchart('df-8a56a8be-a17b-4969-b78f-f9a9364cfbb8')\"\n",
              "            title=\"Suggest charts\"\n",
              "            style=\"display:none;\">\n",
              "\n",
              "<svg xmlns=\"http://www.w3.org/2000/svg\" height=\"24px\"viewBox=\"0 0 24 24\"\n",
              "     width=\"24px\">\n",
              "    <g>\n",
              "        <path d=\"M19 3H5c-1.1 0-2 .9-2 2v14c0 1.1.9 2 2 2h14c1.1 0 2-.9 2-2V5c0-1.1-.9-2-2-2zM9 17H7v-7h2v7zm4 0h-2V7h2v10zm4 0h-2v-4h2v4z\"/>\n",
              "    </g>\n",
              "</svg>\n",
              "  </button>\n",
              "\n",
              "<style>\n",
              "  .colab-df-quickchart {\n",
              "      --bg-color: #E8F0FE;\n",
              "      --fill-color: #1967D2;\n",
              "      --hover-bg-color: #E2EBFA;\n",
              "      --hover-fill-color: #174EA6;\n",
              "      --disabled-fill-color: #AAA;\n",
              "      --disabled-bg-color: #DDD;\n",
              "  }\n",
              "\n",
              "  [theme=dark] .colab-df-quickchart {\n",
              "      --bg-color: #3B4455;\n",
              "      --fill-color: #D2E3FC;\n",
              "      --hover-bg-color: #434B5C;\n",
              "      --hover-fill-color: #FFFFFF;\n",
              "      --disabled-bg-color: #3B4455;\n",
              "      --disabled-fill-color: #666;\n",
              "  }\n",
              "\n",
              "  .colab-df-quickchart {\n",
              "    background-color: var(--bg-color);\n",
              "    border: none;\n",
              "    border-radius: 50%;\n",
              "    cursor: pointer;\n",
              "    display: none;\n",
              "    fill: var(--fill-color);\n",
              "    height: 32px;\n",
              "    padding: 0;\n",
              "    width: 32px;\n",
              "  }\n",
              "\n",
              "  .colab-df-quickchart:hover {\n",
              "    background-color: var(--hover-bg-color);\n",
              "    box-shadow: 0 1px 2px rgba(60, 64, 67, 0.3), 0 1px 3px 1px rgba(60, 64, 67, 0.15);\n",
              "    fill: var(--button-hover-fill-color);\n",
              "  }\n",
              "\n",
              "  .colab-df-quickchart-complete:disabled,\n",
              "  .colab-df-quickchart-complete:disabled:hover {\n",
              "    background-color: var(--disabled-bg-color);\n",
              "    fill: var(--disabled-fill-color);\n",
              "    box-shadow: none;\n",
              "  }\n",
              "\n",
              "  .colab-df-spinner {\n",
              "    border: 2px solid var(--fill-color);\n",
              "    border-color: transparent;\n",
              "    border-bottom-color: var(--fill-color);\n",
              "    animation:\n",
              "      spin 1s steps(1) infinite;\n",
              "  }\n",
              "\n",
              "  @keyframes spin {\n",
              "    0% {\n",
              "      border-color: transparent;\n",
              "      border-bottom-color: var(--fill-color);\n",
              "      border-left-color: var(--fill-color);\n",
              "    }\n",
              "    20% {\n",
              "      border-color: transparent;\n",
              "      border-left-color: var(--fill-color);\n",
              "      border-top-color: var(--fill-color);\n",
              "    }\n",
              "    30% {\n",
              "      border-color: transparent;\n",
              "      border-left-color: var(--fill-color);\n",
              "      border-top-color: var(--fill-color);\n",
              "      border-right-color: var(--fill-color);\n",
              "    }\n",
              "    40% {\n",
              "      border-color: transparent;\n",
              "      border-right-color: var(--fill-color);\n",
              "      border-top-color: var(--fill-color);\n",
              "    }\n",
              "    60% {\n",
              "      border-color: transparent;\n",
              "      border-right-color: var(--fill-color);\n",
              "    }\n",
              "    80% {\n",
              "      border-color: transparent;\n",
              "      border-right-color: var(--fill-color);\n",
              "      border-bottom-color: var(--fill-color);\n",
              "    }\n",
              "    90% {\n",
              "      border-color: transparent;\n",
              "      border-bottom-color: var(--fill-color);\n",
              "    }\n",
              "  }\n",
              "</style>\n",
              "\n",
              "  <script>\n",
              "    async function quickchart(key) {\n",
              "      const quickchartButtonEl =\n",
              "        document.querySelector('#' + key + ' button');\n",
              "      quickchartButtonEl.disabled = true;  // To prevent multiple clicks.\n",
              "      quickchartButtonEl.classList.add('colab-df-spinner');\n",
              "      try {\n",
              "        const charts = await google.colab.kernel.invokeFunction(\n",
              "            'suggestCharts', [key], {});\n",
              "      } catch (error) {\n",
              "        console.error('Error during call to suggestCharts:', error);\n",
              "      }\n",
              "      quickchartButtonEl.classList.remove('colab-df-spinner');\n",
              "      quickchartButtonEl.classList.add('colab-df-quickchart-complete');\n",
              "    }\n",
              "    (() => {\n",
              "      let quickchartButtonEl =\n",
              "        document.querySelector('#df-8a56a8be-a17b-4969-b78f-f9a9364cfbb8 button');\n",
              "      quickchartButtonEl.style.display =\n",
              "        google.colab.kernel.accessAllowed ? 'block' : 'none';\n",
              "    })();\n",
              "  </script>\n",
              "</div>\n",
              "\n",
              "    </div>\n",
              "  </div>\n"
            ],
            "application/vnd.google.colaboratory.intrinsic+json": {
              "type": "dataframe",
              "variable_name": "df",
              "summary": "{\n  \"name\": \"df\",\n  \"rows\": 8,\n  \"fields\": [\n    {\n      \"column\": \"content\",\n      \"properties\": {\n        \"dtype\": \"string\",\n        \"num_unique_values\": 7,\n        \"samples\": [\n          \"2 2. Leistungskatalog Komplement\\u00e4r I II III Maximaler Beitrag pro Kalenderjahr f\\u00fcr alle nach- stehend aufgef\\u00fchrten Leistungen insgesamt CHF 1'000.\\u2013 CHF 4'000.\\u2013 CHF 10'000.\\u2013 \\u00c4rzte (mit eidg. Diplom) in der Liste aufgef\\u00fchrte Therapieformen andere Therapieformen 90 % 90 % Besondere Bestimmungen Ziffer 3.2 90 % 90 % 90 % 90 % 90 % 90 % 90 % 50 % CHF 1'000.\\u2013 Ziffer 3.2 Ziffer 3.1 90 % 90 % 90 % 90 % Naturheilpraktiker und andere Therapeuten \\u25aa durch die Visana Versicherungen AG anerkannt: f\\u00fcr in der Liste aufgef\\u00fchrte Therapieformen \\u2013 \\u00e4rztlich verordnet \\u2013 ohne \\u00e4rztliche Verordnung f\\u00fcr andere Therapieformen 90 % \\u25aa durch die Visana Versicherungen AG nicht anerkannt: maximal pro Kalenderjahr Medikamente \\u25aa \\u00e4rztlich verordnet \\u25aa durch von der Visana Versicherungen AG anerkannten 90 % 90 % Naturheilpraktiker verordnet 3. Besondere Bestimmungen 3.1 Medikamente Die Leistungen werden ausgerichtet an \\u25aa anthroposophische Pr\\u00e4parate \\u25aa biologische Pr\\u00e4parate \\u25aa hom\\u00f6opathische Pr\\u00e4parate \\u25aa oligosole Pr\\u00e4parate \\u25aa phytotherapeutische Pr\\u00e4parate \\u25aa serocytole Pr\\u00e4parate Kein Beitrag an Pr\\u00e4parate, die in der Liste pharmazeutischer Pr\\u00e4parate mit spezieller Verwendung (LPPV) aufgef\\u00fchrt sind sowie an Pr\\u00e4parate, welche als Nahrungserg\\u00e4nzung deklariert und angewendet werden. 3.2 Leistungsausschl\\u00fcsse F\\u00fcr die folgenden Behandlungsformen werden keine Leistun- gen ausgerichtet: \\u25aa Astrologie \\u25aa Esoterische Therapieformen wie z. B. Geistheilung \\u25aa Fernbehandlung \\u25aa Handauflegung \\u25aa Magnetopathie \\u25aa Reiki Ferner sind Aktivit\\u00e4ten nicht versichert, welche vorwiegend der Steigerung des allgemeinen Wohlbefindens dienen (z. B. Yoga, Tai-Chi, Aerobic etc.) Weltpoststrasse 19, 3000 Bern 16, Tel. 031 357 91 11, Fax 031 357 96 22, V-901 ZB II 2022-01 2021-12-21T16:01:47.614+01:00\",\n          \"\",\n          \"**Allgemeines** 1. **Zweck** - Die SANA Krankenpflege-Zusatzversicherung deckt Kosten f\\u00fcr ambulante und station\\u00e4re Behandlungen in der Komplement\\u00e4rmedizin, Pr\\u00e4ventionsma\\u00dfnahmen und Gesundheitsf\\u00f6rderung. **Leistungen** 2. **Komplement\\u00e4rmedizin** - **2.1** F\\u00fcr ambulante Behandlungen mit komplement\\u00e4rmedizinischen Heilmethoden \\u00fcbernimmt Helsana 75% der Kosten, sofern die Leistung von anerkannten Anbietern erbracht wird. Eine Liste dieser Anbieter ist bei Helsana einsehbar. - **2.2** Anerkannte komplement\\u00e4rmedizinische Heilmittel werden zu 75% \\u00fcbernommen, wenn sie von anerkannten Anbietern verordnet werden. - **2.3** Station\\u00e4re Behandlungen mit komplement\\u00e4rmedizinischen Methoden in anerkannten Einrichtungen werden bis zu CHF 5000 pro Jahr erstattet. - **2.4** Bei vor\\u00fcbergehendem Auslandsaufenthalt werden Kosten f\\u00fcr ambulante Behandlungen \\u00fcbernommen, auch wenn der Anbieter nicht auf der Liste steht, sofern die Behandlung nicht der Hauptzweck des Aufenthalts ist.\"\n        ],\n        \"semantic_type\": \"\",\n        \"description\": \"\"\n      }\n    }\n  ]\n}"
            }
          },
          "metadata": {},
          "execution_count": 50
        }
      ],
      "source": [
        "# Creating the embeddings\n",
        "# We'll save to a csv file here for testing purposes but this is where you should load content in your vectorDB.\n",
        "df = pd.DataFrame(clean_content, columns=['content'])\n",
        "print(df.shape)\n",
        "df.head()"
      ]
    },
    {
      "cell_type": "code",
      "execution_count": null,
      "id": "99e498ce",
      "metadata": {
        "id": "99e498ce"
      },
      "outputs": [],
      "source": [
        "# HA vergleichen mit Hugging Face embeddings\n",
        "\n",
        "embeddings_model = \"text-embedding-3-large\"\n",
        "\n",
        "def get_embeddings(text):\n",
        "    embeddings = client.embeddings.create(\n",
        "      model=\"text-embedding-3-small\",\n",
        "      input=text,\n",
        "      encoding_format=\"float\"\n",
        "    )\n",
        "    return embeddings.data[0].embedding"
      ]
    },
    {
      "cell_type": "code",
      "execution_count": null,
      "id": "c55ffea5",
      "metadata": {
        "id": "c55ffea5",
        "colab": {
          "base_uri": "https://localhost:8080/",
          "height": 206
        },
        "outputId": "822e7dc7-a058-40f3-94c0-4419d4d4c0b9"
      },
      "outputs": [
        {
          "output_type": "execute_result",
          "data": {
            "text/plain": [
              "                                             content  \\\n",
              "0  2 2. Leistungskatalog Komplementär I II III Ma...   \n",
              "1                                                      \n",
              "2  **Hinweis:** - Die Nennung der Geschlechter er...   \n",
              "3  ### Komplementärversicherung | Kategorie | I |...   \n",
              "4  Ausgabe 1. Januar 2021 Zusätzliche Versicherun...   \n",
              "\n",
              "                                          embeddings  \n",
              "0  [-0.032685652, 0.019604007, 0.03211956, 0.0215...  \n",
              "1  [0.015368387, -0.034810703, -0.009328825, 0.01...  \n",
              "2  [-0.0103751635, 0.01803124, 0.0070108683, 0.02...  \n",
              "3  [-0.023061814, 0.022291865, 0.023061814, 0.027...  \n",
              "4  [0.0029073232, 0.016002247, 0.0573272, 0.04209...  "
            ],
            "text/html": [
              "\n",
              "  <div id=\"df-b8378c2d-7840-44df-b462-f272ae3a323c\" class=\"colab-df-container\">\n",
              "    <div>\n",
              "<style scoped>\n",
              "    .dataframe tbody tr th:only-of-type {\n",
              "        vertical-align: middle;\n",
              "    }\n",
              "\n",
              "    .dataframe tbody tr th {\n",
              "        vertical-align: top;\n",
              "    }\n",
              "\n",
              "    .dataframe thead th {\n",
              "        text-align: right;\n",
              "    }\n",
              "</style>\n",
              "<table border=\"1\" class=\"dataframe\">\n",
              "  <thead>\n",
              "    <tr style=\"text-align: right;\">\n",
              "      <th></th>\n",
              "      <th>content</th>\n",
              "      <th>embeddings</th>\n",
              "    </tr>\n",
              "  </thead>\n",
              "  <tbody>\n",
              "    <tr>\n",
              "      <th>0</th>\n",
              "      <td>2 2. Leistungskatalog Komplementär I II III Ma...</td>\n",
              "      <td>[-0.032685652, 0.019604007, 0.03211956, 0.0215...</td>\n",
              "    </tr>\n",
              "    <tr>\n",
              "      <th>1</th>\n",
              "      <td></td>\n",
              "      <td>[0.015368387, -0.034810703, -0.009328825, 0.01...</td>\n",
              "    </tr>\n",
              "    <tr>\n",
              "      <th>2</th>\n",
              "      <td>**Hinweis:** - Die Nennung der Geschlechter er...</td>\n",
              "      <td>[-0.0103751635, 0.01803124, 0.0070108683, 0.02...</td>\n",
              "    </tr>\n",
              "    <tr>\n",
              "      <th>3</th>\n",
              "      <td>### Komplementärversicherung | Kategorie | I |...</td>\n",
              "      <td>[-0.023061814, 0.022291865, 0.023061814, 0.027...</td>\n",
              "    </tr>\n",
              "    <tr>\n",
              "      <th>4</th>\n",
              "      <td>Ausgabe 1. Januar 2021 Zusätzliche Versicherun...</td>\n",
              "      <td>[0.0029073232, 0.016002247, 0.0573272, 0.04209...</td>\n",
              "    </tr>\n",
              "  </tbody>\n",
              "</table>\n",
              "</div>\n",
              "    <div class=\"colab-df-buttons\">\n",
              "\n",
              "  <div class=\"colab-df-container\">\n",
              "    <button class=\"colab-df-convert\" onclick=\"convertToInteractive('df-b8378c2d-7840-44df-b462-f272ae3a323c')\"\n",
              "            title=\"Convert this dataframe to an interactive table.\"\n",
              "            style=\"display:none;\">\n",
              "\n",
              "  <svg xmlns=\"http://www.w3.org/2000/svg\" height=\"24px\" viewBox=\"0 -960 960 960\">\n",
              "    <path d=\"M120-120v-720h720v720H120Zm60-500h600v-160H180v160Zm220 220h160v-160H400v160Zm0 220h160v-160H400v160ZM180-400h160v-160H180v160Zm440 0h160v-160H620v160ZM180-180h160v-160H180v160Zm440 0h160v-160H620v160Z\"/>\n",
              "  </svg>\n",
              "    </button>\n",
              "\n",
              "  <style>\n",
              "    .colab-df-container {\n",
              "      display:flex;\n",
              "      gap: 12px;\n",
              "    }\n",
              "\n",
              "    .colab-df-convert {\n",
              "      background-color: #E8F0FE;\n",
              "      border: none;\n",
              "      border-radius: 50%;\n",
              "      cursor: pointer;\n",
              "      display: none;\n",
              "      fill: #1967D2;\n",
              "      height: 32px;\n",
              "      padding: 0 0 0 0;\n",
              "      width: 32px;\n",
              "    }\n",
              "\n",
              "    .colab-df-convert:hover {\n",
              "      background-color: #E2EBFA;\n",
              "      box-shadow: 0px 1px 2px rgba(60, 64, 67, 0.3), 0px 1px 3px 1px rgba(60, 64, 67, 0.15);\n",
              "      fill: #174EA6;\n",
              "    }\n",
              "\n",
              "    .colab-df-buttons div {\n",
              "      margin-bottom: 4px;\n",
              "    }\n",
              "\n",
              "    [theme=dark] .colab-df-convert {\n",
              "      background-color: #3B4455;\n",
              "      fill: #D2E3FC;\n",
              "    }\n",
              "\n",
              "    [theme=dark] .colab-df-convert:hover {\n",
              "      background-color: #434B5C;\n",
              "      box-shadow: 0px 1px 3px 1px rgba(0, 0, 0, 0.15);\n",
              "      filter: drop-shadow(0px 1px 2px rgba(0, 0, 0, 0.3));\n",
              "      fill: #FFFFFF;\n",
              "    }\n",
              "  </style>\n",
              "\n",
              "    <script>\n",
              "      const buttonEl =\n",
              "        document.querySelector('#df-b8378c2d-7840-44df-b462-f272ae3a323c button.colab-df-convert');\n",
              "      buttonEl.style.display =\n",
              "        google.colab.kernel.accessAllowed ? 'block' : 'none';\n",
              "\n",
              "      async function convertToInteractive(key) {\n",
              "        const element = document.querySelector('#df-b8378c2d-7840-44df-b462-f272ae3a323c');\n",
              "        const dataTable =\n",
              "          await google.colab.kernel.invokeFunction('convertToInteractive',\n",
              "                                                    [key], {});\n",
              "        if (!dataTable) return;\n",
              "\n",
              "        const docLinkHtml = 'Like what you see? Visit the ' +\n",
              "          '<a target=\"_blank\" href=https://colab.research.google.com/notebooks/data_table.ipynb>data table notebook</a>'\n",
              "          + ' to learn more about interactive tables.';\n",
              "        element.innerHTML = '';\n",
              "        dataTable['output_type'] = 'display_data';\n",
              "        await google.colab.output.renderOutput(dataTable, element);\n",
              "        const docLink = document.createElement('div');\n",
              "        docLink.innerHTML = docLinkHtml;\n",
              "        element.appendChild(docLink);\n",
              "      }\n",
              "    </script>\n",
              "  </div>\n",
              "\n",
              "\n",
              "<div id=\"df-300ff194-47b0-4fb6-9a44-3e2e7ff5dbc1\">\n",
              "  <button class=\"colab-df-quickchart\" onclick=\"quickchart('df-300ff194-47b0-4fb6-9a44-3e2e7ff5dbc1')\"\n",
              "            title=\"Suggest charts\"\n",
              "            style=\"display:none;\">\n",
              "\n",
              "<svg xmlns=\"http://www.w3.org/2000/svg\" height=\"24px\"viewBox=\"0 0 24 24\"\n",
              "     width=\"24px\">\n",
              "    <g>\n",
              "        <path d=\"M19 3H5c-1.1 0-2 .9-2 2v14c0 1.1.9 2 2 2h14c1.1 0 2-.9 2-2V5c0-1.1-.9-2-2-2zM9 17H7v-7h2v7zm4 0h-2V7h2v10zm4 0h-2v-4h2v4z\"/>\n",
              "    </g>\n",
              "</svg>\n",
              "  </button>\n",
              "\n",
              "<style>\n",
              "  .colab-df-quickchart {\n",
              "      --bg-color: #E8F0FE;\n",
              "      --fill-color: #1967D2;\n",
              "      --hover-bg-color: #E2EBFA;\n",
              "      --hover-fill-color: #174EA6;\n",
              "      --disabled-fill-color: #AAA;\n",
              "      --disabled-bg-color: #DDD;\n",
              "  }\n",
              "\n",
              "  [theme=dark] .colab-df-quickchart {\n",
              "      --bg-color: #3B4455;\n",
              "      --fill-color: #D2E3FC;\n",
              "      --hover-bg-color: #434B5C;\n",
              "      --hover-fill-color: #FFFFFF;\n",
              "      --disabled-bg-color: #3B4455;\n",
              "      --disabled-fill-color: #666;\n",
              "  }\n",
              "\n",
              "  .colab-df-quickchart {\n",
              "    background-color: var(--bg-color);\n",
              "    border: none;\n",
              "    border-radius: 50%;\n",
              "    cursor: pointer;\n",
              "    display: none;\n",
              "    fill: var(--fill-color);\n",
              "    height: 32px;\n",
              "    padding: 0;\n",
              "    width: 32px;\n",
              "  }\n",
              "\n",
              "  .colab-df-quickchart:hover {\n",
              "    background-color: var(--hover-bg-color);\n",
              "    box-shadow: 0 1px 2px rgba(60, 64, 67, 0.3), 0 1px 3px 1px rgba(60, 64, 67, 0.15);\n",
              "    fill: var(--button-hover-fill-color);\n",
              "  }\n",
              "\n",
              "  .colab-df-quickchart-complete:disabled,\n",
              "  .colab-df-quickchart-complete:disabled:hover {\n",
              "    background-color: var(--disabled-bg-color);\n",
              "    fill: var(--disabled-fill-color);\n",
              "    box-shadow: none;\n",
              "  }\n",
              "\n",
              "  .colab-df-spinner {\n",
              "    border: 2px solid var(--fill-color);\n",
              "    border-color: transparent;\n",
              "    border-bottom-color: var(--fill-color);\n",
              "    animation:\n",
              "      spin 1s steps(1) infinite;\n",
              "  }\n",
              "\n",
              "  @keyframes spin {\n",
              "    0% {\n",
              "      border-color: transparent;\n",
              "      border-bottom-color: var(--fill-color);\n",
              "      border-left-color: var(--fill-color);\n",
              "    }\n",
              "    20% {\n",
              "      border-color: transparent;\n",
              "      border-left-color: var(--fill-color);\n",
              "      border-top-color: var(--fill-color);\n",
              "    }\n",
              "    30% {\n",
              "      border-color: transparent;\n",
              "      border-left-color: var(--fill-color);\n",
              "      border-top-color: var(--fill-color);\n",
              "      border-right-color: var(--fill-color);\n",
              "    }\n",
              "    40% {\n",
              "      border-color: transparent;\n",
              "      border-right-color: var(--fill-color);\n",
              "      border-top-color: var(--fill-color);\n",
              "    }\n",
              "    60% {\n",
              "      border-color: transparent;\n",
              "      border-right-color: var(--fill-color);\n",
              "    }\n",
              "    80% {\n",
              "      border-color: transparent;\n",
              "      border-right-color: var(--fill-color);\n",
              "      border-bottom-color: var(--fill-color);\n",
              "    }\n",
              "    90% {\n",
              "      border-color: transparent;\n",
              "      border-bottom-color: var(--fill-color);\n",
              "    }\n",
              "  }\n",
              "</style>\n",
              "\n",
              "  <script>\n",
              "    async function quickchart(key) {\n",
              "      const quickchartButtonEl =\n",
              "        document.querySelector('#' + key + ' button');\n",
              "      quickchartButtonEl.disabled = true;  // To prevent multiple clicks.\n",
              "      quickchartButtonEl.classList.add('colab-df-spinner');\n",
              "      try {\n",
              "        const charts = await google.colab.kernel.invokeFunction(\n",
              "            'suggestCharts', [key], {});\n",
              "      } catch (error) {\n",
              "        console.error('Error during call to suggestCharts:', error);\n",
              "      }\n",
              "      quickchartButtonEl.classList.remove('colab-df-spinner');\n",
              "      quickchartButtonEl.classList.add('colab-df-quickchart-complete');\n",
              "    }\n",
              "    (() => {\n",
              "      let quickchartButtonEl =\n",
              "        document.querySelector('#df-300ff194-47b0-4fb6-9a44-3e2e7ff5dbc1 button');\n",
              "      quickchartButtonEl.style.display =\n",
              "        google.colab.kernel.accessAllowed ? 'block' : 'none';\n",
              "    })();\n",
              "  </script>\n",
              "</div>\n",
              "\n",
              "    </div>\n",
              "  </div>\n"
            ],
            "application/vnd.google.colaboratory.intrinsic+json": {
              "type": "dataframe",
              "variable_name": "df",
              "summary": "{\n  \"name\": \"df\",\n  \"rows\": 8,\n  \"fields\": [\n    {\n      \"column\": \"content\",\n      \"properties\": {\n        \"dtype\": \"string\",\n        \"num_unique_values\": 7,\n        \"samples\": [\n          \"2 2. Leistungskatalog Komplement\\u00e4r I II III Maximaler Beitrag pro Kalenderjahr f\\u00fcr alle nach- stehend aufgef\\u00fchrten Leistungen insgesamt CHF 1'000.\\u2013 CHF 4'000.\\u2013 CHF 10'000.\\u2013 \\u00c4rzte (mit eidg. Diplom) in der Liste aufgef\\u00fchrte Therapieformen andere Therapieformen 90 % 90 % Besondere Bestimmungen Ziffer 3.2 90 % 90 % 90 % 90 % 90 % 90 % 90 % 50 % CHF 1'000.\\u2013 Ziffer 3.2 Ziffer 3.1 90 % 90 % 90 % 90 % Naturheilpraktiker und andere Therapeuten \\u25aa durch die Visana Versicherungen AG anerkannt: f\\u00fcr in der Liste aufgef\\u00fchrte Therapieformen \\u2013 \\u00e4rztlich verordnet \\u2013 ohne \\u00e4rztliche Verordnung f\\u00fcr andere Therapieformen 90 % \\u25aa durch die Visana Versicherungen AG nicht anerkannt: maximal pro Kalenderjahr Medikamente \\u25aa \\u00e4rztlich verordnet \\u25aa durch von der Visana Versicherungen AG anerkannten 90 % 90 % Naturheilpraktiker verordnet 3. Besondere Bestimmungen 3.1 Medikamente Die Leistungen werden ausgerichtet an \\u25aa anthroposophische Pr\\u00e4parate \\u25aa biologische Pr\\u00e4parate \\u25aa hom\\u00f6opathische Pr\\u00e4parate \\u25aa oligosole Pr\\u00e4parate \\u25aa phytotherapeutische Pr\\u00e4parate \\u25aa serocytole Pr\\u00e4parate Kein Beitrag an Pr\\u00e4parate, die in der Liste pharmazeutischer Pr\\u00e4parate mit spezieller Verwendung (LPPV) aufgef\\u00fchrt sind sowie an Pr\\u00e4parate, welche als Nahrungserg\\u00e4nzung deklariert und angewendet werden. 3.2 Leistungsausschl\\u00fcsse F\\u00fcr die folgenden Behandlungsformen werden keine Leistun- gen ausgerichtet: \\u25aa Astrologie \\u25aa Esoterische Therapieformen wie z. B. Geistheilung \\u25aa Fernbehandlung \\u25aa Handauflegung \\u25aa Magnetopathie \\u25aa Reiki Ferner sind Aktivit\\u00e4ten nicht versichert, welche vorwiegend der Steigerung des allgemeinen Wohlbefindens dienen (z. B. Yoga, Tai-Chi, Aerobic etc.) Weltpoststrasse 19, 3000 Bern 16, Tel. 031 357 91 11, Fax 031 357 96 22, V-901 ZB II 2022-01 2021-12-21T16:01:47.614+01:00\",\n          \"\",\n          \"**Allgemeines** 1. **Zweck** - Die SANA Krankenpflege-Zusatzversicherung deckt Kosten f\\u00fcr ambulante und station\\u00e4re Behandlungen in der Komplement\\u00e4rmedizin, Pr\\u00e4ventionsma\\u00dfnahmen und Gesundheitsf\\u00f6rderung. **Leistungen** 2. **Komplement\\u00e4rmedizin** - **2.1** F\\u00fcr ambulante Behandlungen mit komplement\\u00e4rmedizinischen Heilmethoden \\u00fcbernimmt Helsana 75% der Kosten, sofern die Leistung von anerkannten Anbietern erbracht wird. Eine Liste dieser Anbieter ist bei Helsana einsehbar. - **2.2** Anerkannte komplement\\u00e4rmedizinische Heilmittel werden zu 75% \\u00fcbernommen, wenn sie von anerkannten Anbietern verordnet werden. - **2.3** Station\\u00e4re Behandlungen mit komplement\\u00e4rmedizinischen Methoden in anerkannten Einrichtungen werden bis zu CHF 5000 pro Jahr erstattet. - **2.4** Bei vor\\u00fcbergehendem Auslandsaufenthalt werden Kosten f\\u00fcr ambulante Behandlungen \\u00fcbernommen, auch wenn der Anbieter nicht auf der Liste steht, sofern die Behandlung nicht der Hauptzweck des Aufenthalts ist.\"\n        ],\n        \"semantic_type\": \"\",\n        \"description\": \"\"\n      }\n    },\n    {\n      \"column\": \"embeddings\",\n      \"properties\": {\n        \"dtype\": \"object\",\n        \"semantic_type\": \"\",\n        \"description\": \"\"\n      }\n    }\n  ]\n}"
            }
          },
          "metadata": {},
          "execution_count": 52
        }
      ],
      "source": [
        "df['embeddings'] = df['content'].apply(lambda x: get_embeddings(x))\n",
        "df.head()"
      ]
    },
    {
      "cell_type": "code",
      "execution_count": null,
      "id": "4ed508fc",
      "metadata": {
        "id": "4ed508fc"
      },
      "outputs": [],
      "source": [
        "# Saving locally for later\n",
        "data_path = \"parsed_pdf_docs_with_embeddings.csv\"\n",
        "df.to_csv(data_path, index=False)"
      ]
    },
    {
      "cell_type": "code",
      "execution_count": null,
      "id": "b2d46009",
      "metadata": {
        "id": "b2d46009"
      },
      "outputs": [],
      "source": [
        "# Optional: load data from saved file\n",
        "df = pd.read_csv(data_path)\n",
        "df[\"embeddings\"] = df.embeddings.apply(literal_eval).apply(np.array)"
      ]
    },
    {
      "cell_type": "code",
      "execution_count": null,
      "id": "8nD_X_AMKxUQ",
      "metadata": {
        "id": "8nD_X_AMKxUQ"
      },
      "outputs": [],
      "source": [
        "df"
      ]
    },
    {
      "cell_type": "markdown",
      "id": "20f28788",
      "metadata": {
        "id": "20f28788"
      },
      "source": [
        "## Retrieval-augmented generation\n",
        "\n",
        "The last step of the process is to generate outputs in response to input queries, after retrieving content as context to reply."
      ]
    },
    {
      "cell_type": "code",
      "execution_count": null,
      "id": "d7edc01b",
      "metadata": {
        "id": "d7edc01b"
      },
      "outputs": [],
      "source": [
        "rag_system_prompt = '''\n",
        "    You will be provided with an input prompt and content as context that can be used to reply to the prompt.\n",
        "\n",
        "    You will do 2 things:\n",
        "\n",
        "    1. First, you will internally assess whether the content provided is relevant to reply to the input prompt.\n",
        "\n",
        "    2a. If that is the case, answer directly using this content. If the content is relevant, use elements found in the content to craft a reply to the input prompt.\n",
        "\n",
        "    2b. If the content is not relevant, use your own knowledge to reply or say that you don't know how to respond if your knowledge is not sufficient to answer.\n",
        "\n",
        "    Stay concise with your answer, replying specifically to the input prompt without mentioning additional information provided in the context content.\n",
        "'''\n",
        "\n",
        "model=\"gpt-4o\"\n",
        "\n",
        "def search_content(df, input_text, top_k):\n",
        "    embedded_value = get_embeddings(input_text)\n",
        "    df[\"similarity\"] = df.embeddings.apply(lambda x: cosine_similarity(np.array(x).reshape(1,-1), np.array(embedded_value).reshape(1, -1)))\n",
        "    res = df.sort_values('similarity', ascending=False).head(top_k)\n",
        "    return res\n",
        "\n",
        "def get_similarity(row):\n",
        "    similarity_score = row['similarity']\n",
        "    if isinstance(similarity_score, np.ndarray):\n",
        "        similarity_score = similarity_score[0][0]\n",
        "    return similarity_score\n",
        "\n",
        "def generate_output(input_prompt, similar_content, threshold = 0.5):\n",
        "\n",
        "    content = similar_content.iloc[0]['content']\n",
        "\n",
        "    # Adding more matching content if the similarity is above threshold\n",
        "    if len(similar_content) > 1:\n",
        "        for i, row in similar_content.iterrows():\n",
        "            similarity_score = get_similarity(row)\n",
        "            if similarity_score > threshold:\n",
        "                content += f\"\\n\\n{row['content']}\"\n",
        "\n",
        "    prompt = f\"INPUT PROMPT:\\n{input_prompt}\\n-------\\nCONTENT:\\n{content}\"\n",
        "\n",
        "    completion = client.chat.completions.create(\n",
        "        model=model,\n",
        "        temperature=0.5,\n",
        "        messages=[\n",
        "            {\n",
        "                \"role\": \"system\",\n",
        "                \"content\": rag_system_prompt\n",
        "            },\n",
        "            {\n",
        "                \"role\": \"user\",\n",
        "                \"content\": prompt\n",
        "            }\n",
        "        ]\n",
        "    )\n",
        "\n",
        "    return completion.choices[0].message.content"
      ]
    },
    {
      "cell_type": "code",
      "execution_count": null,
      "id": "54f9fb11",
      "metadata": {
        "id": "54f9fb11"
      },
      "outputs": [],
      "source": [
        "# Example user queries related to the content\n",
        "example_inputs = [\n",
        "    'Kann ich mein Rechnung für Akkupunktur der Helsana einsenden?',\n",
        "    'Wieviel zahlt Helsana an Akkupunktur?',\n",
        "    'Übernimmt Visana die Kosten für meine Hellseherin?',\n",
        "    'Welche Krankenkasse übernimmt die höheren Beiträge bei Ergotherapie?',\n",
        "    'Hat mein Kind Vorbehalte, wenn ich es bei Visana alternativ versichern lasse?',\n",
        "    'Hat mein Kind Vorbehalte, wenn ich es bei Helsana alternativ versichern lasse?',\n",
        "    'Ab wann kann ich mein Kind bei der Helsana alternativ versichern?',\n",
        "    'Ich war auf Bali in einer Ayurveda Behandlung. Werden mir diese Kosten zurückerstattet?',\n",
        "    'Von welcher Versicherung erhalten ich den grössten Betrag vergütet und für welche Leistung?',\n",
        "    'Wie war nochmal der Name von Taylor Swifts Lieblingshaustier?'\n",
        "]"
      ]
    },
    {
      "cell_type": "code",
      "execution_count": null,
      "id": "313d2f7e",
      "metadata": {
        "id": "313d2f7e"
      },
      "outputs": [],
      "source": [
        "# Running the RAG pipeline on each example\n",
        "for ex in example_inputs:\n",
        "    print(f\"[deep_pink4][bold]QUERY:[/bold] {ex}[/deep_pink4]\\n\\n\")\n",
        "    matching_content = search_content(df, ex, 3)\n",
        "    print(f\"[grey37][b]Matching content:[/b][/grey37]\\n\")\n",
        "    for i, match in matching_content.iterrows():\n",
        "        print(f\"[grey37][i]Similarity: {get_similarity(match):.2f}[/i][/grey37]\")\n",
        "        #print(f\"[grey37]{match['content'][:100]}{'...' if len(match['content']) > 100 else ''}[/[grey37]]\\n\\n\")\n",
        "    reply = generate_output(ex, matching_content)\n",
        "    print(f\"[turquoise4][b]REPLY:[/b][/turquoise4]\\n\\n[spring_green4]{reply}[/spring_green4]\\n\\n--------------\\n\\n\")"
      ]
    },
    {
      "cell_type": "markdown",
      "source": [
        "#### Testen von RAG\n",
        "\n",
        "Die Antworten können unterschiedlich sein, da sie von einer LLM aufbereitet werden. Unit- oder Integrationstests sind so per se eher schwierig.\n",
        "\n",
        "Eine Variante, dies zu umgehen ist der Rückgriff auf eine LLM, um die erwartet und erhaltene Aussage inhaltlicdh zu vergleichen."
      ],
      "metadata": {
        "id": "OXdYOY1DLnna"
      },
      "id": "OXdYOY1DLnna"
    },
    {
      "cell_type": "code",
      "source": [
        "testing_system_prompt = '''\n",
        "    You will receive 2 statements marked as \"<<EXPECTED>>:\" and \"<<RECEIVED>>:\"\n",
        "\n",
        "    Check this two statements if the base proposition is the same.\n",
        "\n",
        "    Answer just with the literal value \"True\" or \"False\"\n",
        "'''\n",
        "\n",
        "model=\"gpt-4o\"\n",
        "\n",
        "def test_statement(question, expected_answer, expected=True):\n",
        "\n",
        "    matching_content = search_content(df, question, 3)\n",
        "    actual_answer = generate_output(question, matching_content)\n",
        "\n",
        "    #print (actual_answer)\n",
        "\n",
        "    prompt = f\"\"\"\n",
        "    <<EXPECTED>>:\n",
        "    {expected_answer}\n",
        "\n",
        "    <<RECEIVED>>:\n",
        "    {actual_answer}\n",
        "    \"\"\"\n",
        "\n",
        "    # print(f'Teste: {prompt}')\n",
        "\n",
        "    completion = client.chat.completions.create(\n",
        "        model=model,\n",
        "        temperature=0.5,\n",
        "        messages=[\n",
        "            {\n",
        "                \"role\": \"system\",\n",
        "                \"content\": testing_system_prompt\n",
        "            },\n",
        "            {\n",
        "                \"role\": \"user\",\n",
        "                \"content\": prompt\n",
        "            }\n",
        "        ]\n",
        "    )\n",
        "    if completion.choices[0].message.content == str(expected):\n",
        "        print(f'Test zu \"{question}\" erfolgreich!')\n",
        "    else:\n",
        "        print(f'''Test zu \"{question}\" expected={expected} fehlgeschlagen!\n",
        "        - erwartete Antwort: \"{expected_answer}\"\n",
        "        - erhaltene Antwort: \"{actual_answer}\"\n",
        "        ''')\n",
        "\n",
        "\n",
        "\n",
        "test_statement('Übernimmt Visana die Kosten für meine Hellseherin?', 'Visana übernimmt keine Kosten für Hellseherinnen.')\n",
        "test_statement('Übernimmt Visana die Kosten für meine Hellseherin?', 'Ja Visana übernimmt die Kosten für Hellseherinnen.', expected=False)\n",
        "test_statement('Kann ich mein Rechnung für Akkupunktur der Helsana einsenden?', 'Ja, aber mit Vorbehalt auf anerkannte Therapeuten. Helsana erstattet 75% der Kosten')\n",
        "test_statement('Kann ich mein Rechnung für Akkupunktur der Helsana einsenden?', 'Ja', expected=False) # Hier fehlt der Ausschluss, daher nicht korrekt.\n",
        "test_statement('Stimmt es, dass Helsana und Visana nur ambulante Behandlungen und Therapien versichern?', 'Nein es werden auch stationäre Behandlungen und Medikamente vergütet')\n",
        "test_statement('Stimmt es, dass Helsana und Visana nur ambulante Behandlungen und Therapien versichern?', 'Bei Helsana sind nur ambulante Leistungen gedeckt.', expected=False)\n",
        "test_statement('Welche Versicherung vergütet den grösseren Anteil an meinen Kosten für Medikamente?', 'Visana, bei dieser Versicherung sind 90% der Kosten für Medikamente gedeckt.', expected=False) #Wir haben kein Dokument mit beiden Marken. Daher werden wir in unseren Embeddings mit der Frage keine Antwort finden.\n",
        "\n"
      ],
      "metadata": {
        "id": "X6eaBrVALn3F",
        "colab": {
          "base_uri": "https://localhost:8080/",
          "height": 319
        },
        "outputId": "67ef78a2-c892-432f-8b14-c0359afb4a95"
      },
      "id": "X6eaBrVALn3F",
      "execution_count": null,
      "outputs": [
        {
          "output_type": "display_data",
          "data": {
            "text/plain": [
              "Test zu \u001b[32m\"Übernimmt Visana die Kosten für meine Hellseherin?\"\u001b[0m erfolgreich!\n"
            ],
            "text/html": [
              "<pre style=\"white-space:pre;overflow-x:auto;line-height:normal;font-family:Menlo,'DejaVu Sans Mono',consolas,'Courier New',monospace\">Test zu <span style=\"color: #008000; text-decoration-color: #008000\">\"Übernimmt Visana die Kosten für meine Hellseherin?\"</span> erfolgreich!\n",
              "</pre>\n"
            ]
          },
          "metadata": {}
        },
        {
          "output_type": "display_data",
          "data": {
            "text/plain": [
              "Test zu \u001b[32m\"Übernimmt Visana die Kosten für meine Hellseherin?\"\u001b[0m erfolgreich!\n"
            ],
            "text/html": [
              "<pre style=\"white-space:pre;overflow-x:auto;line-height:normal;font-family:Menlo,'DejaVu Sans Mono',consolas,'Courier New',monospace\">Test zu <span style=\"color: #008000; text-decoration-color: #008000\">\"Übernimmt Visana die Kosten für meine Hellseherin?\"</span> erfolgreich!\n",
              "</pre>\n"
            ]
          },
          "metadata": {}
        },
        {
          "output_type": "display_data",
          "data": {
            "text/plain": [
              "Test zu \u001b[32m\"Kann ich mein Rechnung für Akkupunktur der Helsana einsenden?\"\u001b[0m erfolgreich!\n"
            ],
            "text/html": [
              "<pre style=\"white-space:pre;overflow-x:auto;line-height:normal;font-family:Menlo,'DejaVu Sans Mono',consolas,'Courier New',monospace\">Test zu <span style=\"color: #008000; text-decoration-color: #008000\">\"Kann ich mein Rechnung für Akkupunktur der Helsana einsenden?\"</span> erfolgreich!\n",
              "</pre>\n"
            ]
          },
          "metadata": {}
        },
        {
          "output_type": "display_data",
          "data": {
            "text/plain": [
              "Test zu \u001b[32m\"Kann ich mein Rechnung für Akkupunktur der Helsana einsenden?\"\u001b[0m erfolgreich!\n"
            ],
            "text/html": [
              "<pre style=\"white-space:pre;overflow-x:auto;line-height:normal;font-family:Menlo,'DejaVu Sans Mono',consolas,'Courier New',monospace\">Test zu <span style=\"color: #008000; text-decoration-color: #008000\">\"Kann ich mein Rechnung für Akkupunktur der Helsana einsenden?\"</span> erfolgreich!\n",
              "</pre>\n"
            ]
          },
          "metadata": {}
        },
        {
          "output_type": "display_data",
          "data": {
            "text/plain": [
              "Test zu \u001b[32m\"Stimmt es, dass Helsana und Visana nur ambulante Behandlungen und Therapien versichern?\"\u001b[0m \u001b[33mexpected\u001b[0m=\u001b[3;92mTrue\u001b[0m \n",
              "fehlgeschlagen!\n",
              "        - erwartete Antwort: \u001b[32m\"Nein es werden auch stationäre Behandlungen und Medikamente vergütet\"\u001b[0m\n",
              "        - erhaltene Antwort: \u001b[32m\"Nein, das stimmt nicht. Helsana versichert sowohl ambulante als auch stationäre \u001b[0m\n",
              "\u001b[32mBehandlungen, insbesondere im Bereich der Komplementärmedizin.\"\u001b[0m\n",
              "        \n"
            ],
            "text/html": [
              "<pre style=\"white-space:pre;overflow-x:auto;line-height:normal;font-family:Menlo,'DejaVu Sans Mono',consolas,'Courier New',monospace\">Test zu <span style=\"color: #008000; text-decoration-color: #008000\">\"Stimmt es, dass Helsana und Visana nur ambulante Behandlungen und Therapien versichern?\"</span> <span style=\"color: #808000; text-decoration-color: #808000\">expected</span>=<span style=\"color: #00ff00; text-decoration-color: #00ff00; font-style: italic\">True</span> \n",
              "fehlgeschlagen!\n",
              "        - erwartete Antwort: <span style=\"color: #008000; text-decoration-color: #008000\">\"Nein es werden auch stationäre Behandlungen und Medikamente vergütet\"</span>\n",
              "        - erhaltene Antwort: <span style=\"color: #008000; text-decoration-color: #008000\">\"Nein, das stimmt nicht. Helsana versichert sowohl ambulante als auch stationäre </span>\n",
              "<span style=\"color: #008000; text-decoration-color: #008000\">Behandlungen, insbesondere im Bereich der Komplementärmedizin.\"</span>\n",
              "        \n",
              "</pre>\n"
            ]
          },
          "metadata": {}
        },
        {
          "output_type": "display_data",
          "data": {
            "text/plain": [
              "Test zu \u001b[32m\"Stimmt es, dass Helsana und Visana nur ambulante Behandlungen und Therapien versichern?\"\u001b[0m erfolgreich!\n"
            ],
            "text/html": [
              "<pre style=\"white-space:pre;overflow-x:auto;line-height:normal;font-family:Menlo,'DejaVu Sans Mono',consolas,'Courier New',monospace\">Test zu <span style=\"color: #008000; text-decoration-color: #008000\">\"Stimmt es, dass Helsana und Visana nur ambulante Behandlungen und Therapien versichern?\"</span> erfolgreich!\n",
              "</pre>\n"
            ]
          },
          "metadata": {}
        },
        {
          "output_type": "display_data",
          "data": {
            "text/plain": [
              "Test zu \u001b[32m\"Welche Versicherung vergütet den grösseren Anteil an meinen Kosten für Medikamente?\"\u001b[0m \u001b[33mexpected\u001b[0m=\u001b[3;91mFalse\u001b[0m \n",
              "fehlgeschlagen!\n",
              "        - erwartete Antwort: \u001b[32m\"Visana, bei dieser Versicherung sind 90% der Kosten für Medikamente gedeckt.\"\u001b[0m\n",
              "        - erhaltene Antwort: \u001b[32m\"Die Komplementärversicherung der Visana Versicherungen AG vergütet 90% der Kosten für\u001b[0m\n",
              "\u001b[32märztlich verordnete Medikamente.\"\u001b[0m\n",
              "        \n"
            ],
            "text/html": [
              "<pre style=\"white-space:pre;overflow-x:auto;line-height:normal;font-family:Menlo,'DejaVu Sans Mono',consolas,'Courier New',monospace\">Test zu <span style=\"color: #008000; text-decoration-color: #008000\">\"Welche Versicherung vergütet den grösseren Anteil an meinen Kosten für Medikamente?\"</span> <span style=\"color: #808000; text-decoration-color: #808000\">expected</span>=<span style=\"color: #ff0000; text-decoration-color: #ff0000; font-style: italic\">False</span> \n",
              "fehlgeschlagen!\n",
              "        - erwartete Antwort: <span style=\"color: #008000; text-decoration-color: #008000\">\"Visana, bei dieser Versicherung sind 90% der Kosten für Medikamente gedeckt.\"</span>\n",
              "        - erhaltene Antwort: <span style=\"color: #008000; text-decoration-color: #008000\">\"Die Komplementärversicherung der Visana Versicherungen AG vergütet 90% der Kosten für</span>\n",
              "<span style=\"color: #008000; text-decoration-color: #008000\">ärztlich verordnete Medikamente.\"</span>\n",
              "        \n",
              "</pre>\n"
            ]
          },
          "metadata": {}
        }
      ]
    },
    {
      "cell_type": "markdown",
      "id": "0d0d14e4",
      "metadata": {
        "id": "0d0d14e4"
      },
      "source": [
        "## Fazit\n",
        "\n",
        "\n",
        "In this notebook, we have learned how to develop a basic RAG pipeline based on PDF documents. This includes:\n",
        "\n",
        "- How to parse pdf documents, taking slide decks and an export from an HTML page as examples, using a python library as well as GPT-4o to interpret the visuals\n",
        "- How to process the extracted content, clean it and chunk it into several pieces\n",
        "- How to embed the processed content using OpenAI embeddings\n",
        "- How to retrieve content that is relevant to an input query\n",
        "- How to use GPT-4o to generate an answer using the retrieved content as context\n",
        "\n",
        "If you want to explore further, consider these optimisations:\n",
        "\n",
        "- Playing around with the prompts provided as examples\n",
        "- Chunking the content further and adding metadata as context to each chunk\n",
        "- Adding rule-based filtering on the retrieval results or re-ranking results to surface to most relevant content\n",
        "\n",
        "You can apply the techniques covered in this notebook to multiple use cases, such as assistants that can access your proprietary data, customer service or FAQ bots that can read from your internal policies, or anything that requires leveraging rich documents that would be better understood as images."
      ]
    }
  ],
  "metadata": {
    "colab": {
      "provenance": [],
      "toc_visible": true
    },
    "kernelspec": {
      "display_name": "Python (bfh_ai)",
      "language": "python",
      "name": "bfh_ai"
    },
    "language_info": {
      "codemirror_mode": {
        "name": "ipython",
        "version": 3
      },
      "file_extension": ".py",
      "mimetype": "text/x-python",
      "name": "python",
      "nbconvert_exporter": "python",
      "pygments_lexer": "ipython3",
      "version": "3.12.4"
    }
  },
  "nbformat": 4,
  "nbformat_minor": 5
}
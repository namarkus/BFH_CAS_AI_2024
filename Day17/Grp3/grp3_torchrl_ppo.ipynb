{
  "cells": [
    {
      "cell_type": "markdown",
      "metadata": {
        "id": "view-in-github",
        "colab_type": "text"
      },
      "source": [
        "<a href=\"https://colab.research.google.com/github/namarkus/BFH_CAS_AI_2024/blob/main/Day17/Grp3/grp3_torchrl_ppo.ipynb\" target=\"_parent\"><img src=\"https://colab.research.google.com/assets/colab-badge.svg\" alt=\"Open In Colab\"/></a>"
      ]
    },
    {
      "cell_type": "markdown",
      "metadata": {
        "id": "8asfI0oOEOYF"
      },
      "source": [
        "\n",
        "# Reinforcement Learning (PPO) with TorchRL Tutorial\n",
        "**Author**: [Vincent Moens](https://github.com/vmoens)\n",
        "\n",
        "\n",
        "This tutorial demonstrates how to use PyTorch and :py:mod:`torchrl` to train a parametric policy\n",
        "network to solve the Inverted Pendulum task from the [OpenAI-Gym/Farama-Gymnasium\n",
        "control library](https://github.com/Farama-Foundation/Gymnasium)_.\n",
        "\n",
        ".. figure:: /_static/img/invpendulum.gif\n",
        "   :alt: Inverted pendulum\n",
        "\n",
        "   Inverted pendulum\n",
        "\n",
        "Key learnings:\n",
        "\n",
        "- How to create an environment in TorchRL, transform its outputs, and collect data from this environment;\n",
        "- How to make your classes talk to each other using :class:`~tensordict.TensorDict`;\n",
        "- The basics of building your training loop with TorchRL:\n",
        "\n",
        "  - How to compute the advantage signal for policy gradient methods;\n",
        "  - How to create a stochastic policy using a probabilistic neural network;\n",
        "  - How to create a dynamic replay buffer and sample from it without repetition.\n",
        "\n",
        "We will cover six crucial components of TorchRL:\n",
        "\n",
        "* `environments <Environment-API>`\n",
        "* `transforms <transforms>`\n",
        "* `models <ref_modules>`\n",
        "* `loss modules <ref_objectives>`\n",
        "* `data collectors <ref_collectors>`\n",
        "* `replay buffers <ref_buffers>`\n"
      ]
    },
    {
      "cell_type": "markdown",
      "metadata": {
        "id": "-TWucLX6EOYK"
      },
      "source": [
        "If you are running this in Google Colab, make sure you install the following dependencies:\n",
        "\n",
        "```bash\n",
        "!pip3 install torchrl\n",
        "!pip3 install gym[mujoco]\n",
        "!pip3 install tqdm\n",
        "```\n",
        "Proximal Policy Optimization (PPO) is a policy-gradient algorithm where a\n",
        "batch of data is being collected and directly consumed to train the policy to maximise\n",
        "the expected return given some proximality constraints. You can think of it\n",
        "as a sophisticated version of [REINFORCE](https://link.springer.com/content/pdf/10.1007/BF00992696.pdf),\n",
        "the foundational policy-optimization algorithm. For more information, see the\n",
        "[Proximal Policy Optimization Algorithms](https://arxiv.org/abs/1707.06347) paper.\n",
        "\n",
        "PPO is usually regarded as a fast and efficient method for online, on-policy\n",
        "reinforcement algorithm. TorchRL provides a loss-module that does all the work\n",
        "for you, so that you can rely on this implementation and focus on solving your\n",
        "problem rather than re-inventing the wheel every time you want to train a policy.\n",
        "\n",
        "For completeness, here is a brief overview of what the loss computes, even though\n",
        "this is taken care of by our :class:`~torchrl.objectives.ClipPPOLoss` module—the algorithm works as follows:\n",
        "1. we will sample a batch of data by playing the\n",
        "policy in the environment for a given number of steps.\n",
        "2. Then, we will perform a given number of optimization steps with random sub-samples of this batch using\n",
        "a clipped version of the REINFORCE loss.\n",
        "3. The clipping will put a pessimistic bound on our loss: lower return estimates will\n",
        "be favored compared to higher ones.\n",
        "The precise formula of the loss is:\n",
        "\n",
        "\\begin{align}L(s,a,\\theta_k,\\theta) = \\min\\left(\n",
        "    \\frac{\\pi_{\\theta}(a|s)}{\\pi_{\\theta_k}(a|s)}  A^{\\pi_{\\theta_k}}(s,a), \\;\\;\n",
        "    g(\\epsilon, A^{\\pi_{\\theta_k}}(s,a))\n",
        "    \\right),\\end{align}\n",
        "\n",
        "There are two components in that loss: in the first part of the minimum operator,\n",
        "we simply compute an importance-weighted version of the REINFORCE loss (for example, a\n",
        "REINFORCE loss that we have corrected for the fact that the current policy\n",
        "configuration lags the one that was used for the data collection).\n",
        "The second part of that minimum operator is a similar loss where we have clipped\n",
        "the ratios when they exceeded or were below a given pair of thresholds.\n",
        "\n",
        "This loss ensures that whether the advantage is positive or negative, policy\n",
        "updates that would produce significant shifts from the previous configuration\n",
        "are being discouraged.\n",
        "\n",
        "This tutorial is structured as follows:\n",
        "\n",
        "1. First, we will define a set of hyperparameters we will be using for training.\n",
        "\n",
        "2. Next, we will focus on creating our environment, or simulator, using TorchRL's\n",
        "   wrappers and transforms.\n",
        "\n",
        "3. Next, we will design the policy network and the value model,\n",
        "   which is indispensable to the loss function. These modules will be used\n",
        "   to configure our loss module.\n",
        "\n",
        "4. Next, we will create the replay buffer and data loader.\n",
        "\n",
        "5. Finally, we will run our training loop and analyze the results.\n",
        "\n",
        "Throughout this tutorial, we'll be using the :mod:`tensordict` library.\n",
        ":class:`~tensordict.TensorDict` is the lingua franca of TorchRL: it helps us abstract\n",
        "what a module reads and writes and care less about the specific data\n",
        "description and more about the algorithm itself.\n",
        "\n",
        "\n"
      ]
    },
    {
      "cell_type": "code",
      "source": [
        "!pip3 install torchrl tensordict\n",
        "!pip3 install swig==4.1.1\n",
        "!pip3 install gymnasium[mujoco]==0.29.1\n",
        "!pip3 install gymnasium[box2d]==0.29.1\n",
        "!pip3 install tqdm"
      ],
      "metadata": {
        "id": "_g1nV98HESIb",
        "outputId": "aa0c21d0-662d-4adc-c4fb-e92781d265bb",
        "colab": {
          "base_uri": "https://localhost:8080/"
        }
      },
      "execution_count": 11,
      "outputs": [
        {
          "output_type": "stream",
          "name": "stdout",
          "text": [
            "Requirement already satisfied: gymnasium==0.29.1 in /usr/local/lib/python3.11/dist-packages (from gymnasium[box2d]==0.29.1) (0.29.1)\n",
            "Requirement already satisfied: numpy>=1.21.0 in /usr/local/lib/python3.11/dist-packages (from gymnasium==0.29.1->gymnasium[box2d]==0.29.1) (1.26.4)\n",
            "Requirement already satisfied: cloudpickle>=1.2.0 in /usr/local/lib/python3.11/dist-packages (from gymnasium==0.29.1->gymnasium[box2d]==0.29.1) (3.1.1)\n",
            "Requirement already satisfied: typing-extensions>=4.3.0 in /usr/local/lib/python3.11/dist-packages (from gymnasium==0.29.1->gymnasium[box2d]==0.29.1) (4.12.2)\n",
            "Requirement already satisfied: farama-notifications>=0.0.1 in /usr/local/lib/python3.11/dist-packages (from gymnasium==0.29.1->gymnasium[box2d]==0.29.1) (0.0.4)\n",
            "Collecting box2d-py==2.3.5 (from gymnasium[box2d]==0.29.1)\n",
            "  Using cached box2d-py-2.3.5.tar.gz (374 kB)\n",
            "  Preparing metadata (setup.py) ... \u001b[?25l\u001b[?25hdone\n",
            "Requirement already satisfied: pygame>=2.1.3 in /usr/local/lib/python3.11/dist-packages (from gymnasium[box2d]==0.29.1) (2.6.1)\n",
            "Requirement already satisfied: swig==4.* in /usr/local/lib/python3.11/dist-packages (from gymnasium[box2d]==0.29.1) (4.1.1)\n",
            "Building wheels for collected packages: box2d-py\n",
            "  Building wheel for box2d-py (setup.py) ... \u001b[?25l\u001b[?25hdone\n",
            "  Created wheel for box2d-py: filename=box2d_py-2.3.5-cp311-cp311-linux_x86_64.whl size=2375295 sha256=3dea461b838debd61f3414718fb503f4482eabd11e39fbb46e438f655e9f7c06\n",
            "  Stored in directory: /root/.cache/pip/wheels/ab/f1/0c/d56f4a2bdd12bae0a0693ec33f2f0daadb5eb9753c78fa5308\n",
            "Successfully built box2d-py\n",
            "Installing collected packages: box2d-py\n",
            "Successfully installed box2d-py-2.3.5\n"
          ]
        }
      ]
    },
    {
      "cell_type": "code",
      "source": [
        "# !pip install dowhy"
      ],
      "metadata": {
        "id": "dGstB0AOQ0oY"
      },
      "execution_count": 2,
      "outputs": []
    },
    {
      "cell_type": "code",
      "execution_count": 3,
      "metadata": {
        "id": "e_eoaguREOYL"
      },
      "outputs": [],
      "source": [
        "from collections import defaultdict\n",
        "\n",
        "import matplotlib.pyplot as plt\n",
        "import torch\n",
        "from tensordict.nn import TensorDictModule\n",
        "from tensordict.nn.distributions import NormalParamExtractor\n",
        "from torch import nn\n",
        "\n",
        "from torchrl.collectors import SyncDataCollector\n",
        "from torchrl.data.replay_buffers import ReplayBuffer\n",
        "from torchrl.data.replay_buffers.samplers import SamplerWithoutReplacement\n",
        "from torchrl.data.replay_buffers.storages import LazyTensorStorage\n",
        "from torchrl.envs import (\n",
        "    Compose,\n",
        "    DoubleToFloat,\n",
        "    ObservationNorm,\n",
        "    StepCounter,\n",
        "    TransformedEnv,\n",
        ")\n",
        "from torchrl.envs.libs.gym import GymEnv\n",
        "from torchrl.envs.utils import check_env_specs, ExplorationType, set_exploration_type\n",
        "from torchrl.modules import ProbabilisticActor, TanhNormal, ValueOperator\n",
        "from torchrl.objectives import ClipPPOLoss\n",
        "from torchrl.objectives.value import GAE\n",
        "from tqdm import tqdm\n",
        "import pandas as pd\n",
        "\n"
      ]
    },
    {
      "cell_type": "markdown",
      "metadata": {
        "id": "RZWUOZhPEOYN"
      },
      "source": [
        "## Define Hyperparameters\n",
        "\n",
        "We set the hyperparameters for our algorithm. Depending on the resources\n",
        "available, one may choose to execute the policy on GPU or on another\n",
        "device.\n",
        "The ``frame_skip`` will control how for how many frames is a single\n",
        "action being executed. The rest of the arguments that count frames\n",
        "must be corrected for this value (since one environment step will\n",
        "actually return ``frame_skip`` frames).\n",
        "\n",
        "\n"
      ]
    },
    {
      "cell_type": "code",
      "execution_count": 4,
      "metadata": {
        "id": "Z6qcWTmlEOYO"
      },
      "outputs": [],
      "source": [
        "import multiprocessing\n",
        "is_fork = multiprocessing.get_start_method() == \"fork\"\n",
        "device = (\n",
        "    torch.device(0)\n",
        "    if torch.cuda.is_available() and not is_fork\n",
        "    else torch.device(\"cpu\")\n",
        ")\n",
        "num_cells = 256  # number of cells in each layer i.e. output dim.\n",
        "lr = 3e-4\n",
        "max_grad_norm = 1.0"
      ]
    },
    {
      "cell_type": "markdown",
      "metadata": {
        "id": "Dj4Pu4gMEOYO"
      },
      "source": [
        "### Data collection parameters\n",
        "\n",
        "When collecting data, we will be able to choose how big each batch will be\n",
        "by defining a ``frames_per_batch`` parameter. We will also define how many\n",
        "frames (such as the number of interactions with the simulator) we will allow ourselves to\n",
        "use. In general, the goal of an RL algorithm is to learn to solve the task\n",
        "as fast as it can in terms of environment interactions: the lower the ``total_frames``\n",
        "the better.\n",
        "\n",
        "\n"
      ]
    },
    {
      "cell_type": "code",
      "execution_count": 5,
      "metadata": {
        "id": "HLN-D4sREOYO"
      },
      "outputs": [],
      "source": [
        "frames_per_batch = 1000\n",
        "# For a complete training, bring the number of frames up to 1M\n",
        "total_frames = 10_000"
      ]
    },
    {
      "cell_type": "markdown",
      "metadata": {
        "id": "VL_Pp-iiEOYP"
      },
      "source": [
        "### PPO parameters\n",
        "\n",
        "At each data collection (or batch collection) we will run the optimization\n",
        "over a certain number of *epochs*, each time-consuming the entire data we just\n",
        "acquired in a nested training loop. Here, the ``sub_batch_size`` is different from the\n",
        "``frames_per_batch`` here above: recall that we are working with a \"batch of data\"\n",
        "coming from our collector, which size is defined by ``frames_per_batch``, and that\n",
        "we will further split in smaller sub-batches during the inner training loop.\n",
        "The size of these sub-batches is controlled by ``sub_batch_size``.\n",
        "\n",
        "\n"
      ]
    },
    {
      "cell_type": "code",
      "execution_count": 6,
      "metadata": {
        "id": "-6UKpFZEEOYP"
      },
      "outputs": [],
      "source": [
        "sub_batch_size = 64  # cardinality of the sub-samples gathered from the current data in the inner loop\n",
        "num_epochs = 10  # optimization steps per batch of data collected\n",
        "clip_epsilon = (\n",
        "    0.2  # clip value for PPO loss: see the equation in the intro for more context.\n",
        ")\n",
        "gamma = 0.99\n",
        "lmbda = 0.95\n",
        "entropy_eps = 1e-4"
      ]
    },
    {
      "cell_type": "markdown",
      "metadata": {
        "id": "qgElPOATEOYP"
      },
      "source": [
        "## Define an environment\n",
        "\n",
        "In RL, an *environment* is usually the way we refer to a simulator or a\n",
        "control system. Various libraries provide simulation environments for reinforcement\n",
        "learning, including Gymnasium (previously OpenAI Gym), DeepMind control suite, and\n",
        "many others.\n",
        "As a general library, TorchRL's goal is to provide an interchangeable interface\n",
        "to a large panel of RL simulators, allowing you to easily swap one environment\n",
        "with another. For example, creating a wrapped gym environment can be achieved with few characters:\n",
        "\n",
        "\n"
      ]
    },
    {
      "cell_type": "code",
      "execution_count": 12,
      "metadata": {
        "id": "u1W5dIuQEOYT"
      },
      "outputs": [],
      "source": [
        "base_env = GymEnv(\"LunarLanderContinuous-v2\", device=device)"
      ]
    },
    {
      "cell_type": "markdown",
      "metadata": {
        "id": "bWAd0IAkEOYU"
      },
      "source": [
        "There are a few things to notice in this code: first, we created\n",
        "the environment by calling the ``GymEnv`` wrapper. If extra keyword arguments\n",
        "are passed, they will be transmitted to the ``gym.make`` method, hence covering\n",
        "the most common environment construction commands.\n",
        "Alternatively, one could also directly create a gym environment using ``gym.make(env_name, **kwargs)``\n",
        "and wrap it in a `GymWrapper` class.\n",
        "\n",
        "Also the ``device`` argument: for gym, this only controls the device where\n",
        "**input action and observed states** will be stored, but the **execution** will always\n",
        "be done on **CPU**. The reason for this is simply that gym does not support on-device\n",
        "execution, unless specified otherwise. For other libraries, we have control over\n",
        "the execution device and, as much as we can, we try to stay consistent in terms of\n",
        "storing and execution backends.\n",
        "\n",
        "### Transforms\n",
        "\n",
        "We will append some transforms to our environments to prepare the data for\n",
        "the policy. In Gym, this is usually achieved via wrappers. TorchRL takes a different\n",
        "approach, more similar to other pytorch domain libraries, through the use of transforms.\n",
        "To add transforms to an environment, one should simply wrap it in a :class:`~torchrl.envs.transforms.TransformedEnv`\n",
        "instance and append the sequence of transforms to it. The transformed environment will inherit\n",
        "the device and meta-data of the wrapped environment, and transform these depending on the sequence\n",
        "of transforms it contains.\n",
        "\n",
        "### Normalization\n",
        "\n",
        "The first to encode is a normalization transform.\n",
        "As a rule of thumbs, it is preferable to have data that loosely\n",
        "match a unit Gaussian distribution: to obtain this, we will\n",
        "run a certain number of random steps in the environment and compute\n",
        "the summary statistics of these observations.\n",
        "\n",
        "We'll append two other transforms: the :class:`~torchrl.envs.transforms.DoubleToFloat` transform will\n",
        "convert double entries to single-precision numbers, ready to be read by the\n",
        "policy. The :class:`~torchrl.envs.transforms.StepCounter` transform will be used to count the steps before\n",
        "the environment is terminated. We will use this measure as a supplementary measure\n",
        "of performance.\n",
        "\n",
        "As we will see later, many of the TorchRL's classes rely on :class:`~tensordict.TensorDict`\n",
        "to communicate. You could think of it as a python dictionary with some extra\n",
        "tensor features. In practice, this means that many modules we will be working\n",
        "with need to be told **what key to read** (``in_keys``) and **what key to write**\n",
        "(``out_keys``) in the ``tensordict`` they will receive. Usually, if ``out_keys``\n",
        "is omitted, it is assumed that the ``in_keys`` entries will be updated\n",
        "in-place. For our transforms, the only entry we are interested in is referred\n",
        "to as ``\"observation\"`` and our transform layers will be told to modify this\n",
        "entry and this entry only:\n",
        "\n",
        "\n"
      ]
    },
    {
      "cell_type": "code",
      "execution_count": 13,
      "metadata": {
        "id": "FQFC_91dEOYW"
      },
      "outputs": [],
      "source": [
        "env = TransformedEnv(\n",
        "    base_env,\n",
        "    Compose(\n",
        "        # normalize observations\n",
        "        ObservationNorm(in_keys=[\"observation\"]),\n",
        "        DoubleToFloat(),\n",
        "        StepCounter(),\n",
        "    ),\n",
        ")"
      ]
    },
    {
      "cell_type": "markdown",
      "metadata": {
        "id": "7LY-BYeBEOYq"
      },
      "source": [
        "As you may have noticed, we have created a normalization layer but we did not\n",
        "set its normalization parameters. To do this, :class:`~torchrl.envs.transforms.ObservationNorm` can\n",
        "automatically gather the summary statistics of our environment:\n",
        "\n",
        "\n"
      ]
    },
    {
      "cell_type": "code",
      "execution_count": 14,
      "metadata": {
        "id": "I1aZLuk5EOYr"
      },
      "outputs": [],
      "source": [
        "env.transform[0].init_stats(num_iter=1000, reduce_dim=0, cat_dim=0)"
      ]
    },
    {
      "cell_type": "markdown",
      "metadata": {
        "id": "dhvHPc9IEOYs"
      },
      "source": [
        "The :class:`~torchrl.envs.transforms.ObservationNorm` transform has now been populated with a\n",
        "location and a scale that will be used to normalize the data.\n",
        "\n",
        "Let us do a little sanity check for the shape of our summary stats:\n",
        "\n",
        "\n"
      ]
    },
    {
      "cell_type": "code",
      "execution_count": 15,
      "metadata": {
        "id": "-Fd4m20iEOYt",
        "outputId": "6dad20a9-e2e5-4cce-92cb-44dbe61c80bb",
        "colab": {
          "base_uri": "https://localhost:8080/"
        }
      },
      "outputs": [
        {
          "output_type": "stream",
          "name": "stdout",
          "text": [
            "normalization constant shape: torch.Size([8])\n"
          ]
        }
      ],
      "source": [
        "print(\"normalization constant shape:\", env.transform[0].loc.shape)"
      ]
    },
    {
      "cell_type": "markdown",
      "metadata": {
        "id": "JZizcwKIEOYt"
      },
      "source": [
        "An environment is not only defined by its simulator and transforms, but also\n",
        "by a series of metadata that describe what can be expected during its\n",
        "execution.\n",
        "For efficiency purposes, TorchRL is quite stringent when it comes to\n",
        "environment specs, but you can easily check that your environment specs are\n",
        "adequate.\n",
        "In our example, the :class:`~torchrl.envs.libs.gym.GymWrapper` and\n",
        ":class:`~torchrl.envs.libs.gym.GymEnv` that inherits\n",
        "from it already take care of setting the proper specs for your environment so\n",
        "you should not have to care about this.\n",
        "\n",
        "Nevertheless, let's see a concrete example using our transformed\n",
        "environment by looking at its specs.\n",
        "There are three specs to look at: ``observation_spec`` which defines what\n",
        "is to be expected when executing an action in the environment,\n",
        "``reward_spec`` which indicates the reward domain and finally the\n",
        "``input_spec`` (which contains the ``action_spec``) and which represents\n",
        "everything an environment requires to execute a single step.\n",
        "\n",
        "\n"
      ]
    },
    {
      "cell_type": "code",
      "execution_count": 16,
      "metadata": {
        "id": "7lm9fl6qEOYu",
        "outputId": "a3b8c14a-f100-4e35-ec05-0ff553f27e32",
        "colab": {
          "base_uri": "https://localhost:8080/"
        }
      },
      "outputs": [
        {
          "output_type": "stream",
          "name": "stdout",
          "text": [
            "observation_spec: Composite(\n",
            "    observation: BoundedContinuous(\n",
            "        shape=torch.Size([8]),\n",
            "        space=ContinuousBox(\n",
            "            low=Tensor(shape=torch.Size([8]), device=cpu, dtype=torch.float32, contiguous=True),\n",
            "            high=Tensor(shape=torch.Size([8]), device=cpu, dtype=torch.float32, contiguous=True)),\n",
            "        device=cpu,\n",
            "        dtype=torch.float32,\n",
            "        domain=continuous),\n",
            "    step_count: BoundedDiscrete(\n",
            "        shape=torch.Size([1]),\n",
            "        space=ContinuousBox(\n",
            "            low=Tensor(shape=torch.Size([1]), device=cpu, dtype=torch.int64, contiguous=True),\n",
            "            high=Tensor(shape=torch.Size([1]), device=cpu, dtype=torch.int64, contiguous=True)),\n",
            "        device=cpu,\n",
            "        dtype=torch.int64,\n",
            "        domain=discrete),\n",
            "    device=cpu,\n",
            "    shape=torch.Size([]))\n",
            "reward_spec: UnboundedContinuous(\n",
            "    shape=torch.Size([1]),\n",
            "    space=ContinuousBox(\n",
            "        low=Tensor(shape=torch.Size([1]), device=cpu, dtype=torch.float32, contiguous=True),\n",
            "        high=Tensor(shape=torch.Size([1]), device=cpu, dtype=torch.float32, contiguous=True)),\n",
            "    device=cpu,\n",
            "    dtype=torch.float32,\n",
            "    domain=continuous)\n",
            "input_spec: Composite(\n",
            "    full_state_spec: Composite(\n",
            "        step_count: BoundedDiscrete(\n",
            "            shape=torch.Size([1]),\n",
            "            space=ContinuousBox(\n",
            "                low=Tensor(shape=torch.Size([1]), device=cpu, dtype=torch.int64, contiguous=True),\n",
            "                high=Tensor(shape=torch.Size([1]), device=cpu, dtype=torch.int64, contiguous=True)),\n",
            "            device=cpu,\n",
            "            dtype=torch.int64,\n",
            "            domain=discrete),\n",
            "        device=cpu,\n",
            "        shape=torch.Size([])),\n",
            "    full_action_spec: Composite(\n",
            "        action: BoundedContinuous(\n",
            "            shape=torch.Size([2]),\n",
            "            space=ContinuousBox(\n",
            "                low=Tensor(shape=torch.Size([2]), device=cpu, dtype=torch.float32, contiguous=True),\n",
            "                high=Tensor(shape=torch.Size([2]), device=cpu, dtype=torch.float32, contiguous=True)),\n",
            "            device=cpu,\n",
            "            dtype=torch.float32,\n",
            "            domain=continuous),\n",
            "        device=cpu,\n",
            "        shape=torch.Size([])),\n",
            "    device=cpu,\n",
            "    shape=torch.Size([]))\n",
            "action_spec (as defined by input_spec): BoundedContinuous(\n",
            "    shape=torch.Size([2]),\n",
            "    space=ContinuousBox(\n",
            "        low=Tensor(shape=torch.Size([2]), device=cpu, dtype=torch.float32, contiguous=True),\n",
            "        high=Tensor(shape=torch.Size([2]), device=cpu, dtype=torch.float32, contiguous=True)),\n",
            "    device=cpu,\n",
            "    dtype=torch.float32,\n",
            "    domain=continuous)\n"
          ]
        }
      ],
      "source": [
        "print(\"observation_spec:\", env.observation_spec)\n",
        "print(\"reward_spec:\", env.reward_spec)\n",
        "print(\"input_spec:\", env.input_spec)\n",
        "print(\"action_spec (as defined by input_spec):\", env.action_spec)"
      ]
    },
    {
      "cell_type": "markdown",
      "metadata": {
        "id": "Ym66jmBFEOYu"
      },
      "source": [
        "the :func:`check_env_specs` function runs a small rollout and compares its output against the environment\n",
        "specs. If no error is raised, we can be confident that the specs are properly defined:\n",
        "\n",
        "\n"
      ]
    },
    {
      "cell_type": "code",
      "execution_count": 17,
      "metadata": {
        "id": "6UbcgA2aEOYu",
        "outputId": "1867b24c-21d2-4905-839f-89a288a8a883",
        "colab": {
          "base_uri": "https://localhost:8080/"
        }
      },
      "outputs": [
        {
          "output_type": "stream",
          "name": "stderr",
          "text": [
            "2025-02-25 12:06:08,228 [torchrl][INFO] check_env_specs succeeded!\n"
          ]
        }
      ],
      "source": [
        "check_env_specs(env)"
      ]
    },
    {
      "cell_type": "markdown",
      "metadata": {
        "id": "RTLxs72EEOYv"
      },
      "source": [
        "For fun, let's see what a simple random rollout looks like. You can\n",
        "call `env.rollout(n_steps)` and get an overview of what the environment inputs\n",
        "and outputs look like. Actions will automatically be drawn from the action spec\n",
        "domain, so you don't need to care about designing a random sampler.\n",
        "\n",
        "Typically, at each step, an RL environment receives an\n",
        "action as input, and outputs an observation, a reward and a done state. The\n",
        "observation may be composite, meaning that it could be composed of more than one\n",
        "tensor. This is not a problem for TorchRL, since the whole set of observations\n",
        "is automatically packed in the output :class:`~tensordict.TensorDict`. After executing a rollout\n",
        "(for example, a sequence of environment steps and random action generations) over a given\n",
        "number of steps, we will retrieve a :class:`~tensordict.TensorDict` instance with a shape\n",
        "that matches this trajectory length:\n",
        "\n",
        "\n"
      ]
    },
    {
      "cell_type": "code",
      "execution_count": 18,
      "metadata": {
        "id": "QmoxAjKEEOYv",
        "outputId": "a864360d-8bf2-498e-de6e-c15746f81037",
        "colab": {
          "base_uri": "https://localhost:8080/"
        }
      },
      "outputs": [
        {
          "output_type": "stream",
          "name": "stdout",
          "text": [
            "rollout of three steps: TensorDict(\n",
            "    fields={\n",
            "        action: Tensor(shape=torch.Size([3, 2]), device=cpu, dtype=torch.float32, is_shared=False),\n",
            "        done: Tensor(shape=torch.Size([3, 1]), device=cpu, dtype=torch.bool, is_shared=False),\n",
            "        next: TensorDict(\n",
            "            fields={\n",
            "                done: Tensor(shape=torch.Size([3, 1]), device=cpu, dtype=torch.bool, is_shared=False),\n",
            "                observation: Tensor(shape=torch.Size([3, 8]), device=cpu, dtype=torch.float32, is_shared=False),\n",
            "                reward: Tensor(shape=torch.Size([3, 1]), device=cpu, dtype=torch.float32, is_shared=False),\n",
            "                step_count: Tensor(shape=torch.Size([3, 1]), device=cpu, dtype=torch.int64, is_shared=False),\n",
            "                terminated: Tensor(shape=torch.Size([3, 1]), device=cpu, dtype=torch.bool, is_shared=False),\n",
            "                truncated: Tensor(shape=torch.Size([3, 1]), device=cpu, dtype=torch.bool, is_shared=False)},\n",
            "            batch_size=torch.Size([3]),\n",
            "            device=cpu,\n",
            "            is_shared=False),\n",
            "        observation: Tensor(shape=torch.Size([3, 8]), device=cpu, dtype=torch.float32, is_shared=False),\n",
            "        step_count: Tensor(shape=torch.Size([3, 1]), device=cpu, dtype=torch.int64, is_shared=False),\n",
            "        terminated: Tensor(shape=torch.Size([3, 1]), device=cpu, dtype=torch.bool, is_shared=False),\n",
            "        truncated: Tensor(shape=torch.Size([3, 1]), device=cpu, dtype=torch.bool, is_shared=False)},\n",
            "    batch_size=torch.Size([3]),\n",
            "    device=cpu,\n",
            "    is_shared=False)\n",
            "Shape of the rollout TensorDict: torch.Size([3])\n"
          ]
        }
      ],
      "source": [
        "rollout = env.rollout(3)\n",
        "print(\"rollout of three steps:\", rollout)\n",
        "print(\"Shape of the rollout TensorDict:\", rollout.batch_size)"
      ]
    },
    {
      "cell_type": "markdown",
      "metadata": {
        "id": "JqDYVH23EOYw"
      },
      "source": [
        "Our rollout data has a shape of ``torch.Size([3])``, which matches the number of steps\n",
        "we ran it for. The ``\"next\"`` entry points to the data coming after the current step.\n",
        "In most cases, the ``\"next\"`` data at time `t` matches the data at ``t+1``, but this\n",
        "may not be the case if we are using some specific transformations (for example, multi-step).\n",
        "\n",
        "## Policy\n",
        "\n",
        "PPO utilizes a stochastic policy to handle exploration. This means that our\n",
        "neural network will have to output the parameters of a distribution, rather\n",
        "than a single value corresponding to the action taken.\n",
        "\n",
        "As the data is continuous, we use a Tanh-Normal distribution to respect the\n",
        "action space boundaries. TorchRL provides such distribution, and the only\n",
        "thing we need to care about is to build a neural network that outputs the\n",
        "right number of parameters for the policy to work with (a location, or mean,\n",
        "and a scale):\n",
        "\n",
        "\\begin{align}f_{\\theta}(\\text{observation}) = \\mu_{\\theta}(\\text{observation}), \\sigma^{+}_{\\theta}(\\text{observation})\\end{align}\n",
        "\n",
        "The only extra-difficulty that is brought up here is to split our output in two\n",
        "equal parts and map the second to a strictly positive space.\n",
        "\n",
        "We design the policy in three steps:\n",
        "\n",
        "1. Define a neural network ``D_obs`` -> ``2 * D_action``. Indeed, our ``loc`` (mu) and ``scale`` (sigma) both have dimension ``D_action``.\n",
        "\n",
        "2. Append a :class:`~tensordict.nn.distributions.NormalParamExtractor` to extract a location and a scale (for example, splits the input in two equal parts and applies a **positive transformation** to the scale parameter).\n",
        "\n",
        "3. Create a probabilistic :class:`~tensordict.nn.TensorDictModule` that can generate this distribution and sample from it.\n",
        "\n",
        "\n"
      ]
    },
    {
      "cell_type": "code",
      "execution_count": 20,
      "metadata": {
        "id": "XcTT6mOhEOYw",
        "outputId": "340b95a6-45b7-4cc0-f3e4-ddd6c0470da7",
        "colab": {
          "base_uri": "https://localhost:8080/"
        }
      },
      "outputs": [
        {
          "output_type": "execute_result",
          "data": {
            "text/plain": [
              "256"
            ]
          },
          "metadata": {},
          "execution_count": 20
        }
      ],
      "source": [
        "actor_net = nn.Sequential(\n",
        "    nn.LazyLinear(num_cells, device=device),\n",
        "    nn.Tanh(),\n",
        "    nn.LazyLinear(num_cells, device=device),\n",
        "    nn.Tanh(),\n",
        "    nn.LazyLinear(num_cells, device=device),\n",
        "    nn.Tanh(),\n",
        "    nn.LazyLinear(2 * env.action_spec.shape[-1], device=device),\n",
        "    NormalParamExtractor(),\n",
        ")"
      ]
    },
    {
      "cell_type": "markdown",
      "metadata": {
        "id": "qC4I8xzMEOYx"
      },
      "source": [
        "To enable the policy to \"talk\" with the environment through the ``tensordict``\n",
        "data carrier, we wrap the ``nn.Module`` in a :class:`~tensordict.nn.TensorDictModule`. This\n",
        "class will simply ready the ``in_keys`` it is provided with and write the\n",
        "outputs in-place at the registered ``out_keys``.\n",
        "\n",
        "\n"
      ]
    },
    {
      "cell_type": "code",
      "execution_count": 22,
      "metadata": {
        "id": "hXHp6v30EOYx",
        "outputId": "f9475129-ecb2-4395-985d-d397e613c4c6",
        "colab": {
          "base_uri": "https://localhost:8080/"
        }
      },
      "outputs": [
        {
          "output_type": "execute_result",
          "data": {
            "text/plain": [
              "TensorDictModule(\n",
              "    module=Sequential(\n",
              "      (0): LazyLinear(in_features=0, out_features=256, bias=True)\n",
              "      (1): Tanh()\n",
              "      (2): LazyLinear(in_features=0, out_features=256, bias=True)\n",
              "      (3): Tanh()\n",
              "      (4): LazyLinear(in_features=0, out_features=256, bias=True)\n",
              "      (5): Tanh()\n",
              "      (6): LazyLinear(in_features=0, out_features=4, bias=True)\n",
              "      (7): NormalParamExtractor(\n",
              "        (scale_mapping): biased_softplus()\n",
              "      )\n",
              "    ),\n",
              "    device=cpu,\n",
              "    in_keys=['observation'],\n",
              "    out_keys=['loc', 'scale'])"
            ]
          },
          "metadata": {},
          "execution_count": 22
        }
      ],
      "source": [
        "policy_module = TensorDictModule(\n",
        "    actor_net, in_keys=[\"observation\"], out_keys=[\"loc\", \"scale\"]\n",
        ")"
      ]
    },
    {
      "cell_type": "markdown",
      "metadata": {
        "id": "xuorjYbNEOYx"
      },
      "source": [
        "We now need to build a distribution out of the location and scale of our\n",
        "normal distribution. To do so, we instruct the\n",
        ":class:`~torchrl.modules.tensordict_module.ProbabilisticActor`\n",
        "class to build a :class:`~torchrl.modules.TanhNormal` out of the location and scale\n",
        "parameters. We also provide the minimum and maximum values of this\n",
        "distribution, which we gather from the environment specs.\n",
        "\n",
        "The name of the ``in_keys`` (and hence the name of the ``out_keys`` from\n",
        "the :class:`~tensordict.nn.TensorDictModule` above) cannot be set to any value one may\n",
        "like, as the :class:`~torchrl.modules.TanhNormal` distribution constructor will expect the\n",
        "``loc`` and ``scale`` keyword arguments. That being said,\n",
        ":class:`~torchrl.modules.tensordict_module.ProbabilisticActor` also accepts\n",
        "``Dict[str, str]`` typed ``in_keys`` where the key-value pair indicates\n",
        "what ``in_key`` string should be used for every keyword argument that is to be used.\n",
        "\n",
        "\n"
      ]
    },
    {
      "cell_type": "code",
      "execution_count": 24,
      "metadata": {
        "id": "2w72ARaUEOYy",
        "outputId": "c120128e-e700-4325-dbfa-fb53a67afc55",
        "colab": {
          "base_uri": "https://localhost:8080/"
        }
      },
      "outputs": [
        {
          "output_type": "execute_result",
          "data": {
            "text/plain": [
              "ProbabilisticActor(\n",
              "    module=ModuleList(\n",
              "      (0): TensorDictModule(\n",
              "          module=Sequential(\n",
              "            (0): LazyLinear(in_features=0, out_features=256, bias=True)\n",
              "            (1): Tanh()\n",
              "            (2): LazyLinear(in_features=0, out_features=256, bias=True)\n",
              "            (3): Tanh()\n",
              "            (4): LazyLinear(in_features=0, out_features=256, bias=True)\n",
              "            (5): Tanh()\n",
              "            (6): LazyLinear(in_features=0, out_features=4, bias=True)\n",
              "            (7): NormalParamExtractor(\n",
              "              (scale_mapping): biased_softplus()\n",
              "            )\n",
              "          ),\n",
              "          device=cpu,\n",
              "          in_keys=['observation'],\n",
              "          out_keys=['loc', 'scale'])\n",
              "      (1): SafeProbabilisticModule()\n",
              "    ),\n",
              "    device=cpu,\n",
              "    in_keys=['observation'],\n",
              "    out_keys=['loc', 'scale', 'action', 'sample_log_prob'])"
            ]
          },
          "metadata": {},
          "execution_count": 24
        }
      ],
      "source": [
        "policy_module = ProbabilisticActor(\n",
        "    module=policy_module,\n",
        "    spec=env.action_spec,\n",
        "    in_keys=[\"loc\", \"scale\"],\n",
        "    distribution_class=TanhNormal,\n",
        "    distribution_kwargs={\n",
        "        \"low\": env.action_spec_unbatched.space.low,\n",
        "        \"high\": env.action_spec_unbatched.space.high,\n",
        "    },\n",
        "    return_log_prob=True,\n",
        "    # we'll need the log-prob for the numerator of the importance weights\n",
        ")"
      ]
    },
    {
      "cell_type": "markdown",
      "metadata": {
        "id": "MgC_BUi3EOYy"
      },
      "source": [
        "## Value network\n",
        "\n",
        "The value network is a crucial component of the PPO algorithm, even though it\n",
        "won't be used at inference time. This module will read the observations and\n",
        "return an estimation of the discounted return for the following trajectory.\n",
        "This allows us to amortize learning by relying on the some utility estimation\n",
        "that is learned on-the-fly during training. Our value network share the same\n",
        "structure as the policy, but for simplicity we assign it its own set of\n",
        "parameters.\n",
        "\n",
        "\n"
      ]
    },
    {
      "cell_type": "code",
      "execution_count": 26,
      "metadata": {
        "id": "DionpjKWEOYz",
        "outputId": "c36c84da-898f-4932-b163-f0c3ff520a8d",
        "colab": {
          "base_uri": "https://localhost:8080/"
        }
      },
      "outputs": [
        {
          "output_type": "execute_result",
          "data": {
            "text/plain": [
              "Sequential(\n",
              "  (0): LazyLinear(in_features=0, out_features=256, bias=True)\n",
              "  (1): Tanh()\n",
              "  (2): LazyLinear(in_features=0, out_features=256, bias=True)\n",
              "  (3): Tanh()\n",
              "  (4): LazyLinear(in_features=0, out_features=256, bias=True)\n",
              "  (5): Tanh()\n",
              "  (6): LazyLinear(in_features=0, out_features=1, bias=True)\n",
              ")"
            ]
          },
          "metadata": {},
          "execution_count": 26
        }
      ],
      "source": [
        "value_net = nn.Sequential(\n",
        "    nn.LazyLinear(num_cells, device=device),\n",
        "    nn.Tanh(),\n",
        "    nn.LazyLinear(num_cells, device=device),\n",
        "    nn.Tanh(),\n",
        "    nn.LazyLinear(num_cells, device=device),\n",
        "    nn.Tanh(),\n",
        "    nn.LazyLinear(1, device=device),\n",
        ")\n",
        "\n",
        "value_module = ValueOperator(\n",
        "    module=value_net,\n",
        "    in_keys=[\"observation\"],\n",
        ")"
      ]
    },
    {
      "cell_type": "markdown",
      "metadata": {
        "id": "ployh825EOYz"
      },
      "source": [
        "let's try our policy and value modules. As we said earlier, the usage of\n",
        ":class:`~tensordict.nn.TensorDictModule` makes it possible to directly read the output\n",
        "of the environment to run these modules, as they know what information to read\n",
        "and where to write it:\n",
        "\n",
        "\n"
      ]
    },
    {
      "cell_type": "code",
      "execution_count": 27,
      "metadata": {
        "id": "YFVyepSaEOY0",
        "outputId": "8d645664-5eff-4ab8-f4e7-8d6a1a7847e8",
        "colab": {
          "base_uri": "https://localhost:8080/"
        }
      },
      "outputs": [
        {
          "output_type": "stream",
          "name": "stdout",
          "text": [
            "Running policy: TensorDict(\n",
            "    fields={\n",
            "        action: Tensor(shape=torch.Size([2]), device=cpu, dtype=torch.float32, is_shared=False),\n",
            "        done: Tensor(shape=torch.Size([1]), device=cpu, dtype=torch.bool, is_shared=False),\n",
            "        loc: Tensor(shape=torch.Size([2]), device=cpu, dtype=torch.float32, is_shared=False),\n",
            "        observation: Tensor(shape=torch.Size([8]), device=cpu, dtype=torch.float32, is_shared=False),\n",
            "        sample_log_prob: Tensor(shape=torch.Size([]), device=cpu, dtype=torch.float32, is_shared=False),\n",
            "        scale: Tensor(shape=torch.Size([2]), device=cpu, dtype=torch.float32, is_shared=False),\n",
            "        step_count: Tensor(shape=torch.Size([1]), device=cpu, dtype=torch.int64, is_shared=False),\n",
            "        terminated: Tensor(shape=torch.Size([1]), device=cpu, dtype=torch.bool, is_shared=False),\n",
            "        truncated: Tensor(shape=torch.Size([1]), device=cpu, dtype=torch.bool, is_shared=False)},\n",
            "    batch_size=torch.Size([]),\n",
            "    device=cpu,\n",
            "    is_shared=False)\n",
            "Running value: TensorDict(\n",
            "    fields={\n",
            "        done: Tensor(shape=torch.Size([1]), device=cpu, dtype=torch.bool, is_shared=False),\n",
            "        observation: Tensor(shape=torch.Size([8]), device=cpu, dtype=torch.float32, is_shared=False),\n",
            "        state_value: Tensor(shape=torch.Size([1]), device=cpu, dtype=torch.float32, is_shared=False),\n",
            "        step_count: Tensor(shape=torch.Size([1]), device=cpu, dtype=torch.int64, is_shared=False),\n",
            "        terminated: Tensor(shape=torch.Size([1]), device=cpu, dtype=torch.bool, is_shared=False),\n",
            "        truncated: Tensor(shape=torch.Size([1]), device=cpu, dtype=torch.bool, is_shared=False)},\n",
            "    batch_size=torch.Size([]),\n",
            "    device=cpu,\n",
            "    is_shared=False)\n"
          ]
        }
      ],
      "source": [
        "print(\"Running policy:\", policy_module(env.reset()))\n",
        "print(\"Running value:\", value_module(env.reset()))"
      ]
    },
    {
      "cell_type": "markdown",
      "metadata": {
        "id": "wyEqWF0pEOY1"
      },
      "source": [
        "## Data collector\n",
        "\n",
        "TorchRL provides a set of `DataCollector classes <ref_collectors>`.\n",
        "Briefly, these classes execute three operations: reset an environment,\n",
        "compute an action given the latest observation, execute a step in the environment,\n",
        "and repeat the last two steps until the environment signals a stop (or reaches\n",
        "a done state).\n",
        "\n",
        "They allow you to control how many frames to collect at each iteration\n",
        "(through the ``frames_per_batch`` parameter),\n",
        "when to reset the environment (through the ``max_frames_per_traj`` argument),\n",
        "on which ``device`` the policy should be executed, etc. They are also\n",
        "designed to work efficiently with batched and multiprocessed environments.\n",
        "\n",
        "The simplest data collector is the :class:`~torchrl.collectors.collectors.SyncDataCollector`:\n",
        "it is an iterator that you can use to get batches of data of a given length, and\n",
        "that will stop once a total number of frames (``total_frames``) have been\n",
        "collected.\n",
        "Other data collectors (:class:`~torchrl.collectors.collectors.MultiSyncDataCollector` and\n",
        ":class:`~torchrl.collectors.collectors.MultiaSyncDataCollector`) will execute\n",
        "the same operations in synchronous and asynchronous manner over a\n",
        "set of multiprocessed workers.\n",
        "\n",
        "As for the policy and environment before, the data collector will return\n",
        ":class:`~tensordict.TensorDict` instances with a total number of elements that will\n",
        "match ``frames_per_batch``. Using :class:`~tensordict.TensorDict` to pass data to the\n",
        "training loop allows you to write data loading pipelines\n",
        "that are 100% oblivious to the actual specificities of the rollout content.\n",
        "\n",
        "\n"
      ]
    },
    {
      "cell_type": "code",
      "execution_count": 36,
      "metadata": {
        "id": "3l8Z6oVNEOY1",
        "outputId": "0269d29f-9bdf-4507-a6da-357f1c534440",
        "colab": {
          "base_uri": "https://localhost:8080/"
        }
      },
      "outputs": [
        {
          "output_type": "execute_result",
          "data": {
            "text/plain": [
              "SyncDataCollector(\n",
              "    env=TransformedEnv(\n",
              "        env=GymEnv(env=LunarLanderContinuous-v2, batch_size=torch.Size([]), device=cpu),\n",
              "        transform=Compose(\n",
              "                ObservationNorm(keys=['observation']),\n",
              "                DoubleToFloat(in_keys=[], out_keys=[], in_keys_inv=[], out_keys_inv=[]),\n",
              "                StepCounter(keys=[]))),\n",
              "    policy=ProbabilisticActor(\n",
              "        module=ModuleList(\n",
              "          (0): TensorDictModule(\n",
              "              module=Sequential(\n",
              "                (0): Linear(in_features=8, out_features=256, bias=True)\n",
              "                (1): Tanh()\n",
              "                (2): Linear(in_features=256, out_features=256, bias=True)\n",
              "                (3): Tanh()\n",
              "                (4): Linear(in_features=256, out_features=256, bias=True)\n",
              "                (5): Tanh()\n",
              "                (6): Linear(in_features=256, out_features=4, bias=True)\n",
              "                (7): NormalParamExtractor(\n",
              "                  (scale_mapping): biased_softplus()\n",
              "                )\n",
              "              ),\n",
              "              device=cpu,\n",
              "              in_keys=['observation'],\n",
              "              out_keys=['loc', 'scale'])\n",
              "          (1): SafeProbabilisticModule()\n",
              "        ),\n",
              "        device=cpu,\n",
              "        in_keys=['observation'],\n",
              "        out_keys=['loc', 'scale', 'action', 'sample_log_prob']),\n",
              "    td_out=TensorDict(\n",
              "        fields={\n",
              "            action: Tensor(shape=torch.Size([1000, 2]), device=cpu, dtype=torch.float32, is_shared=False),\n",
              "            collector: TensorDict(\n",
              "                fields={\n",
              "                    traj_ids: Tensor(shape=torch.Size([1000]), device=cpu, dtype=torch.int64, is_shared=False)},\n",
              "                batch_size=torch.Size([1000]),\n",
              "                device=cpu,\n",
              "                is_shared=False),\n",
              "            done: Tensor(shape=torch.Size([1000, 1]), device=cpu, dtype=torch.bool, is_shared=False),\n",
              "            loc: Tensor(shape=torch.Size([1000, 2]), device=cpu, dtype=torch.float32, is_shared=False),\n",
              "            next: TensorDict(\n",
              "                fields={\n",
              "                    done: Tensor(shape=torch.Size([1000, 1]), device=cpu, dtype=torch.bool, is_shared=False),\n",
              "                    observation: Tensor(shape=torch.Size([1000, 8]), device=cpu, dtype=torch.float32, is_shared=False),\n",
              "                    reward: Tensor(shape=torch.Size([1000, 1]), device=cpu, dtype=torch.float32, is_shared=False),\n",
              "                    step_count: Tensor(shape=torch.Size([1000, 1]), device=cpu, dtype=torch.int64, is_shared=False),\n",
              "                    terminated: Tensor(shape=torch.Size([1000, 1]), device=cpu, dtype=torch.bool, is_shared=False),\n",
              "                    truncated: Tensor(shape=torch.Size([1000, 1]), device=cpu, dtype=torch.bool, is_shared=False)},\n",
              "                batch_size=torch.Size([1000]),\n",
              "                device=cpu,\n",
              "                is_shared=False),\n",
              "            observation: Tensor(shape=torch.Size([1000, 8]), device=cpu, dtype=torch.float32, is_shared=False),\n",
              "            sample_log_prob: Tensor(shape=torch.Size([1000]), device=cpu, dtype=torch.float32, is_shared=False),\n",
              "            scale: Tensor(shape=torch.Size([1000, 2]), device=cpu, dtype=torch.float32, is_shared=False),\n",
              "            step_count: Tensor(shape=torch.Size([1000, 1]), device=cpu, dtype=torch.int64, is_shared=False),\n",
              "            terminated: Tensor(shape=torch.Size([1000, 1]), device=cpu, dtype=torch.bool, is_shared=False),\n",
              "            truncated: Tensor(shape=torch.Size([1000, 1]), device=cpu, dtype=torch.bool, is_shared=False)},\n",
              "        batch_size=torch.Size([1000]),\n",
              "        device=cpu,\n",
              "        is_shared=False),\n",
              "exploration=random)"
            ]
          },
          "metadata": {},
          "execution_count": 36
        }
      ],
      "source": [
        "collector = SyncDataCollector(\n",
        "    env,\n",
        "    policy_module,\n",
        "    frames_per_batch=frames_per_batch,\n",
        "    total_frames=total_frames,\n",
        "    split_trajs=False,\n",
        "    device=device,\n",
        ")"
      ]
    },
    {
      "cell_type": "markdown",
      "metadata": {
        "id": "UEYN1H0eEOY2"
      },
      "source": [
        "## Replay buffer\n",
        "\n",
        "Replay buffers are a common building piece of off-policy RL algorithms.\n",
        "In on-policy contexts, a replay buffer is refilled every time a batch of\n",
        "data is collected, and its data is repeatedly consumed for a certain number\n",
        "of epochs.\n",
        "\n",
        "TorchRL's replay buffers are built using a common container\n",
        ":class:`~torchrl.data.ReplayBuffer` which takes as argument the components\n",
        "of the buffer: a storage, a writer, a sampler and possibly some transforms.\n",
        "Only the storage (which indicates the replay buffer capacity) is mandatory.\n",
        "We also specify a sampler without repetition to avoid sampling multiple times\n",
        "the same item in one epoch.\n",
        "Using a replay buffer for PPO is not mandatory and we could simply\n",
        "sample the sub-batches from the collected batch, but using these classes\n",
        "make it easy for us to build the inner training loop in a reproducible way.\n",
        "\n",
        "\n"
      ]
    },
    {
      "cell_type": "code",
      "execution_count": 29,
      "metadata": {
        "id": "r05H4uj0EOY3"
      },
      "outputs": [],
      "source": [
        "replay_buffer = ReplayBuffer(\n",
        "    storage=LazyTensorStorage(max_size=frames_per_batch),\n",
        "    sampler=SamplerWithoutReplacement(),\n",
        ")"
      ]
    },
    {
      "cell_type": "markdown",
      "metadata": {
        "id": "AYpwtsOGEOY3"
      },
      "source": [
        "## Loss function\n",
        "\n",
        "The PPO loss can be directly imported from TorchRL for convenience using the\n",
        ":class:`~torchrl.objectives.ClipPPOLoss` class. This is the easiest way of utilizing PPO:\n",
        "it hides away the mathematical operations of PPO and the control flow that\n",
        "goes with it.\n",
        "\n",
        "PPO requires some \"advantage estimation\" to be computed. In short, an advantage\n",
        "is a value that reflects an expectancy over the return value while dealing with\n",
        "the bias / variance tradeoff.\n",
        "To compute the advantage, one just needs to (1) build the advantage module, which\n",
        "utilizes our value operator, and (2) pass each batch of data through it before each\n",
        "epoch.\n",
        "The GAE module will update the input ``tensordict`` with new ``\"advantage\"`` and\n",
        "``\"value_target\"`` entries.\n",
        "The ``\"value_target\"`` is a gradient-free tensor that represents the empirical\n",
        "value that the value network should represent with the input observation.\n",
        "Both of these will be used by :class:`~torchrl.objectives.ClipPPOLoss` to\n",
        "return the policy and value losses.\n",
        "\n",
        "\n"
      ]
    },
    {
      "cell_type": "code",
      "execution_count": 30,
      "metadata": {
        "id": "50GRxZ-YEOY3"
      },
      "outputs": [],
      "source": [
        "advantage_module = GAE(\n",
        "    gamma=gamma, lmbda=lmbda, value_network=value_module, average_gae=True\n",
        ")\n",
        "\n",
        "loss_module = ClipPPOLoss(\n",
        "    actor_network=policy_module,\n",
        "    critic_network=value_module,\n",
        "    clip_epsilon=clip_epsilon,\n",
        "    entropy_bonus=bool(entropy_eps),\n",
        "    entropy_coef=entropy_eps,\n",
        "    # these keys match by default but we set this for completeness\n",
        "    critic_coef=1.0,\n",
        "    loss_critic_type=\"smooth_l1\",\n",
        ")\n",
        "\n",
        "optim = torch.optim.Adam(loss_module.parameters(), lr)\n",
        "scheduler = torch.optim.lr_scheduler.CosineAnnealingLR(\n",
        "    optim, total_frames // frames_per_batch, 0.0\n",
        ")"
      ]
    },
    {
      "cell_type": "markdown",
      "metadata": {
        "id": "ffpWscsHEOY4"
      },
      "source": [
        "## Training loop\n",
        "We now have all the pieces needed to code our training loop.\n",
        "The steps include:\n",
        "\n",
        "* Collect data\n",
        "\n",
        "  * Compute advantage\n",
        "\n",
        "    * Loop over the collected to compute loss values\n",
        "    * Back propagate\n",
        "    * Optimize\n",
        "    * Repeat\n",
        "\n",
        "  * Repeat\n",
        "\n",
        "* Repeat\n",
        "\n",
        "\n"
      ]
    },
    {
      "cell_type": "code",
      "execution_count": 38,
      "metadata": {
        "id": "TmXOYjXtEOY5",
        "outputId": "d791cc62-7e84-470a-fd83-36c7d480bcf3",
        "colab": {
          "base_uri": "https://localhost:8080/"
        }
      },
      "outputs": [
        {
          "output_type": "execute_result",
          "data": {
            "text/plain": [
              "10"
            ]
          },
          "metadata": {},
          "execution_count": 38
        }
      ],
      "source": [
        "logs = defaultdict(list)\n",
        "pbar = tqdm(total=total_frames)\n",
        "eval_str = \"\"\n",
        "\n",
        "# causal_effects = []  # Store causal effect values\n",
        "\n",
        "# We iterate over the collector until it reaches the total number of frames it was\n",
        "# designed to collect:\n",
        "for i, tensordict_data in enumerate(collector):\n",
        "    # we now have a batch of data to work with. Let's learn something from it.\n",
        "    for epoch in range(num_epochs):\n",
        "\n",
        "        # We'll need an \"advantage\" signal to make PPO work.\n",
        "        # We re-compute it at each epoch as its value depends on the value\n",
        "        # network which is updated in the inner loop.\n",
        "        advantage_module(tensordict_data)\n",
        "        data_view = tensordict_data.reshape(-1)\n",
        "        replay_buffer.extend(data_view.cpu())\n",
        "        for _ in range(frames_per_batch // sub_batch_size):\n",
        "            subdata = replay_buffer.sample(sub_batch_size)\n",
        "            loss_vals = loss_module(subdata.to(device))\n",
        "            loss_value = (\n",
        "                loss_vals[\"loss_objective\"]\n",
        "                + loss_vals[\"loss_critic\"]\n",
        "                + loss_vals[\"loss_entropy\"]\n",
        "            )\n",
        "\n",
        "            # Optimization: backward, grad clipping and optimization step\n",
        "            loss_value.backward()\n",
        "            # this is not strictly mandatory but it's good practice to keep\n",
        "            # your gradient norm bounded\n",
        "            torch.nn.utils.clip_grad_norm_(loss_module.parameters(), max_grad_norm)\n",
        "            optim.step()\n",
        "            optim.zero_grad()\n",
        "\n",
        "    logs[\"reward\"].append(tensordict_data[\"next\", \"reward\"].mean().item())\n",
        "    pbar.update(tensordict_data.numel())\n",
        "    cum_reward_str = (\n",
        "        f\"average reward={logs['reward'][-1]: 4.4f} (init={logs['reward'][0]: 4.4f})\"\n",
        "    )\n",
        "    logs[\"step_count\"].append(tensordict_data[\"step_count\"].max().item())\n",
        "    stepcount_str = f\"step count (max): {logs['step_count'][-1]}\"\n",
        "    logs[\"lr\"].append(optim.param_groups[0][\"lr\"])\n",
        "    lr_str = f\"lr policy: {logs['lr'][-1]: 4.4f}\"\n",
        "    if i % 10 == 0:\n",
        "        # We evaluate the policy once every 10 batches of data.\n",
        "        # Evaluation is rather simple: execute the policy without exploration\n",
        "        # (take the expected value of the action distribution) for a given\n",
        "        # number of steps (1000, which is our ``env`` horizon).\n",
        "        # The ``rollout`` method of the ``env`` can take a policy as argument:\n",
        "        # it will then execute this policy at each step.\n",
        "        with set_exploration_type(ExplorationType.DETERMINISTIC), torch.no_grad():\n",
        "            # execute a rollout with the trained policy\n",
        "            eval_rollout = env.rollout(1000, policy_module)\n",
        "            logs[\"eval reward\"].append(eval_rollout[\"next\", \"reward\"].mean().item())\n",
        "            logs[\"eval reward (sum)\"].append(\n",
        "                eval_rollout[\"next\", \"reward\"].sum().item()\n",
        "            )\n",
        "            logs[\"eval step_count\"].append(eval_rollout[\"step_count\"].max().item())\n",
        "            eval_str = (\n",
        "                f\"eval cumulative reward: {logs['eval reward (sum)'][-1]: 4.4f} \"\n",
        "                f\"(init: {logs['eval reward (sum)'][0]: 4.4f}), \"\n",
        "                f\"eval step-count: {logs['eval step_count'][-1]}\"\n",
        "            )\n",
        "            del eval_rollout\n",
        "    pbar.set_description(\", \".join([eval_str, cum_reward_str, stepcount_str, lr_str]))\n",
        "\n",
        "    # We're also using a learning rate scheduler. Like the gradient clipping,\n",
        "    # this is a nice-to-have but nothing necessary for PPO to work.\n",
        "    scheduler.step()"
      ]
    },
    {
      "cell_type": "markdown",
      "metadata": {
        "id": "UFCv7aIqEOY6"
      },
      "source": [
        "## Results\n",
        "\n",
        "Before the 1M step cap is reached, the algorithm should have reached a max\n",
        "step count of 1000 steps, which is the maximum number of steps before the\n",
        "trajectory is truncated.\n",
        "\n",
        "\n"
      ]
    },
    {
      "cell_type": "code",
      "execution_count": 33,
      "metadata": {
        "id": "t6JAE-oGEOY7",
        "outputId": "f947c327-873e-402e-87b5-c1573bef336a",
        "colab": {
          "base_uri": "https://localhost:8080/"
        }
      },
      "outputs": [
        {
          "output_type": "execute_result",
          "data": {
            "text/plain": [
              "defaultdict(list,\n",
              "            {'reward': [-2.7702159881591797,\n",
              "              -1.811232566833496,\n",
              "              -1.4918771982192993,\n",
              "              -1.1894009113311768,\n",
              "              -1.108892798423767,\n",
              "              -0.6956059336662292,\n",
              "              -0.14838823676109314,\n",
              "              -0.22006577253341675,\n",
              "              -0.22352996468544006,\n",
              "              0.0027769622392952442],\n",
              "             'step_count': [156, 207, 159, 180, 163, 160, 387, 443, 462, 399],\n",
              "             'lr': [0.0003,\n",
              "              0.00029265847744427303,\n",
              "              0.0002713525491562421,\n",
              "              0.00023816778784387096,\n",
              "              0.0001963525491562421,\n",
              "              0.00015,\n",
              "              0.0001036474508437579,\n",
              "              6.183221215612905e-05,\n",
              "              2.86474508437579e-05,\n",
              "              7.341522555726971e-06],\n",
              "             'eval reward': [-2.4470672607421875],\n",
              "             'eval reward (sum)': [-239.81259155273438],\n",
              "             'eval step_count': [97]})"
            ]
          },
          "metadata": {},
          "execution_count": 33
        }
      ],
      "source": [
        "plt.figure(figsize=(10, 10))\n",
        "plt.subplot(2, 2, 1)\n",
        "plt.plot(logs[\"reward\"])\n",
        "plt.title(\"training rewards (average)\")\n",
        "plt.subplot(2, 2, 2)\n",
        "plt.plot(logs[\"step_count\"])\n",
        "plt.title(\"Max step count (training)\")\n",
        "plt.subplot(2, 2, 3)\n",
        "plt.plot(logs[\"eval reward (sum)\"])\n",
        "plt.title(\"Return (test)\")\n",
        "plt.subplot(2, 2, 4)\n",
        "plt.plot(logs[\"eval step_count\"])\n",
        "plt.title(\"Max step count (test)\")\n",
        "plt.show()"
      ]
    },
    {
      "cell_type": "markdown",
      "metadata": {
        "id": "LFvuz6oYEOY7"
      },
      "source": [
        "## Conclusion and next steps\n",
        "\n",
        "In this tutorial, we have learned:\n",
        "\n",
        "1. How to create and customize an environment with :py:mod:`torchrl`;\n",
        "2. How to write a model and a loss function;\n",
        "3. How to set up a typical training loop.\n",
        "\n",
        "If you want to experiment with this tutorial a bit more, you can apply the following modifications:\n",
        "\n",
        "* From an efficiency perspective,\n",
        "  we could run several simulations in parallel to speed up data collection.\n",
        "  Check :class:`~torchrl.envs.ParallelEnv` for further information.\n",
        "\n",
        "* From a logging perspective, one could add a :class:`torchrl.record.VideoRecorder` transform to\n",
        "  the environment after asking for rendering to get a visual rendering of the\n",
        "  inverted pendulum in action. Check :py:mod:`torchrl.record` to\n",
        "  know more.\n",
        "\n",
        "\n"
      ]
    }
  ],
  "metadata": {
    "kernelspec": {
      "display_name": "Python 3",
      "language": "python",
      "name": "python3"
    },
    "language_info": {
      "codemirror_mode": {
        "name": "ipython",
        "version": 3
      },
      "file_extension": ".py",
      "mimetype": "text/x-python",
      "name": "python",
      "nbconvert_exporter": "python",
      "pygments_lexer": "ipython3",
      "version": "3.9.21"
    },
    "colab": {
      "provenance": [],
      "include_colab_link": true
    }
  },
  "nbformat": 4,
  "nbformat_minor": 0
}